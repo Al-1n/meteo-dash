#import libraries
import pandas as pd
import numpy as np


# Setting this option will print all collumns of a dataframe
pd.set_option('display.max_columns', 20)
# Setting this option will print all of the data in a feature
pd.set_option('display.max_colwidth', 1000)


#load the csv
met_df = pd.read_csv('../Data/Meteorite_Landings.csv')


met_df.head()


met_df.info()


met_df.isnull().sum()


#subset the DataFrame to include only observed events
fell_df = met_df[met_df['fall'] == 'Fell']


#check for missing values in the fell category
fell_df.isnull().sum()


#compare the number of observed events to the total number of records

print()
print("Number of observed events:", fell_df.shape[0])
print("Total number of records:", met_df.shape[0])
print("The percentage of observed events is:", round(len(fell_df.index) / len(met_df.index) * 100, 4), '%')
print()





#query the observed records for the earliest event
print(fell_df['year'].min())








#displaying the observed records with missing location
display(fell_df[fell_df[['reclat', 'reclong']].isna().any(axis=1)])


print(fell_df.index[fell_df['name'] == 'Bulls Run'])


fell_df.iloc[146]





#reset the index
fell_df.reset_index(drop = True, inplace =True)


#verifiy if the index matches
print(fell_df.index[fell_df['name'] == 'Bulls Run'])

print(fell_df.iloc[146])





#add approximate coordinates for the 'Bulls Run' metetorite

pd.options.mode.chained_assignment = None  

fell_df.loc[146, 'reclat':'GeoLocation'] = -29.098450, 22.584989, '-29.098450, 22.584989'
fell_df.iloc[146]




#list the observed records with missing location and normalized indexes
display(fell_df[fell_df[['reclat', 'reclong']].isna().any(axis=1)])





#imputing the recommended coordinates (Met. Soc.) for the 'Clohars' meteorite
fell_df.loc[[207], 'reclat':'GeoLocation'] = 47.890000, -4.060000, '47.890000, -4.060000'
#impute the coordinates of the province of origin for the 'Jalanash' meteorite 
fell_df.loc[[408], 'reclat':'GeoLocation'] = 48.300000, 89.500000, '48.300000, 89.500000'
#impute the coordinates of the province of origin for the 'Jemlapur' meteorite ;
fell_df.loc[[413], 'reclat':'GeoLocation'] = 25.300000, 86.500000, '25.3, 86.5'
#impute the coordinates for the 'Maria Linden' meteorite 
fell_df.loc[[584], 'reclat':'GeoLocation'] = -30.250000, 28.483333, '-30.250000, 28.483333'
#impute the Natal south african province coordinates for the 'Natal' meteorite 
fell_df.loc[[679], 'reclat':'GeoLocation'] = -30.57249771, 30.57249771, '-30.57249771, 30.57249771'
#Niger L6 and LL6 share the same coordinates
fell_df.loc[[692], 'reclat':'GeoLocation'] = 13.71455, 9.15856, '13.71455, 9.15856'
fell_df.loc[[693], 'reclat':'GeoLocation'] = 13.71455, 9.15856, '13.71455, 9.15856'
#impute the coordinates for the 'Talampaya' meteorite 
fell_df.loc[[972], 'reclat':'GeoLocation'] = -29.76811, -67.93886, '-29.76811, -67.93886'
#impute the coordinates for the 'Udaipur' meteorite 
fell_df.loc[[1022], 'reclat':'GeoLocation'] = 24.57872, 73.68626, '24.57872, 73.68626'


print(display(fell_df[fell_df[['reclat', 'reclong']].isna().any(axis=1)]))

fell_df.isna().sum()


#Entries with zero values will not work with geopy to generate regional names 
fell_df.loc[fell_df['reclat'] == 0]


#Mason Gully coordinate imputation
fell_df.loc[[595], 'reclat':'GeoLocation'] = -30.453609466, 127.647201538, '-30.453609466, 127.647201538'
fell_df.loc[595]



#get the country and continent name from the coordinates
!pip install geopy pycountry-convert tqdm -q

from geopy.geocoders import Nominatim
from geopy.extra.rate_limiter import RateLimiter
import pycountry_convert as pc

from pprint import pprint
from typing import Tuple

from tqdm import tqdm
tqdm.pandas()

def get_continent_name(continent_code: str) -> str:
    continent_dict = {
        "NA": "North America",
        "SA": "South America",
        "AS": "Asia",
        "AF": "Africa",
        "OC": "Oceania",
        "EU": "Europe",
        "AQ" : "Antarctica"
    }
    return continent_dict[continent_code]

def get_continent(lat: float, lon:float) -> Tuple[str, str]:
    geolocator = Nominatim(user_agent="alin.airinei924@gmail.com", timeout=10)
    geocode = RateLimiter(geolocator.reverse, min_delay_seconds=1)

    location = geocode(f"{lat}, {lon}", language="en")

    # for cases where the location is not found, coordinates are antarctica
    if location is None:
        return "Antarctica", "Antarctica"

    # extract country code
    address = location.raw['address']
    country_code = address['country_code'].upper()

    # get continent code from country code
    continent_code = pc.country_alpha2_to_continent_code(country_code)
    
    #convert code to names
    continent_name = get_continent_name(continent_code)
    country_name = pc.country_alpha2_to_country_name(country_code)
    
    return country_name, continent_name

fell_df[["country", "continent"]] = fell_df.progress_apply(
    lambda x: get_continent(x["reclat"], x["reclong"]), axis=1, result_type="expand")


print(fell_df.columns)
display(fell_df.head())


fell_df.to_csv('./Data/fell.csv')


display(fell_df[fell_df[['mass (g)',]].isna().any(axis=1)])




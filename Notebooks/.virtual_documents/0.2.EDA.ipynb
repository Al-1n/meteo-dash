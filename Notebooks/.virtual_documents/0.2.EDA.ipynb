#import libraries
import pandas as pd
import numpy as np
import seaborn as sns
import matplotlib.pyplot as plt
import matplotlib.ticker as ticker
import plotly.express as px
from plotly.subplots import make_subplots
import plotly.graph_objects as go

# Setting this option will print all collumns of a dataframe
pd.set_option('display.max_columns', 20)
# Setting this option will print all of the data in a feature
pd.set_option('display.max_colwidth', 1000)

pd.options.mode.chained_assignment = None  # default='warn'


#import the data
fell_df = pd.read_csv('../Data/df183_with_country_area.csv', index_col = [0])

fell_df.head()


fell_df["year"].min()


fell_df[fell_df["country"] == "Antarctica"]


fell_df["country"][fell_df["name"] == "Duwun"] = "Korea"
fell_df["continent"][fell_df["name"] == "Duwun"] = "Asia"

fell_df[fell_df["name"] == "Duwun"]


fell_df["country"][fell_df["name"] == "Mauritius"] = "Mauritius"
fell_df["continent"][fell_df["name"] == "Mauritius"] = "Africa"

fell_df[fell_df["name"] == "Mauritius"]


#get the number of observed falls by continent
freq_by_continent = fell_df.groupby(['continent'])['name'].count().sort_values(ascending = False).reset_index(name = 'count')

print()
print('\033[1m' + 'Number of confirmed observations by continent')
print()

freq_by_continent.to_csv('./Data/freq_by_continent.csv')

freq_by_continent




sns.set(rc={"figure.figsize":(14, 6)})

#set the grid style
sns.set(style="whitegrid")

sns.barplot(x = freq_by_continent['count'], y = freq_by_continent['continent'], orient = 'h').set(title = 'Frequency of confirmed observations by continent')


#repeat the above plot in plotly for the dashboard

import plotly.graph_objects as go

#Tableau 10 Pallete
# tableau10 = ['rgb(114, 158, 206)', 'rgb(255, 158, 74)', 'rgb(103, 191, 92)',
#           'rgb(237, 102, 93)', 'rgb(173, 139, 201)', 'rgb(168, 120, 110)',
#           'rgb(237, 151, 202)', 'rgb(162, 162, 162)', 'rgb(205, 204, 93)',
#           'rgb(109, 204, 218)']

# # Tableau 20 Colors
# tableau20 = ['rgb(31, 119, 180)', 'rgb(174, 199, 232)', 'rgb(255, 127, 14)', 'rgb(255, 187, 120)',  
#              'rgb(44, 160, 44)', 'rgb(152, 223, 138)', 'rgb(214, 39, 40)', 'rgb(255, 152, 150)',  
#              'rgb(148, 103, 189)', 'rgb(197, 176, 213)', 'rgb(140, 86, 75)', 'rgb(196, 156, 148)',  
#              'rgb(227, 119, 194)', 'rgb(247, 182, 210)', 'rgb(127, 127, 127)', 'rgb(199, 199, 199)',  
#              'rgb(188, 189, 34)', 'rgb(219, 219, 141)', 'rgb(23, 190, 207)', 'rgb(158, 218, 229)']
             
# # Tableau Color Blind 10
# tableau20blind = ['rgb(0, 107, 164)', 'rgb(255, 128, 14)', 'rgb(171, 171, 171)', 'rgb(89, 89, 89)',
#              'rgb(95, 158, 209)', 'rgb(200, 82, 0)', 'rgb(137, 137, 137)', 'rgb(163, 200, 236)',
#              'rgb(255, 188, 121)', 'rgb(207, 207, 207)']


#Tableau 20
colors = ['rgb(140, 86, 75)', 'rgb(197, 176, 213)', 'rgb(196, 156, 148)', 'rgb(247, 182, 210)',
          'rgb(199, 199, 199)', 'rgb(255, 152, 150)', 'rgb(127, 127, 127)']

fig = go.Figure(go.Bar(
            x=freq_by_continent['count'],
            y=freq_by_continent['continent'],
            orientation='h',
            marker=dict(color=freq_by_continent['continent'].map(dict(zip(freq_by_continent['continent'].unique(), colors))))
        ))

fig.update_layout(
    {'plot_bgcolor': 'rgba(0, 0, 0, 0)'},
    title=dict(text='<b>Frequency of confirmed observations by continent</b>', x=0.5, y=0.9),
    title_font_color = 'rgb(89, 89, 89)',
    xaxis_title='Count',
    yaxis_title='Continent',
    yaxis=dict(autorange="reversed"),
    height=500, width=1000
)

fig.show()


#get the number of observed falls by country
fell_df.groupby(['country'])['name'].nunique().sort_values(ascending=False).head(5)


freq_by_country = fell_df.groupby(['country'])['name'].nunique().sort_values(ascending = False).reset_index(name="count")
print()
print('\033[1m' + 'Total number of countries with confirmed observations' + '\033[0m')
print(freq_by_country.shape[0])
print()
print('\033[1m' + 'Number of countries with less than 3 confirmedd observations' + '\033[0m')
print(freq_by_country[freq_by_country['count'] <= 3].shape[0])





#subset the top 10 countries for most confirmed observations
most_frequent_by_country = freq_by_country.iloc[0:10]

print()
print('\033[1m' + 'The Top 10 Countries with the highest number of confirmed observations' + '\033[0m')
print()

most_frequent_by_country.to_csv('./Data/most_frequent_by_country.csv')

print(most_frequent_by_country)
print()


sns.set(rc={"figure.figsize":(14, 6)})

#set the grid style
sns.set(style="whitegrid")

sns.barplot(x = most_frequent_by_country['count'], y = most_frequent_by_country['country'], orient = 'h').set(title = 'Top 10 Countries with Confirmed Observations')


#recreate the chart above for the dashboard

#Tableau 20
colors = ['rgb(140, 86, 75)', 'rgb(255, 152, 150)', 'rgb(196, 156, 148)', 'rgb(247, 182, 210)', 
          'rgb(127, 127, 127)', 'rgb(148, 103, 189)', 'rgb(199, 199, 199)', 'rgb(197, 176, 213)',  
          'rgb(255, 188, 121)', 'rgb(137, 137, 137)'] 
           

fig = go.Figure(go.Bar(
            x=most_frequent_by_country['count'],
            y=most_frequent_by_country['country'],
            orientation='h',
            marker=dict(color=most_frequent_by_country['country'].map(dict(zip(most_frequent_by_country['country'].unique(), colors))))
        ))
fig.update_layout(
    {'plot_bgcolor': 'rgba(0, 0, 0, 0)'},
    title=dict(text='<b>Top 10 Countries with Confirmed Observations</b>', x=0.5, y=0.9),
    title_font_color = 'rgb(89, 89, 89)',
    xaxis_title='Count',
    yaxis_title='Country',
    yaxis=dict(autorange="reversed"),
    height=500, width=1000
)
fig.show()


grouped_by_region = fell_df.groupby(['continent', 'country'])['name'].count().sort_values(ascending = False).reset_index(name = 'count')

grouped_by_region.head()


fig = px.bar(grouped_by_region.iloc[0:30], x = 'count', y = 'country', 
             hover_data=['continent', 'country', 'count'], color = 'continent', hover_name = 'country', orientation = 'h')
#fig.update_traces(marker = dict(color = 'rgba(50, 171, 96, 0.6)', 
                         #line = dict(color = 'rgba(50, 171, 96, 1.0)', width=1),))
fig.update_layout({'plot_bgcolor': 'rgba(0, 0, 0, 0)'}, yaxis=dict(autorange="reversed"),
                 height=800, width=500)



fig.show()


europe = grouped_by_region[grouped_by_region['continent'] == 'Europe'].sort_values(by='count', ascending=False)
asia = grouped_by_region[grouped_by_region['continent'] == 'Asia'].sort_values(by='count', ascending=False)
north_america = grouped_by_region[grouped_by_region['continent'] == 'North America'].sort_values(by='count', ascending=False)
africa = grouped_by_region[grouped_by_region['continent'] == 'Africa'].sort_values(by='count', ascending=False)
south_america = grouped_by_region[grouped_by_region['continent'] == 'South America'].sort_values(by='count', ascending=False)
oceania = grouped_by_region[grouped_by_region['continent'] == 'Oceania'].sort_values(by='count', ascending=False)
antarctica = grouped_by_region[grouped_by_region['continent'] == 'Antarctica'].sort_values(by='count', ascending=False)



antarctica.head()


europe.head()


freq_by_year = fell_df.groupby(['year'])['name'].nunique().reset_index(name="count")

freq_by_year.head()


#set the grid style
sns.set(style="whitegrid")


sns.lineplot(data=freq_by_year, x = 'year', y = 'count')


freq_by_year_200 = freq_by_year[(freq_by_year['year'] >= 1830) & (freq_by_year['year'] <= 2015)]

freq_by_year_200.to_csv('./Data/freq_by_year_200.csv')

freq_by_year_200.head(20)


freq_by_year_200["count"].mean()


freq_by_year_200['count'].describe()





year_of_max_obs = freq_by_year_200['year'][freq_by_year_200['count'] == max(freq_by_year_200['count'])]

print()
print('\033[1m' + 'The year with the maximum number of observations is: ' + '\033[0m' + str(int(year_of_max_obs)))
print()
print('\033[1m' + 'The number of recorded observations in 1933 was: ' + '\033[0m' + str(int(max(freq_by_year_200['count']))))
print()
print('\033[1m' + 'On average there are about 5 sightings per year. ' + '\033[0m')
print()



#set figure size
sns.set(rc={"figure.figsize":(20, 6)})

#set the grid style
sns.set(style="whitegrid")

#define the plot
ax = sns.lineplot(data=freq_by_year_200, x = 'year', y = 'count', linewidth = 1.5)

#set the title
ax.set_title('Variation of the amount of confirmed events between 1830 and 2015', fontdict={'fontsize': 16, 'fontweight': 'medium'})

#format the ticks to match each decade and rotate the labels
ax.xaxis.set_major_locator(ticker.MultipleLocator(5))
ax.xaxis.set_major_formatter(ticker.ScalarFormatter())
ax.tick_params(axis='x', rotation=90)

plt.show()


#recreate the graph above using plotly for web app compatibility
import plotly.graph_objects as go

# define the figure size
fig = go.Figure()
fig.update_layout(width=1200, height=400)

# set the grid style
fig.update_layout(template='plotly_white')

# define the plot
fig.add_trace(go.Scatter(x=freq_by_year_200['year'], y=freq_by_year_200['count'], mode='lines', line=dict(width=1.5)))

# set the title
fig.update_layout(title=dict(text='<b>Variation of the amount of confirmed events between 1830 and 2015</b>', x=0.5, y=0.9), font=dict(size=16))

# format the ticks to match each decade and rotate the labels
fig.update_xaxes(tickmode='linear', tick0=1830, dtick=10)
fig.update_xaxes(tickangle=90)

fig.show()





#add a 'decade' column to associate each year with it's corresponding decade
#this will provide a 'cleaner' overview of the observation frequency timeline 
fell_df['decade'] = [ int(np.floor(year/10) * 10) for year in np.array(fell_df["year"])]

#group the events by the new 'decade' column
grouped_by_decade = fell_df.groupby(['decade'])['name'].nunique().reset_index(name="count")

#preview the set
grouped_by_decade.tail()


#the evolution of meteor observations grouped by decade
sns.lineplot(data=grouped_by_decade, x = 'decade', y = 'count')


#subset the data to focus on the past two centuries
grouped_by_decade_200 = grouped_by_decade[(grouped_by_decade['decade'] >= 1830) & (grouped_by_decade['decade'] < 2010)]

#preview the set
grouped_by_decade_200.head(20)


#set the grid style
sns.set(style="whitegrid")

#define the plot
ax = sns.lineplot(data=grouped_by_decade_200, x = 'decade', y = 'count', color = '#1E90FF', linewidth = 3)

#format the ticks to match each decade
ax.xaxis.set_major_locator(ticker.MultipleLocator(10))
ax.xaxis.set_major_formatter(ticker.ScalarFormatter())

plt.show()





grouped_by_decade_200.tail()


grouped_by_decade_200 = grouped_by_decade_200.assign(avg_per_year = lambda x: (x['count'] / 10)).round(0)

grouped_by_decade_200.to_csv('./Data/grouped_by_decade_200.csv')


grouped_by_decade_200.head()


#calculate the mean count of observations per decade
grouped_by_decade_200["count"].mean()


#alternative method to calculate the average per year per decade

#group by decade
grouped_by_decade_year = fell_df.groupby(['decade', 'year'])['name'].nunique().reset_index(name="count")
#calculate the average falls per year per decade
grouped_by_decade_year_avg = grouped_by_decade_year.groupby(['decade'])['count'].mean().reset_index(name = 'avg/year')
#apply rounding to the average column
grouped_by_decade_year_avg['avg/year'] = grouped_by_decade_year_avg['avg/year'].round(0)
#subset the data to focus on the past two centuries
grouped_by_decade_year_avg = grouped_by_decade_year_avg[(grouped_by_decade_year_avg['decade'] >= 1830) & (grouped_by_decade_year_avg['decade'] < 2010)]


display(grouped_by_decade_year_avg.head())
grouped_by_decade_year_avg.to_csv('./Data/grouped_by_decade_year_avg.csv')


#plot the yearly avg by decade
#recreate the graph above using plotly for web app compatibility
import plotly.graph_objects as go

# define the figure size
fig = go.Figure()
fig.update_layout(width=1200, height=400)

# set the grid style
fig.update_layout(template='plotly_white')

# define the plot
fig.add_trace(go.Scatter(x=grouped_by_decade_year_avg['decade'], y=grouped_by_decade_year_avg['avg/year'], mode='lines', line=dict(width=1.5)))

# set the title
fig.update_layout(title=dict(text='<b>Average yearly observations per decade</b>', 
                             x=0.5, y=0.9), 
                  font=dict(size=16),
                  shapes=[go.layout.Shape(
                            type='rect',
                            xref='paper',
                            yref='paper',
                            x0=-0.02,
                            y0=-0.2,
                            x1=1.01,
                            y1=1.02,
                            line={'width': 1, 'color': 'black'}
                            )]
                 
                 
                 )

# format the ticks to match each decade and rotate the labels
fig.update_xaxes(tickmode='linear', tick0=1830, dtick=10)
fig.update_xaxes(tickangle=90)

fig.show()


grouped_by_decade_200['avg_per_year'].describe()





grouped_by_decade_200['count'].describe()





fig = px.bar(grouped_by_decade_200, x = 'decade', y = 'avg_per_year',
             hover_data=['decade', 'count', 'avg_per_year'], color='avg_per_year', hover_name = 'decade', 
             color_continuous_scale = 'Tealgrn')

fig.update_layout({
'plot_bgcolor': 'rgba(0, 0, 0, 0)'})

fig.show()






df_1930 = fell_df[fell_df['decade'] == 1930]

df_1930.head()


df_1930.shape[0]


fell_df.shape[0]


print()
print("The percentage of the total events that were observed in 1930 is:", round(len(df_1930.index) / len(fell_df.index) * 100, 4), '%')
print()


grouped_by_region_1930 = df_1930.groupby(['continent', 'country'])['name'].count().sort_values(ascending = False).reset_index(name = 'count')

grouped_by_region_1930.head(15)





grouped_by_continent_1930 = df_1930.groupby(['continent'])['name'].count().sort_values(ascending = False).reset_index(name = 'count')

grouped_by_continent_1930.head(7)


#Tableau 20
colors = ['rgb(140, 86, 75)', 'rgb(197, 176, 213)', 'rgb(196, 156, 148)', 'rgb(247, 182, 210)',
          'rgb(199, 199, 199)', 'rgb(255, 152, 150)', 'rgb(127, 127, 127)']

fig = go.Figure(go.Bar(
            x=grouped_by_continent_1930['count'],
            y=grouped_by_continent_1930['continent'],
            orientation='h',
            marker=dict(color=grouped_by_continent_1930['continent'].map(dict(zip(grouped_by_continent_1930['continent'].unique(), colors))))
        ))

fig.update_layout(
    {'plot_bgcolor': 'rgba(0, 0, 0, 0)'},
    title=dict(text='<b>Number of Observations by Continent in 1930</b>', x=0.5, y=0.9),
    title_font_color = 'rgb(89, 89, 89)',
    xaxis_title='Count',
    yaxis_title='Continent',
    yaxis=dict(autorange="reversed"),
    height=500, width=1000
)


fig.show()





df_1930.to_csv('1930_falls.csv')




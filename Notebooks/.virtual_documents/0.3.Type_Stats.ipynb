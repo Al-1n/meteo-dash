#import libraries
import pandas as pd
import numpy as np
import plotly.express as px

# Setting this option will print all collumns of a dataframe
pd.set_option('display.max_columns', 50)
# Setting this option will print all of the data in a feature
pd.set_option('display.max_colwidth', 1000)

pd.options.mode.chained_assignment = None  # default='warn'


#import the data
fell_df = pd.read_csv('../Data/fell.csv', index_col = [0])

fell_df.head()


#display missing values
display(fell_df.isnull().sum())









#display the rows of the 5 known values to extract the index
display(fell_df.loc[fell_df['name'] == 'Aire-sur-la-Lys'])
display(fell_df.loc[fell_df['name'] == 'Angers'])
display(fell_df.loc[fell_df['name'] == 'Barcelona (stone)'])
display(fell_df.loc[fell_df['name'] == 'Gao-Guenie'])
display(fell_df.loc[fell_df['name'] == 'Gasseltepaoua'])


#imputing the new values 
fell_df.loc[[12], 'mass (g)'] = 6800

fell_df.loc[[37], 'mass (g)'] = 1007

fell_df.loc[[75], 'mass (g)'] = 83.5

fell_df.loc[[319], 'mass (g)'] = 3600

fell_df.loc[[323], 'mass (g)'] = 16.7


#confirm the new count of missing mass values
fell_df['mass (g)'].isnull().sum()





#print the names and count of the "classes" from the NASA/AMS dataset

print()

print("The number of 'recclasses' is: ", fell_df["recclass"].unique().shape[0])

print()

display(np.sort(fell_df["recclass"].unique()))





# create a list of our conditions
conditions = [
    (fell_df['recclass'].isin(['C', 'C2-ung', 'C3-ung', 'CBa', 'CI1','CK4', 'CM2', 'CO3.2', 'CO3.3', 'CO3.4', 'CO3.5', 'CO3.6', 'CO3.7', 'CR2', 'CR2-an', 'CV3',
                               'EH3', 'EH3/4-an', 'EH4', 'EH5', 'EH7-an', 'EL6', 'H', 'H/L3.6', 'H/L3.9', 'H/L4', 'H3', 'H3-4', 'H3-5', 'H3-6', 'H3.4', 'H3.7', 
                               'H3.8', 'H3/4', 'H4', 'H4-5', 'H4-6', 'H4-an', 'H4/5', 'H5', 'H5-6', 'H5-7', 'H5/6', 'H6', 'H?', 'K3', 'L', 'L/LL4', 'L/LL5', 
                               'L/LL6', 'L/LL6-an', 'L3', 'L3-4', 'L3-6', 'L3.4', 'L3.6', 'L3.7', 'L3.7-6', 'L4', 'L4-6', 'L5', 'L5-6', 'L5/6', 'L6', 'LL', 
                               'LL3-6', 'LL3.00', 'LL3.15', 'LL3.2', 'LL3.3', 'LL3.4', 'LL3.6', 'LL3.8', 'LL3.9', 'LL4', 'LL4-6', 'LL5', 'LL6', 'LL7', 'OC',
                               'R3.8-6'])),
    (fell_df['recclass'].isin(['Achondrite-ung', 'Angrite', 'Aubrite', 'Diogenite', 'Diogenite-pm', 'Eucrite', 'Eucrite-br', 'Eucrite-cm', 'Eucrite-mmict', 'Eucrite-pmict', 'Howardite',
                               'Iron, IIAB', 'Iron, IID', 'Iron, IIE', 'Iron, IIE-an', 'Iron, IIF', 'Iron, IIIAB', 'Iron, IIIAB-an', 'Iron, IVA', 'Martian (chassignite)', 
                               'Martian (nakhlite)', 'Martian (shergottite)', 'Mesosiderite', 'Mesosiderite-A1', 'Mesosiderite-A3', 'Mesosiderite-A3/4', 'Mesosiderite-B2',
                               'Pallasite', 'Pallasite, PMG', 'Pallasite, PMG-an'])),
    (fell_df['recclass'].isin(['Acapulcoite', 'Iron, IAB complex', 'Iron, IAB-MG', 'Iron, IAB-sHL', 'Iron, IAB-sLL', 'Iron, IAB-ung', 'Lodranite', 'Ureilite', 'Ureilite-an', 'Winonaite'])),
    (fell_df['recclass'].isin(['Stone-uncl', 'Unknown', 'Iron, ungrouped', 'Iron?', 'Iron'])),
]

# create a list of the values we want to assign for each condition
values = ['Chondrite', 'Achondrite', 'Primitive Achondrite', 'Unclassified']

# create a new column and use np.select to assign values to it using our lists as arguments
#fell_df['Type'] = np.select(conditions, values)
fell_df.insert(loc = 3, column = 'Type', value = np.select(conditions, values))

# display updated DataFrame
print()
display(fell_df.head(6))


#keep only relevant columns

df = fell_df.loc[:, ("name", "id", "Type", "recclass", "mass (g)", "year", "reclat", "reclong", "country", "continent")]

#rename columns
df.rename(columns = {"recclass": "group", "reclat": "latitude", "reclong":"longitude"}, inplace = True)

print(df.shape)

display(df.head())


#since in this project we want to focus on the period with consistent record keeping with need to reduce the dataset to 183 years

#select range
df183 = df[(df['year'] >= 1830) & (df['year'] <= 2013)]

#save the csv for future use
df183.to_csv('./Data/df183.csv')

print(df183.shape)

#display the first records
display(df183.head())


#Take a quick look at the year 2013
df183[df183['year'] == 2013]








#group by type and group to show classification stats
grouped_by_type_group = df183.groupby(['Type', 'group'])['name'].count().reset_index(name = 'count')

grouped_by_type_group['percentage[%]'] = np.around(100 * grouped_by_type_group['count']  / grouped_by_type_group['count'].sum(), decimals = 2)

sorted_groups = grouped_by_type_group.sort_values(by = "percentage[%]", ascending = False).reset_index(drop = True)

sorted_groups.head(15)


df183['mass (g)'].count()


#group by type and group and calculate the max mass for each group
grouped_by_TG_maxMASS = df183.groupby(['Type', 'group']).agg( count = ('name', 'count'),
                                                                     max_mass_grams = ('mass (g)', 'max')).reset_index()

grouped_by_TG_maxMASS['percentage[%]'] = np.around(100 * grouped_by_TG_maxMASS['count']  / grouped_by_TG_maxMASS['count'].sum(), decimals = 2)

grouped_by_TG_maxMASS_sorted = grouped_by_TG_maxMASS.sort_values(by = "percentage[%]", ascending = False).reset_index(drop = True)

grouped_by_TG_maxMASS_sorted['max_mass_Kilograms'] = np.around(grouped_by_TG_maxMASS_sorted['max_mass_grams'] / 1000.0, decimals = 2)

grouped_by_TG_maxMASS_sorted['max_mass_Pounds'] = np.around(grouped_by_TG_maxMASS_sorted['max_mass_grams'] / 453.59237, decimals = 2)

grouped_by_TG_maxMASS_sorted.head(15)


# #import plotly express
# import plotly.express as px

# #create a scatter plot of the sorted groups differentiated by color
# fig = px.scatter(sorted_groups, x="group", y="percentage[%]", color="Type", size=[11]*len(sorted_groups), 
#                  color_discrete_sequence=px.colors.qualitative.Set2)

# #customize the plot
# fig.update_layout(xaxis={'tickmode': 'array', 'tickvals': sorted_groups['Type'], 'tickangle': 30}, 
#                  title="The percentage of each type of meteorite")
# #display the plot
# fig.show()


#create a dataframe that summarizes the most frequent groups for each type of meteorite together with the total count and percentage of the total

pd.concat([sorted_groups[np.logical_and(sorted_groups['Type'] == 'Chondrite', 
                                       sorted_groups['count'] == int(sorted_groups[sorted_groups['Type'] == 'Chondrite']['count'].max()))],
          sorted_groups[np.logical_and(sorted_groups['Type'] == 'Achondrite', 
                                       sorted_groups['count'] == int(sorted_groups[sorted_groups['Type'] == 'Achondrite']['count'].max()))],
          sorted_groups[np.logical_and(sorted_groups['Type'] == 'Primitive Achondrite', 
                                       sorted_groups['count'] == int(sorted_groups[sorted_groups['Type'] == 'Primitive Achondrite']['count'].max()))],
          sorted_groups[np.logical_and(sorted_groups['Type'] == 'Unclassified', 
                                       sorted_groups['count'] == int(sorted_groups[sorted_groups['Type'] == 'Unclassified']['count'].max()))]
          ]).reset_index(drop = True)





#count the total observed ordinary chondrites
count_OrdCh = df183[df183['group'].isin(['H', 'H/L3.6', 'H/L3.9', 'H/L4', 'H3', 'H3-4', 'H3-5', 'H3-6', 'H3.4', 'H3.7', 
                               'H3.8', 'H3/4', 'H4', 'H4-5', 'H4-6', 'H4-an', 'H4/5', 'H5', 'H5-6', 'H5-7', 'H5/6', 'H6', 'H?', 'L', 'L/LL4', 'L/LL5', 
                               'L/LL6', 'L/LL6-an', 'L3', 'L3-4', 'L3-6', 'L3.4', 'L3.6', 'L3.7', 'L3.7-6', 'L4', 'L4-6', 'L5', 'L5-6', 'L5/6', 'L6', 'LL', 
                               'LL3-6', 'LL3.00', 'LL3.15', 'LL3.2', 'LL3.3', 'LL3.4', 'LL3.6', 'LL3.8', 'LL3.9', 'LL4', 'LL4-6', 'LL5', 'LL6', 'LL7'])].shape[0]

#count the total observed carbonaceous chondrites
count_Carb = df183[df183['group'].isin(['C', 'C2-ung', 'C3-ung', 'CBa', 'CI1','CK4', 'CM2', 
                                         'CO3.2', 'CO3.3', 'CO3.4', 'CO3.5', 'CO3.6', 'CO3.7', 'CR2', 'CR2-an', 'CV3'])].shape[0]

#count the total observed enstatite chondrites
count_Enst = df183[df183['group'].isin(['EH3', 'EH3/4-an', 'EH4', 'EH5', 'EH7-an', 'EL6'])].shape[0]

#count the total observed 'Other' chondrites
count_Other = df183[df183['group'].isin(['K3', 'OC', 'R3.8-6'])].shape[0]

#count the total name of chondrites
count_Chondrites = df183[df183['Type'].str.contains('Chondrite')].shape[0]


print()
print('\033[1m' + 'Various metrics for the undifferentiated(Chondritic) meteorites:' + '\033[0m')
print()
print("Total Chondrites: ", count_Chondrites)
print()
print("Total ordinary chondrites: ", count_OrdCh) 
print()
print("Total carbonaceous chondrites: ", count_Carb) 
print()
print("Total enstatite chondrites: ", count_Enst) 
print()
print("Total 'Other' chondrites: ", count_Other) 
print()
#print("The percentage of L-Chondrites out of ordinary chondrites:", round(count_L / count_OC * 100, 2), '%')
print()
print("The percentage of Ordinary Chondrites out of all chondrites:", round(count_OrdCh / count_Chondrites * 100, 2), '%')
print()
print("The percentage of Ordinary Chondrites out of all meteorites:", round(count_OrdCh / len(df183.index) * 100, 2), '%')
print()
print("The percentage of Chondrites out of all meteorites:", round(len(df183[df183['Type'] == 'Chondrite']) / len(df183.index) * 100, 2), '%')
print()
#print("The percentage of L-Chondrites out of all meteorites:", round(count_L / len(df183.index) * 100, 2), '%')
print()
print("The percentage of Achondrites:", round(len(df183[df183['Type'] == 'Achondrite']) / len(df183.index) * 100, 2), '%')
print()
print("The percentage of Primitive Achondrites:", round(len(df183[df183['Type'] == 'Primitive Achondrite']) / len(df183.index) * 100, 2), '%')
print()
print("The percentage of unclassified meteorites:", round(len(df183[df183['Type'] == 'Unclassified']) / len(df183.index) * 100, 2), '%')
print()



#verify that there are only four unique types in the grouped set
grouped_by_type_group['Type'].unique()





#group the records by type
grouped_by_type = df183.groupby(['Type'])['name'].count().reset_index(name = 'count')

#add a percentage column
grouped_by_type['percentage[%]'] = np.around((100 * grouped_by_type['count']  / grouped_by_type['count'].sum()), decimals=2)

#sort the values
grouped_by_type = grouped_by_type.sort_values(by = "percentage[%]", ascending = False)

#display the percentages for each meteorite type as a dataframe
print()
print('\033[1m' + 'Count and percentages for each meteorite type' + '\033[0m')
print()
display(grouped_by_type.reset_index(drop = True).head())

#save the csv for future use
grouped_by_type.to_csv('./Data/type_percentage.csv')



#import plotly go
import plotly.graph_objs as go

#create a pie chart to display the four meteorite types and their percentages
fig = go.Figure(data=[go.Pie(labels=grouped_by_type['Type'], 
                             values=grouped_by_type['percentage[%]'], 
                             hole=.4, 
                             marker=dict(colors=['rgb(102,194,165)', 'rgb(252,141,98)', 'rgb(141,160,203)', 'rgb(231,138,195)'], 
                                         line=dict(color='rgb(89, 89, 89)', width=1)),
                             opacity=0.9,
                             pull=[0.05, 0.05, 0.4, 0.4])])
#customize the plot
fig.update_layout(
    title="Percentage of Meteorite Types",
    height=700,
    width=700,
    margin=dict(t=35, b=10, l=0, r=5)
    
)

#display the plot
fig.show()





df183[df183['Type'] == 'Chondrite'].sort_values(by = 'mass (g)', ascending = False).reset_index(drop = True).head(10)


#summary stats for the L chondrites

# define the patterns to match
pattern1 = r'^L[^L]*$'  # matches records that start with "L" and don't have any more "L"s
pattern2 = r'^L/LL[^L]*$'  # matches records that start with "L/LL"
pattern3 = r'^L*$'  # matches records that only contain "L"s

L_cond = pd.concat([df183[df183['group'].str.contains(pattern1)], df183[df183['group'].str.contains(pattern2)],
df183[df183['group'].str.contains(pattern3)]])

L_cond[['mass (g)', 'year', 'latitude', 'longitude']].describe().round(2)





#separate the L chondrites from the main dataframe
L_chondrites = df183[df183['group'].isin(['L', 'L/LL4', 'L/LL5','L/LL6', 'L/LL6-an', 'L3', 'L3-4', 'L3-6',
                                         'L3.4', 'L3.6', 'L3.7', 'L3.7-6', 'L4', 'L4-6', 'L5', 'L5-6', 'L5/6', 'L6'])]

#display the summary stats for the L chondrites
print()
display(L_chondrites[['mass (g)', 'year', 'latitude', 'longitude']].describe().round(2))

#take a look at the newly created frame
print()
display(L_chondrites.sort_values(by = 'mass (g)', ascending = False).head())








#summary stats for the LL chondrites

#separate the LL chondrites from the main dataframe
LL_chondrites = df183[df183['group'].isin(['LL', 'LL3-6', 'LL3.00', 'LL3.15', 'LL3.2', 
                                           'LL3.3', 'LL3.4', 'LL3.6', 'LL3.8', 'LL3.9', 
                                           'LL4', 'LL4-6', 'LL5', 'LL6', 'LL7'])]

#display the summary stats for the LL chondrites including only relevant fields
print()
display(LL_chondrites[['mass (g)', 'year', 'latitude', 'longitude']].describe().round(2))

#take a look at the newly created frame
print()
display(LL_chondrites.sort_values(by = 'mass (g)', ascending = False).head())





#summary stats for the Chondrite meteorite type including only relevant fields
print()
display(df183[df183['Type'] == 'Chondrite'][['mass (g)', 'year', 'latitude', 'longitude']].describe().round(2))


#group  chondrites by type and group and calculate the max mass for each group
chondrite_groups = df183[df183['Type'] == 'Chondrite'].groupby(['Type', 'group']).agg( count = ('name', 'count'),
                                                                     max_mass_grams = ('mass (g)', 'max')).reset_index()

#
chondrite_groups['percentage[%]'] = np.around(100 * chondrite_groups['count']  / chondrite_groups['count'].sum(), decimals = 2)

chondrite_groups_sorted = chondrite_groups.sort_values(by = "percentage[%]", ascending = False).reset_index(drop = True)

chondrite_groups_sorted['max_mass_Kilograms'] = np.around(chondrite_groups_sorted['max_mass_grams'] / 1000.0, decimals = 2)

chondrite_groups_sorted['max_mass_Pounds'] = np.around(chondrite_groups_sorted['max_mass_grams'] / 453.59237, decimals = 2)

print()
display(chondrite_groups_sorted.head(10))

#save the csv for future use
chondrite_groups_sorted.to_csv('./Data/chondrite_groups_sorted.csv')





#find the count of unique chondrite groups
print()
print("there are " + str(chondrite_groups_sorted['group'].unique().shape[0]) + " unique chondrite groups")
print()


chondrite_groups_sorted['count'].info()



#define the color list to be used in the graph
# colors = px.colors.qualitative.T10 + px.colors.qualitative.Set2 + px.colors.qualitative.Set3

color_list = ['rgb(169, 85, 58)', 'rgb(122, 112, 108)', 'rgb(196, 116, 87)', 'rgb(194, 153, 143)', 'rgb(204, 140, 122)', 
          'rgb(174, 98, 78)', 'rgb(155, 124, 107)', 'rgb(228, 158, 124)', 'rgb(214, 133, 98)', 'rgb(189, 91, 64)', 
          'rgb(177, 175, 182)', 'rgb(204, 100, 76)', 'rgb(172, 121, 93)', 'rgb(169, 165, 166)', 'rgb(129, 84, 76)', 
          'rgb(145, 50, 28)', 'rgb(184, 132, 68)', 'rgb(132, 156, 180)', 'rgb(121, 164, 194)', 'rgb(230, 176, 13)', 
          'rgb(142, 104, 40)', 'rgb(84, 140, 178)', 'rgb(192, 168, 149)', 'rgb(218, 190, 124)', 'rgb(143, 167, 188)', 
          'rgb(141, 129, 120)', 'rgb(140, 175, 207)', 'rgb(181, 142, 78)', 'rgb(184, 158, 133)', 'rgb(177, 169, 173)', 
          'rgb(166, 121, 98)', 'rgb(183, 141, 42)', 'rgb(113, 127, 138)', 'rgb(185, 119, 4)', 'rgb(199, 155, 34)', 
          'rgb(165, 122, 40)', 'rgb(201, 136, 4)', 'rgb(175, 141, 100)', 'rgb(164, 173, 188)', 'rgb(199, 162, 96)', 
          'rgb(98, 107, 125)', 'rgb(135, 148, 168)', 'rgb(169, 159, 31)', 'rgb(200, 135, 119)', 'rgb(228, 140, 135)', 
          'rgb(244, 212, 52)', 'rgb(132, 124, 164)', 'rgb(169, 118, 88)', 'rgb(208, 158, 122)', 'rgb(173, 149, 131)', 
          'rgb(192, 171, 151)', 'rgb(157, 104, 80)', 'rgb(217, 165, 152)', 'rgb(193, 146, 111)', 'rgb(239, 163, 122)', 
          'rgb(217, 134, 78)', 'rgb(148, 133, 121)', 'rgb(210, 129, 116)', 'rgb(100, 125, 109)', 'rgb(157, 108, 132)', 
          'rgb(205, 115, 98)', 'rgb(215, 112, 47)', 'rgb(173, 80, 53)', 'rgb(212, 92, 60)', 'rgb(132, 184, 212)', 
          'rgb(131, 123, 115)', 'rgb(205, 182, 135)', 'rgb(186, 87, 29)', 'rgb(150, 123, 42)', 'rgb(181, 145, 51)', 
          'rgb(145, 52, 19)', 'rgb(149, 157, 162)', 'rgb(174, 66, 17)', 'rgb(114, 135, 152)', 'rgb(234, 149, 83)', 
          'rgb(153, 154, 44)', 'rgb(190, 159, 92)', 'rgb(215, 124, 54)', 'rgb(204, 182, 98)', 'rgb(155, 152, 104)', 
          'rgb(175, 170, 179)', 'rgb(194, 164, 71)', 'rgb(199, 110, 44)', 'rgb(154, 174, 191)', 'rgb(189, 127, 15)', 
          'rgb(187, 112, 126)', 'rgb(182, 95, 86)', 'rgb(98, 108, 148)', 'rgb(84, 168, 98)', 'rgb(182, 68, 116)', 
          'rgb(196, 140, 174)', 'rgb(143, 144, 148)', 'rgb(216, 139, 118)', 'rgb(183, 176, 177)', 'rgb(196, 125, 94)', 
          'rgb(224, 169, 144)', 'rgb(146, 173, 175)', 'rgb(125, 130, 136)', 'rgb(128, 163, 164)', 'rgb(186, 134, 118)', 
          'rgb(229, 147, 148)', 'rgb(178, 163, 155)', 'rgb(200, 165, 140)', 'rgb(172, 85, 57)', 'rgb(199, 90, 89)', 
          'rgb(166, 108, 27)', 'rgb(149, 108, 86)', 'rgb(152, 122, 112)', 'rgb(161, 188, 187)', 'rgb(229, 111, 96)', 
          'rgb(221, 164, 98)', 'rgb(158, 148, 172)', 'rgb(132, 180, 188)', 'rgb(108, 156, 156)']

#convert lists to numpy array
arr_big = np.array(color_list)

 
#indices of elements to be removed
remove_idx = [104, 30, 47, 50, 15, 97, 106, 29, 80, 93, 69, 77, 76, 25, 7, 57, 0, 103, 68, 24, 96, 26, 16, 5, 44, 3, 
              13, 33, 83, 108, 107, 2, 41, 43]


#use numpy.delete() to remove elements
new_arr = np.delete(arr_big, remove_idx)


#convert numpy array back to list
new_color_list = new_arr.tolist()

colors = list(reversed(new_color_list))

from random import shuffle

shuffle(colors)


#verify the number of colors
len(colors)


customdata_set = list(chondrite_groups_sorted[['count','percentage[%]', 'group']].to_numpy())

customdata_set = np.vstack ((customdata_set, [838, 100, 'Chondrites']))

print(customdata_set[78:80])


df183[df183['Type'] == 'Chondrite']['mass (g)'].max()


# #shuffle colors 
# shuffle(colors)


#save the shuffled colors to prevent remixing on re-run 
chondrite_colors = ['rgb(122, 112, 108)', 'rgb(189, 91, 64)', 'rgb(199, 155, 34)', 'rgb(184, 158, 133)', 'rgb(157, 108, 132)', 
                    'rgb(166, 108, 27)', 'rgb(172, 121, 93)', 'rgb(129, 84, 76)', 'rgb(234, 149, 83)', 'rgb(173, 149, 131)', 
                    'rgb(214, 133, 98)', 'rgb(157, 104, 80)', 'rgb(155, 124, 107)', 'rgb(98, 108, 148)', 'rgb(100, 125, 109)', 
                    'rgb(187, 112, 126)', 'rgb(200, 165, 140)', 'rgb(183, 141, 42)', 'rgb(155, 152, 104)', 'rgb(149, 157, 162)', 
                    'rgb(196, 125, 94)', 'rgb(98, 107, 125)', 'rgb(131, 123, 115)', 'rgb(114, 135, 152)', 'rgb(113, 127, 138)', 
                    'rgb(229, 147, 148)', 'rgb(230, 176, 13)', 'rgb(199, 110, 44)', 'rgb(224, 169, 144)', 'rgb(121, 164, 194)', 
                    'rgb(181, 142, 78)', 'rgb(215, 112, 47)', 'rgb(216, 139, 118)', 'rgb(218, 190, 124)', 'rgb(128, 163, 164)', 
                    'rgb(132, 180, 188)', 'rgb(132, 156, 180)', 'rgb(208, 158, 122)', 'rgb(221, 164, 98)', 'rgb(205, 115, 98)', 
                    'rgb(108, 156, 156)', 'rgb(177, 175, 182)', 'rgb(192, 168, 149)', 'rgb(165, 122, 40)', 'rgb(204, 100, 76)', 
                    'rgb(145, 52, 19)', 'rgb(182, 68, 116)', 'rgb(244, 212, 52)', 'rgb(164, 173, 188)', 'rgb(158, 148, 172)', 
                    'rgb(204, 140, 122)', 'rgb(193, 146, 111)', 'rgb(194, 164, 71)', 'rgb(153, 154, 44)', 'rgb(175, 141, 100)', 
                    'rgb(142, 104, 40)', 'rgb(182, 95, 86)', 'rgb(143, 144, 148)', 'rgb(186, 87, 29)', 'rgb(173, 80, 53)', 
                    'rgb(132, 124, 164)', 'rgb(217, 165, 152)', 'rgb(205, 182, 135)', 'rgb(212, 92, 60)', 'rgb(217, 134, 78)', 
                    'rgb(189, 127, 15)', 'rgb(84, 168, 98)', 'rgb(196, 140, 174)', 'rgb(148, 133, 121)', 'rgb(169, 159, 31)', 
                    'rgb(204, 182, 98)', 'rgb(239, 163, 122)', 'rgb(174, 66, 17)', 'rgb(84, 140, 178)', 'rgb(178, 163, 155)',
                    'rgb(186, 134, 118)', 'rgb(201, 136, 4)', 'rgb(132, 184, 212)', 'rgb(199, 162, 96)', 'rgb(229, 111, 96)']


chondrite_groups_sorted['count'].sum()


import plotly.graph_objects as go

# Create a dictionary that maps the values in the column to colors.
color_map = {value: color for value, color in zip(chondrite_groups_sorted['group'].values, colors)}

# Create the treemap figure
fig = px.treemap(chondrite_groups_sorted, 
                 path=[px.Constant('Chondrites'), 'group'], 
                 values='count', 
                 color='group', 
                 color_discrete_map = color_map,
                 custom_data = [chondrite_groups_sorted['count'], chondrite_groups_sorted['percentage[%]'], chondrite_groups_sorted['max_mass_grams']],
                 hover_data=["count"]
                                  
                )

fig.update_traces(hoverinfo = "text", 
                  marker=dict(cornerradius=5),
                  opacity = 0.8,
                 hovertemplate = "<br>".join([
                     "%{label}",
                     "<br>",
                     "Count: %{customdata[0]}",
                     "Percent: %{customdata[1]}",
                     "Maximum Mass in grams: %{customdata[2]}"
    ]))
fig.data[0].customdata[79] = [838, 100, 4000000.0, 'Chondrites']

print(fig.data[0].customdata[79])
# Show the figure
fig.show()



import plotly.graph_objs as go

# Create sample data
x = ['Jan', 'Feb', 'Mar', 'Apr', 'May', 'Jun']
y0 = [1, 3, 2, 5, 4, 7]
y1 = [2, 4, 3, 6, 5, 8]
y2 = [3, 5, 4, 7, 6, 9]

# Create the stacked area chart
fig = go.Figure()
fig.add_trace(go.Scatter(x=x, y=y0, mode='lines', stackgroup='one', name='Group 1'))
fig.add_trace(go.Scatter(x=x, y=y1, mode='lines', stackgroup='one', name='Group 2'))
fig.add_trace(go.Scatter(x=x, y=y2, mode='lines', stackgroup='one', name='Group 3'))

# Add layout information
fig.update_layout(title='Stacked Area Chart Example',
                  xaxis_title='X Axis Title',
                  yaxis_title='Y Axis Title',
                  hovermode='x unified',
                  template='plotly_dark')

# Show the figure
fig.show()





#summary stats for achondrites
print()
display(df183[df183['Type'] == 'Achondrite'].describe().round(2))


#group  achondrites by type and group and calculate the max mass for each group
achondrite_groups = df183[df183['Type'] == 'Achondrite'].groupby(['Type', 'group']).agg( count = ('name', 'count'),
                                                                     max_mass_grams = ('mass (g)', 'max')).reset_index()

#
achondrite_groups['percentage[%]'] = np.around(100 * achondrite_groups['count']  / achondrite_groups['count'].sum(), decimals = 2)

achondrite_groups_sorted = achondrite_groups.sort_values(by = "percentage[%]", ascending = False).reset_index(drop = True)

achondrite_groups_sorted['max_mass_Kilograms'] = np.around(achondrite_groups_sorted['max_mass_grams'] / 1000.0, decimals = 2)

achondrite_groups_sorted['max_mass_Pounds'] = np.around(achondrite_groups_sorted['max_mass_grams'] / 453.59237, decimals = 2)

print()
print(achondrite_groups_sorted.shape[0])
display(achondrite_groups_sorted.head(10))

#save the csv for future use
achondrite_groups_sorted.to_csv('./Data/achondrite_groups_sorted.csv')


achondrite_groups_sorted['max_mass_grams'].describe().round(2)


#color shuffler 
# shuffle(colors)
# achondrite_colors = colors
# print(achondrite_colors)


achondrite_colors = ['rgb(218, 190, 124)', 'rgb(121, 164, 194)', 'rgb(149, 157, 162)', 'rgb(196, 125, 94)', 'rgb(132, 124, 164)', 
                     'rgb(215, 112, 47)', 'rgb(145, 52, 19)', 'rgb(186, 87, 29)', 'rgb(142, 104, 40)', 'rgb(84, 168, 98)', 
                     'rgb(100, 125, 109)', 'rgb(84, 140, 178)', 'rgb(229, 111, 96)', 'rgb(244, 212, 52)', 'rgb(178, 163, 155)', 
                     'rgb(177, 175, 182)', 'rgb(205, 115, 98)', 'rgb(132, 180, 188)', 'rgb(234, 149, 83)', 'rgb(143, 144, 148)', 
                     'rgb(172, 121, 93)', 'rgb(204, 140, 122)', 'rgb(239, 163, 122)', 'rgb(182, 68, 116)', 'rgb(194, 164, 71)',
                     'rgb(201, 136, 4)', 'rgb(175, 141, 100)', 'rgb(129, 84, 76)', 'rgb(204, 100, 76)', 'rgb(187, 112, 126)',
                     'rgb(212, 92, 60)', 'rgb(173, 149, 131)', 'rgb(157, 108, 132)', 'rgb(98, 107, 125)', 'rgb(217, 165, 152)', 
                     'rgb(186, 134, 118)', 'rgb(157, 104, 80)', 'rgb(192, 168, 149)', 'rgb(169, 159, 31)', 'rgb(132, 184, 212)', 
                     'rgb(174, 66, 17)', 'rgb(204, 182, 98)', 'rgb(208, 158, 122)', 'rgb(184, 158, 133)', 'rgb(229, 147, 148)', 
                     'rgb(114, 135, 152)', 'rgb(193, 146, 111)', 'rgb(221, 164, 98)', 'rgb(199, 110, 44)', 'rgb(128, 163, 164)', 
                     'rgb(165, 122, 40)', 'rgb(196, 140, 174)', 'rgb(148, 133, 121)', 'rgb(98, 108, 148)', 'rgb(108, 156, 156)', 
                     'rgb(224, 169, 144)', 'rgb(155, 124, 107)', 'rgb(200, 165, 140)', 'rgb(155, 152, 104)', 'rgb(113, 127, 138)', 
                     'rgb(216, 139, 118)', 'rgb(122, 112, 108)', 'rgb(199, 155, 34)', 'rgb(132, 156, 180)', 'rgb(173, 80, 53)', 
                     'rgb(189, 127, 15)', 'rgb(166, 108, 27)', 'rgb(217, 134, 78)', 'rgb(183, 141, 42)', 'rgb(214, 133, 98)', 
                     'rgb(153, 154, 44)', 'rgb(131, 123, 115)', 'rgb(230, 176, 13)', 'rgb(205, 182, 135)', 'rgb(158, 148, 172)', 
                     'rgb(182, 95, 86)', 'rgb(164, 173, 188)', 'rgb(199, 162, 96)', 'rgb(189, 91, 64)', 'rgb(181, 142, 78)']


#create a pie chart using plotly go
fig = go.Figure(data=[go.Pie(labels=achondrite_groups_sorted['group'], 
                             values=achondrite_groups_sorted['count'], 
                             hole=.4,                             
                             marker=dict(colors = achondrite_colors, 
                                         line=dict(color='rgb(89, 89, 89)', width=1)),
                             opacity=0.9)])

# customize hovertemplate to display all three columns
fig.update_traces(hovertemplate='Group: %{label}<br>Count: %{value}<br>Percentage: %{percent}')

#customize layout
fig.update_layout(
    title="Percentage of Achondrites by Group",
    height=600,
    width=900,
    margin=dict(t=35, b=10, l=0, r=5)
    
)

#display the graph
print()
fig.show()
print()





achondrite_groups_sorted['count'].sum()


import plotly.graph_objects as go

# Create a dictionary that maps the values in the column to colors.
color_map = {value: color for value, color in zip(achondrite_groups_sorted['group'].values, achondrite_colors)}



# Create the treemap figure
fig = px.treemap(achondrite_groups_sorted, 
                 path=[px.Constant('Achondrites'), 'group'], 
                 values='count', 
                 color='group',
                 color_discrete_sequence=['rgb(196, 76, 92)'],
                 color_discrete_map = color_map,
                 custom_data = [achondrite_groups_sorted['count'], achondrite_groups_sorted['percentage[%]'], achondrite_groups_sorted['max_mass_grams']],
                 hover_data=["count"]
                                  
                )

fig.update_traces(hoverinfo = "text", 
                  marker=dict(cornerradius=5),
                  opacity = 0.9,
                 hovertemplate = "<br>".join([
                     "%{label}",
                     "<br>",
                     "Count: %{customdata[0]}",
                     "Percent: %{customdata[1]}",
                     "Maximum Mass in grams: %{customdata[2]}"
    ]))
fig.data[0].customdata[28] = [104, 100, 23000000.00, 'Achondrites']

print(fig.data[0].customdata[28])
# Show the figure
fig.show()



#create a separate dataframe for achondrites
achondrites = df183[df183['Type'] == 'Achondrite'].sort_values(by = 'mass (g)', ascending = False).reset_index(drop = True)

print()
display(achondrites.head(5))


#find the count of unique achondrite groups
achondrites['group'].unique().shape[0]





#group  achondrites by type and group and calculate the max mass for each group
primitive_achondrite_groups = df183[df183['Type'] == 'Primitive Achondrite'].groupby(['Type', 'group']).agg( count = ('name', 'count'),
                                                                     max_mass_grams = ('mass (g)', 'max')).reset_index()

#
primitive_achondrite_groups['percentage[%]'] = np.around(100 * primitive_achondrite_groups['count']  / primitive_achondrite_groups['count'].sum(), decimals = 2)

primitive_achondrite_groups_sorted = primitive_achondrite_groups.sort_values(by = "percentage[%]", ascending = False).reset_index(drop = True)

primitive_achondrite_groups_sorted['max_mass_Kilograms'] = np.around(primitive_achondrite_groups_sorted['max_mass_grams'] / 1000.0, decimals = 2)

primitive_achondrite_groups_sorted['max_mass_Pounds'] = np.around(primitive_achondrite_groups_sorted['max_mass_grams'] / 453.59237, decimals = 2)

print()
print(primitive_achondrite_groups_sorted.shape[0])
display(primitive_achondrite_groups_sorted)

#save the csv for future use
primitive_achondrite_groups_sorted.to_csv('./Data/primitive_groups_sorted.csv')


shuffle(colors)


primitive_colors = colors


primitive_achondrite_groups_sorted.describe().round(2)


primitive_achondrite_groups_sorted['count'].sum()


import plotly.graph_objects as go

# Create a dictionary that maps the values in the column to colors.
color_map = {value: color for value, color in zip(primitive_achondrite_groups_sorted['group'].values, achondrite_colors)}



# Create the treemap figure
fig = px.treemap(primitive_achondrite_groups_sorted, 
                 path=[px.Constant('Primitive Achondrites'), 'group'], 
                 values='count', 
                 color='group',
                 color_discrete_sequence=['rgb(185, 148, 174)'],
                 color_discrete_map = color_map,
                 custom_data = [primitive_achondrite_groups_sorted['count'], primitive_achondrite_groups_sorted['percentage[%]'], primitive_achondrite_groups_sorted['max_mass_grams']],
                 hover_data=["count"]
                                  
                )

fig.update_traces(hoverinfo = "text", 
                  marker=dict(cornerradius=5),
                  opacity = 0.9,
                 hovertemplate = "<br>".join([
                     "%{label}",
                     "<br>",
                     "Count: %{customdata[0]}",
                     "Percent: %{customdata[1]}",
                     "Maximum Mass in grams: %{customdata[2]}"
    ]))
fig.data[0].customdata[10] = [19, 100, 150200.0, 'Primitive Achondrites']

print(fig.data[0].customdata[10])
# Show the figure
fig.show()


#create a pie chart using plotly go
fig = go.Figure(data=[go.Pie(labels=primitive_achondrite_groups_sorted['group'], 
                             values=primitive_achondrite_groups_sorted['count'], 
                             hole=.4,                             
                             marker=dict(colors = primitive_colors, 
                                         line=dict(color='rgb(89, 89, 89)', width=1)),
                             opacity=0.9)])

# customize hovertemplate to display all three columns
fig.update_traces(hovertemplate='Group: %{label}<br>Count: %{value}<br>Percentage: %{percent}')

#customize layout
fig.update_layout(
    title="Percentage of Primitive Achondrites by Group",
    height=600,
    width=900,
    margin=dict(t=35, b=10, l=0, r=5)
    
)

#display the graph
print()
fig.show()
print()





df183[df183['group'] == 'Iron?']


df183.loc[[146], 'group'] = 'Iron'


df183.loc[146]


df183[df183['group'] == 'Iron, ungrouped']





#Merging the 'Iron' and 'Iron, ungrouped' meteorites into one group
df183.loc[[69], 'group'] = 'Iron'
df183.loc[[682], 'group'] = 'Iron'
df183.loc[[690], 'group'] = 'Iron'
df183.loc[[937], 'group'] = 'Iron'


#group  achondrites by type and group and calculate the max mass for each group
unclassified_groups = df183[df183['Type'] == 'Unclassified'].groupby(['Type', 'group']).agg( count = ('name', 'count'),
                                                                     max_mass_grams = ('mass (g)', 'max')).reset_index()

#
unclassified_groups['percentage[%]'] = np.around(100 * unclassified_groups['count']  / unclassified_groups['count'].sum(), decimals = 2)

unclassified_groups_sorted = unclassified_groups.sort_values(by = "percentage[%]", ascending = False).reset_index(drop = True)

unclassified_groups_sorted['max_mass_Kilograms'] = np.around(unclassified_groups_sorted['max_mass_grams'] / 1000.0, decimals = 2)

unclassified_groups_sorted['max_mass_Pounds'] = np.around(unclassified_groups_sorted['max_mass_grams'] / 453.59237, decimals = 2)

print()
print(unclassified_groups_sorted.shape[0])
display(unclassified_groups_sorted.head(10))

#save the csv for future use
unclassified_groups_sorted.to_csv('./Data/unclassified_groups_sorted.csv')


unclassified_groups_sorted.describe().round(2)


unclassified_groups_sorted['count'].sum()


import plotly.graph_objects as go

# Create a dictionary that maps the values in the column to colors.
color_map = {value: color for value, color in zip(unclassified_groups_sorted['group'].values, achondrite_colors)}



# Create the treemap figure
fig = px.treemap(unclassified_groups_sorted, 
                 path=[px.Constant('Unclassified'), 'group'], 
                 values='count', 
                 color='group',
                 color_discrete_sequence=['rgb(241, 132, 76)'],
                 color_discrete_map = color_map,
                 custom_data = [unclassified_groups_sorted['count'], unclassified_groups_sorted['percentage[%]'], unclassified_groups_sorted['max_mass_grams']],
                 hover_data=["count"]
                                  
                )

fig.update_traces(hoverinfo = "text", 
                  marker=dict(cornerradius=5),
                  opacity = 0.9,
                 hovertemplate = "<br>".join([
                     "%{label}",
                     "<br>",
                     "Count: %{customdata[0]}",
                     "Percent: %{customdata[1]}",
                     "Maximum Mass in grams: %{customdata[2]}"
    ]))
fig.data[0].customdata[3] = [32, 100, 37500.00, 'Unclassified']
fig.data[0].customdata[2] = [1, 3.12, 'Unknown', 'Unknown']

print(fig.data[0].customdata[3])
print(fig.data[0].customdata[2])
# Show the figure
fig.show()


#create a pie chart using plotly go
fig = go.Figure(data=[go.Pie(labels=unclassified_groups_sorted['group'], 
                             values=unclassified_groups_sorted['count'], 
                             hole=.4,                             
                             marker=dict(colors=px.colors.qualitative.Set2, 
                                         line=dict(color='rgb(89, 89, 89)', width=1)),
                             opacity=0.9)])

# customize hovertemplate to display all three columns
fig.update_traces(hovertemplate='Group: %{label}<br>Count: %{value}<br>Percentage: %{percent}')

#customize layout
fig.update_layout(
    title="Percentage of Unclassified Meteorites by group",
    height=600,
    width=900,
    margin=dict(t=35, b=10, l=0, r=5)
    
)

#display the graph
print()
fig.show()
print()





#import the dataset for the "The Catalogue of Meteorites" from the Natural History Museum, London.
metcat_df = pd.read_csv("../Data/metcat.csv")

#preview the dataset
print()
display(metcat_df.head())


#display the column names of the metcat dataset
metcat_df.columns


#separate the 'falls' in a separate dataframe
metcat_falls = metcat_df[metcat_df['Find or fall'] == 'Fall']

#check the number of records in the falls subset
metcat_falls.shape[0]


print()
print("There are " + str(metcat_falls['Year'].unique().shape[0]) + " years worth of records in the MetCat dataset")
print()


#display the records with missing values for the year column
metcat_falls[metcat_falls['Year'].isnull()]


#drop the 'uncertain' records
metcat_falls.drop(metcat_falls.loc[metcat_falls['Validity'].isin(['Pseudometeorite', 'Doubtful'])].index, inplace=True)


#preview the leftover missing values 
metcat_falls[metcat_falls['Year'].isnull()]


#impute the missing years with the values listed in the Meteoritical Bulletin Database
metcat_falls.loc[[4785], 'Year'] = 1880
metcat_falls.loc[[5024], 'Year'] = 1964
metcat_falls.loc[[10946], 'Year'] = 1910
metcat_falls.loc[[14572], 'Year'] = 1973
metcat_falls.loc[[19202], 'Year'] = 1956
metcat_falls.loc[[19379], 'Year'] = 1993
metcat_falls.loc[[20193], 'Year'] = 1976


metcat_falls['Year'].isnull().sum()


#select the year range to match the NASA dataset

# convert the "Year" column to numeric type
metcat_falls['Year'] = metcat_falls['Year'].astype(int)

#select range
metcat_falls_171 = metcat_falls[metcat_falls['Year'] >= 1830]

#save the csv for future use
#df183.to_csv('./Data/df183.csv')

print(metcat_falls_171.shape[0])

print()
#display the first records
display(metcat_falls_171.head())


np.sort(metcat_falls_171['Year'].unique())


#keep only relevant columns
# Keep only relevant columns
metcat_falls_171 = metcat_falls_171.loc[:, ("Name", "_id", "MetCat key", "Type", "Class", "(A)chondrite", "Group", "Petrologic type", 
                                            "Recovered weight", "Year", "Month", "Day", "Hour", "Locality", "Country",
                                           "Decimal latitude", "Decimal longitude", "Verbatim latitude", "Verbatim longitude", 
                                            "Present in NHM collection", "NHM specimen data")]

metcat_falls_171.to_csv('./Data/metcat171.csv')

metcat_falls_171.head()


#display the unique month names
metcat_falls_171['Month'].unique()


#replace the 'Nan' values with the string 'Missing' such that the missing values are counte as a category by the 'groupby' method
metcat_falls_171['Month'] = metcat_falls_171['Month'].fillna('Missing') 

#group by unique month values to estimate the need for imputations
grouped_by_month = metcat_falls_171.groupby('Month').size()

#display the grouped values
grouped_by_month


#display the records with missing month names
metcat_falls_171[metcat_falls_171["Month"] == 'Missing']['Name'].unique()





#inspect the month labeled as '22' 
metcat_falls_171[metcat_falls_171["Month"] == '22']


#find the datatype of the day column to impute the coressponding value
metcat_falls_171['Day'].info()


#correct the mislabeled month and day for the Monahans meteorite
metcat_falls_171.loc[[13706], 'Month'] = 'March'
metcat_falls_171.loc[[13706], 'Day'] = '22'

#check that the values are correctly imputed
metcat_falls_171.loc[13706][['Month','Day']]


#inspect the months labeled as 'summer', 'spring', 'April or May' etc. 
metcat_falls_171[metcat_falls_171["Month"].isin(['summer', 'spring', 'April or May', 'July or August', 'September?', 'in the spring'])]





#correct the misspelling for the 'Malampaka' meteorite
metcat_falls_171.loc[[14001], 'Month'] = 'September'

metcat_falls_171.loc[14001][['Name','Month']]


#create a dataframe to be used for monthly based calculations
metcat_falls_171_known_month = metcat_falls_171[metcat_falls_171['Month'].isin(['January', 'February', 'March', 'April', 'May', 
                                                                                'June', 'July', 'August', 'September', 'October', 
                                                                               'November', 'December'])]
display(metcat_falls_171_known_month.head())
print()
print('number of records: ', metcat_falls_171_known_month.shape[0])
print()
print('month names: ', metcat_falls_171_known_month['Month'].unique())



#save the dataframe to csv

metcat_falls_171_known_month.to_csv('./Data/metcat_falls_171_known_month.csv')


#check the type of the 'Group' column 
metcat_falls_171_known_month['Group'].info()


#print the names and count of the groups from the MetCat dataset

print("The number of groups is: ", metcat_falls_171_known_month["Group"].unique().shape[0])

print()

#display the unique groups. Casting the column values as strings was necesarry to facilitate sorting
display(np.sort(metcat_falls_171_known_month["Group"].astype(str).unique()))


#create a dataframe for the L chondrites
metL_chondrites = metcat_falls_171_known_month[metcat_falls_171_known_month['Group'].isin(['L', 'L/LL'])]

display(metL_chondrites[['Recovered weight']].describe().round(2))





metcat_falls_171_known_month.columns


#check that the mass values in the MetCat data is of the object type 
#and confirm the presence of mixed-type characters which will prevent casting or conversion
metcat_falls_171_known_month['Recovered weight'].unique()[:5]





# Rename column in metcat_falls_171_known_month
metcat_falls_171_known_month = metcat_falls_171_known_month.rename(columns={"Name": "name"})

# Merge dataframes based on 'name' column
df_merged = metcat_falls_171_known_month.merge(df183, on='name', how='left')

# Replace values in 'Recovered weight' column of metcat_falls_171_known_month with values from df183
df_merged['Recovered weight'] = df_merged['mass (g)'].fillna(df_merged['mass (g)'])

# Rename 'Recovered weight' column back to 'mass'
df_merged = df_merged.rename(columns={'Recovered weight': 'mass'})

display(df_merged.tail())




# import re

# # Convert 'mass' column to string type
# df_merged['mass'] = df_merged['mass'].astype(str)

# # Remove non-numeric characters and empty spaces from the 'mass' column
# df_merged['mass'] = df_merged['mass'].apply(lambda x: re.sub(r'[^0-9]', '', x))

# # Convert non-empty strings to float
# df_merged['mass'] = df_merged['mass'].apply(lambda x: float(x) if x else None)


df_merged['mass'].head()


# Set display options to show floats instead of scientific notation
#pd.set_option('display.float_format', '{:.2f}'.format)

display(df_merged[["mass", 'mass (g)', "year", "latitude", "longitude"]].describe().round(2))


#select and rename only columns of interest from the metcat data
df_merged = df_merged.loc[:, ("name", "Type_x", "Class", "(A)chondrite", 
                              "Group", "Petrologic type", "Type_y",
                              "group", "mass (g)", "Year", "Month", "Day", "Hour", "Locality", "Country", "continent", "Decimal latitude", "Decimal longitude")].copy()

#rename columns
df_merged.rename(columns = {'Group': 'Group_x', 'group': 'Group_y', 'Decimal latitude': 'latitude', 'Decimal longitude': 'longitude'}, inplace = True)

df_merged.head()


df_merged[df_merged['Group_x'] == 'EL']





#impute the correct values for the type and group attributes of the Kijima (1906) meteorite
df_merged.loc[[338], 'Type_y'] = 'Chondrite'
df_merged.loc[[338], 'Group_y'] = 'EL'

display(df_merged[df_merged['Group_x'] == 'EL'])





#save the csv for future use
df_merged.to_csv('./Data/df_merged.csv')


#determine the percentage of L-chondrites out of all meteorites
(df_merged[df_merged['Group_x'] == 'L']['name'].count() / df_merged['name'].count() * 100.00).round(2)


#determine the percentage of HEDs out of all meteorites
(df_merged[df_merged['Group_x'].isin(['EUC', 'HOW', 'DIO'])]['name'].count() / df_merged['name'].count() * 100.00).round(2)


df_merged["Year"].min()


df183['year'].min()


#separate the chondrites from 'df_merged'

chondrite_dm = df_merged[df_merged['Type_y'] == "Chondrite"]

display(chondrite_dm.head())


sorted_by_mass = chondrite_dm.sort_values(by = "mass (g)", ascending = False)

sorted_by_mass.head(30)


chondrite_dm['Class'].unique()


chon_dm_grouped_m = chondrite_dm.groupby(['Month', 'Group_x'])['name'].count().reset_index(name = 'count')

chon_dm_grouped_m


chon_dm_grouped_m = chon_dm_grouped_m.pivot(index = 'Month', columns = 'Group_x', values = 'count').fillna(0).reset_index(drop = False)

chon_dm_grouped_m.head()


#get the month number for sorting purposes
month_dict = {'January' : 1, 'February': 2, 'March': 3, 'April': 4, 'May': 5, 'June': 6,
              'July': 7, 'August': 8, 'September': 9, 'October': 10, 'November': 11, 'December': 12}

chon_dm_grouped_m.loc[:, 'month_no'] = chon_dm_grouped_m.loc[:, ['Month']].copy()

# 
chon_dm_grouped_m.month_no = chon_dm_grouped_m.month_no.map(month_dict)

chon_dm_grouped_m


chon_dm_grouped_m.sort_values(by = 'month_no', inplace = True)

chon_dm_grouped_m


chon_dm_grouped_m.drop(columns = "month_no", inplace = True) 

chon_dm_grouped_m



chon_dm_grouped_m.reset_index(drop = True, inplace = True)

chon_dm_grouped_m.index


#chon_dm_grouped_m = chon_dm_grouped_m.set_index('month_no')

display(chon_dm_grouped_m)



#save the csv for future use
chon_dm_grouped_m.to_csv('./Data/chondrites_by_month.csv')


print("Avg. C per month", round(chon_dm_grouped_m['C'].sum() / 12, 2))
print("Avg. CI per month", round(chon_dm_grouped_m['CI'].sum() / 12, 2))
print("Avg. CK per month", round(chon_dm_grouped_m['CK'].sum() / 12, 2))
print("Avg. CM per month", round(chon_dm_grouped_m['CM'].sum() / 12, 2))
print("Avg. CO per month", round(chon_dm_grouped_m['CO'].sum() / 12, 2))
print("Avg. CR per month", round(chon_dm_grouped_m['CR'].sum() / 12, 2))
print("Avg. CV per month", round(chon_dm_grouped_m['CV'].sum() / 12, 2))
print("Avg. EH per month", round(chon_dm_grouped_m['EH'].sum() / 12, 2))
print("Avg. EL per month", round(chon_dm_grouped_m['EL'].sum() / 12, 2))
print("Avg. H per month", round(chon_dm_grouped_m['H'].sum() / 12, 2))
print("Avg. H/L per month", round(chon_dm_grouped_m['H/L'].sum() / 12, 2))
print("Avg. K per month", round(chon_dm_grouped_m['K'].sum() / 12, 2))
print("Avg. L per month", round(chon_dm_grouped_m['L'].sum() / 12, 2))
print("Avg. L/LL per month", round(chon_dm_grouped_m['L/LL'].sum() / 12, 2))
print("Avg. LL per month", round(chon_dm_grouped_m['LL'].sum() / 12, 2))
print("Avg. R per month", round(chon_dm_grouped_m['R'].sum() / 12, 2))
print("Avg. UNGR per month", round(chon_dm_grouped_m['UNGR'].sum() / 12, 2))


chon_dm_grouped_m.describe().round(2)


#color shuffler 
# shuffle(colors)
#new_chondrite_colors = colors
#print(new_chondrite_colors)


new_chondrite_colors = ['rgb(177, 175, 182)', 'rgb(200, 165, 140)', 'rgb(174, 66, 17)', 'rgb(164, 173, 188)', 'rgb(142, 104, 40)', 'rgb(215, 112, 47)', 
                        'rgb(178, 163, 155)', 'rgb(230, 176, 13)', 'rgb(184, 158, 133)', 'rgb(229, 147, 148)', 'rgb(244, 212, 52)', 'rgb(234, 149, 83)', 
                        'rgb(204, 182, 98)', 'rgb(205, 182, 135)', 'rgb(84, 168, 98)', 'rgb(157, 108, 132)', 'rgb(204, 140, 122)', 'rgb(212, 92, 60)', 
                        'rgb(175, 141, 100)', 'rgb(186, 87, 29)', 'rgb(148, 133, 121)', 'rgb(214, 133, 98)', 'rgb(186, 134, 118)', 'rgb(196, 140, 174)', 
                        'rgb(169, 159, 31)', 'rgb(121, 164, 194)', 'rgb(158, 148, 172)', 'rgb(157, 104, 80)', 'rgb(192, 168, 149)', 'rgb(153, 154, 44)', 
                        'rgb(224, 169, 144)', 'rgb(129, 84, 76)', 'rgb(100, 125, 109)', 'rgb(183, 141, 42)', 'rgb(132, 180, 188)', 'rgb(182, 68, 116)', 
                        'rgb(181, 142, 78)', 'rgb(84, 140, 178)', 'rgb(145, 52, 19)', 'rgb(194, 164, 71)', 'rgb(165, 122, 40)', 'rgb(131, 123, 115)', 
                        'rgb(182, 95, 86)', 'rgb(216, 139, 118)', 'rgb(187, 112, 126)', 'rgb(229, 111, 96)', 'rgb(173, 149, 131)', 'rgb(122, 112, 108)', 
                        'rgb(239, 163, 122)', 'rgb(132, 124, 164)', 'rgb(196, 125, 94)', 'rgb(201, 136, 4)', 'rgb(221, 164, 98)', 'rgb(143, 144, 148)', 
                        'rgb(155, 124, 107)', 'rgb(132, 156, 180)', 'rgb(217, 134, 78)', 'rgb(172, 121, 93)', 'rgb(189, 91, 64)', 'rgb(204, 100, 76)', 
                        'rgb(155, 152, 104)', 'rgb(98, 108, 148)', 'rgb(132, 184, 212)', 'rgb(173, 80, 53)', 'rgb(199, 110, 44)', 'rgb(199, 155, 34)', 
                        'rgb(217, 165, 152)', 'rgb(193, 146, 111)', 'rgb(98, 107, 125)', 'rgb(218, 190, 124)', 'rgb(108, 156, 156)', 'rgb(114, 135, 152)', 
                        'rgb(205, 115, 98)', 'rgb(149, 157, 162)', 'rgb(189, 127, 15)', 'rgb(113, 127, 138)', 'rgb(166, 108, 27)', 'rgb(208, 158, 122)', 
                        'rgb(128, 163, 164)', 'rgb(199, 162, 96)']


#define custom colors
color_discrete_sequence = new_chondrite_colors

groups = chon_dm_grouped_m.columns[1:]

fig = px.bar(chon_dm_grouped_m, x="Month", y= groups, 
             color_discrete_sequence = color_discrete_sequence,
             opacity = 0.9, title = 'Monthly observations by group over 171 years',
             labels={"value": "Count", "variable": "Group"}                                                
                )



fig.update_layout(
    {'plot_bgcolor': 'rgba(0, 0, 0, 0)'},
    title_font_color = 'rgb(89, 89, 89)',
    xaxis_title='Month',
    yaxis_title='Count',
    height=650, width=1500,
    margin=dict(t=35, b=10, l=0, r=5)
)





fig.show()


# Create a data frame
test = pd.DataFrame({
    "Month": ["January", "February", "March", "April", "May", "June"],
    "C": [10, 20, 30, 40, 50, 60],
    "CI": [10, 20, 30, 40, 50, 60],
    "CK": [10, 20, 30, 40, 50, 60],
    "CM": [10, 20, 30, 40, 50, 60],
    "CO": [10, 20, 30, 40, 50, 60],
    "CR": [10, 20, 30, 40, 50, 60],
    "CV": [10, 20, 30, 40, 50, 60],
    "EH": [10, 20, 30, 40, 50, 60],
    "EL": [10, 20, 30, 40, 50, 60],
    "H": [10, 20, 30, 40, 50, 60],
    "H/L": [10, 20, 30, 40, 50, 60],
    "K": [10, 20, 30, 40, 50, 60],
    "L": [10, 20, 30, 40, 50, 60],
    "L/LL": [10, 20, 30, 40, 50, 60],
    "LL": [10, 20, 30, 40, 50, 60],
    "R": [10, 20, 30, 40, 50, 60],
    "UNGR": [10, 20, 30, 40, 50, 60],
})

test.head()


variables = chon_dm_grouped_m.columns[1:]

print(variables)





achondrite_dm = df_merged[df_merged['Type_y'] == "Achondrite"]
primitive_achondrite_dm = df_merged[df_merged['Type_y'] == "Primitive Achondrite"]
unclassified_dm = df_merged[df_merged['Type_y'] == "Unclassified"]


achon_dm_grouped_m = achondrite_dm.groupby(['Month', 'Group_x'])['name'].count().reset_index(name = 'count')
prim_dm_grouped_m = primitive_achondrite_dm.groupby(['Month', 'Group_x'])['name'].count().reset_index(name = 'count')
uncl_dm_grouped_m = unclassified_dm.groupby(['Month', 'Group_y'])['name'].count().reset_index(name = 'count')

achon_dm_grouped_m = achon_dm_grouped_m.pivot(index = 'Month', columns = 'Group_x', values = 'count').fillna(0).reset_index(drop = False)
prim_dm_grouped_m = prim_dm_grouped_m.pivot(index = 'Month', columns = 'Group_x', values = 'count').fillna(0).reset_index(drop = False)
uncl_dm_grouped_m = uncl_dm_grouped_m.pivot(index = 'Month', columns = 'Group_y', values = 'count').fillna(0).reset_index(drop = False)


#get the month number for sorting purposes
month_dict = {'January' : 1, 'February': 2, 'March': 3, 'April': 4, 'May': 5, 'June': 6,
              'July': 7, 'August': 8, 'September': 9, 'October': 10, 'November': 11, 'December': 12}

achon_dm_grouped_m.loc[:, 'month_no'] = achon_dm_grouped_m.loc[:, ['Month']].copy()
prim_dm_grouped_m.loc[:, 'month_no'] = prim_dm_grouped_m.loc[:, ['Month']].copy()
uncl_dm_grouped_m.loc[:, 'month_no'] = uncl_dm_grouped_m.loc[:, ['Month']].copy()

# pd.to_datetime(metcat_1933.month_no, format='%b').dt.month
achon_dm_grouped_m.month_no = achon_dm_grouped_m.month_no.map(month_dict)
prim_dm_grouped_m.month_no = prim_dm_grouped_m.month_no.map(month_dict)
uncl_dm_grouped_m.month_no = uncl_dm_grouped_m.month_no.map(month_dict)

achon_dm_grouped_m.sort_values(by = 'month_no', inplace = True)
prim_dm_grouped_m.sort_values(by = 'month_no', inplace = True)
uncl_dm_grouped_m.sort_values(by = 'month_no', inplace = True)

achon_dm_grouped_m = achon_dm_grouped_m.set_index('month_no')
prim_dm_grouped_m = prim_dm_grouped_m.set_index('month_no')
uncl_dm_grouped_m = uncl_dm_grouped_m.set_index('month_no')


print()
display(achon_dm_grouped_m.head())
print()
display(prim_dm_grouped_m.head())
print()
display(uncl_dm_grouped_m.head())

#save the csv for future use
achon_dm_grouped_m.to_csv('./Data/achondrites_by_month.csv')
#save the csv for future use
prim_dm_grouped_m.to_csv('./Data/primitives_by_month.csv')
#save the csv for future use
uncl_dm_grouped_m.to_csv('./Data/unclassified_by_month.csv')


#color shuffler 
# shuffle(colors)
# new_achondrite_colors = colors
# print(new_achondrite_colors)


new_achondrite_colors = ['rgb(244, 212, 52)', 'rgb(204, 100, 76)', 'rgb(217, 165, 152)', 'rgb(230, 176, 13)', 'rgb(113, 127, 138)', 
                         'rgb(189, 91, 64)', 'rgb(131, 123, 115)', 'rgb(214, 133, 98)', 'rgb(200, 165, 140)', 'rgb(189, 127, 15)', 
                         'rgb(173, 149, 131)', 'rgb(184, 158, 133)', 'rgb(145, 52, 19)', 'rgb(98, 108, 148)', 'rgb(174, 66, 17)', 
                         'rgb(186, 87, 29)', 'rgb(108, 156, 156)', 'rgb(193, 146, 111)', 'rgb(142, 104, 40)', 'rgb(201, 136, 4)', 
                         'rgb(132, 156, 180)', 'rgb(239, 163, 122)', 'rgb(164, 173, 188)', 'rgb(205, 115, 98)', 'rgb(143, 144, 148)', 
                         'rgb(172, 121, 93)', 'rgb(194, 164, 71)', 'rgb(187, 112, 126)', 'rgb(149, 157, 162)', 'rgb(199, 162, 96)', 
                         'rgb(114, 135, 152)', 'rgb(153, 154, 44)', 'rgb(183, 141, 42)', 'rgb(132, 124, 164)', 'rgb(178, 163, 155)',
                         'rgb(98, 107, 125)', 'rgb(199, 110, 44)', 'rgb(182, 95, 86)', 'rgb(84, 140, 178)', 'rgb(217, 134, 78)', 
                         'rgb(221, 164, 98)', 'rgb(173, 80, 53)', 'rgb(234, 149, 83)', 'rgb(129, 84, 76)', 'rgb(224, 169, 144)', 
                         'rgb(169, 159, 31)', 'rgb(181, 142, 78)', 'rgb(182, 68, 116)', 'rgb(204, 182, 98)', 'rgb(204, 140, 122)', 
                         'rgb(121, 164, 194)', 'rgb(128, 163, 164)', 'rgb(100, 125, 109)', 'rgb(165, 122, 40)', 'rgb(229, 111, 96)', 
                         'rgb(177, 175, 182)', 'rgb(155, 124, 107)', 'rgb(205, 182, 135)', 'rgb(166, 108, 27)', 'rgb(199, 155, 34)', 
                         'rgb(196, 140, 174)', 'rgb(122, 112, 108)', 'rgb(132, 184, 212)', 'rgb(229, 147, 148)', 'rgb(192, 168, 149)', 
                         'rgb(215, 112, 47)', 'rgb(148, 133, 121)', 'rgb(196, 125, 94)', 'rgb(216, 139, 118)', 'rgb(84, 168, 98)', 
                         'rgb(157, 108, 132)', 'rgb(175, 141, 100)', 'rgb(212, 92, 60)', 'rgb(155, 152, 104)', 'rgb(132, 180, 188)', 
                         'rgb(158, 148, 172)', 'rgb(157, 104, 80)', 'rgb(218, 190, 124)', 'rgb(186, 134, 118)', 'rgb(208, 158, 122)']


color_discrete_sequence2 = new_achondrite_colors

fig = px.bar(achon_dm_grouped_m, x="Month", y=["ANGR", "AUB", "DIO", "EUC", "HOW", "IIAB", "IID", "IIE", "IIF", "IIIAB", "IVA", "MES", "PAL", "SNC"],
             color_discrete_sequence = color_discrete_sequence2,
             opacity = 0.9, title= 'Achondrite monthly observations by group over 171 years'
            )

fig.update_layout(
    {'plot_bgcolor': 'rgba(0, 0, 0, 0)'},
    title_font_color = 'rgb(89, 89, 89)',
    xaxis_title='Month',
    yaxis_title='Count',
    height=650, width=1500,
    margin=dict(t=35, b=10, l=0, r=5)
)



fig.show()


#define custom colors
color_discrete_sequence3 = colors

fig = px.bar(prim_dm_grouped_m, x="Month", y=["ACAP", "IAB", "IIICD", "LOD", "UNGR", "URE", "WIN"],
             color_discrete_sequence = color_discrete_sequence3,
             opacity = 0.9, title = 'Primitive achondrite monthly observations by group over 171 years'
            )

fig.update_layout(
    {'plot_bgcolor': 'rgba(0, 0, 0, 0)'},
    title_font_color = 'rgb(89, 89, 89)',
    xaxis_title='Month',
    yaxis_title='Count',
    height=650, width=1100,
    margin=dict(t=35, b=10, l=0, r=5)
)



fig.show()


#define custom colors
color_discrete_sequence4 = colors

fig = px.bar(uncl_dm_grouped_m, x="Month", y=['Stone-uncl', 'Iron', 'Unknown'],
             color_discrete_sequence = color_discrete_sequence4,
             opacity = 0.9, title = 'Monthly observations of unclassified meteorites over 171 years'
            )

fig.update_layout(
    {'plot_bgcolor': 'rgba(0, 0, 0, 0)'},
    title_font_color = 'rgb(89, 89, 89)',
    xaxis_title='Month',
    yaxis_title='Count',
    height=650, width=550,
    margin=dict(t=35, b=10, l=0, r=5)
)



fig.show()


#Turn the month into a numerical variable
month_dict = {'January' : 1, 'February': 2, 'March': 3, 'April': 4, 'May': 5, 'June': 6,
              'July': 7, 'August': 8, 'September': 9, 'October': 10, 'November': 11, 'December': 12}

#group by year, month, group and merge the month number as a third numerical variable
chon_dm_grouped_mgy = chondrite_dm.groupby(['Year', 'Month', 'Group_x'])['name'].count().reset_index(name = 'count')
chon_dm_grouped_mgy.loc[:, 'month_no'] = chon_dm_grouped_mgy.loc[:, ['Month']].copy()
chon_dm_grouped_mgy.month_no = chon_dm_grouped_mgy.month_no.map(month_dict)

#group by year, month, group and merge the month number as a third numerical variable
achon_dm_grouped_mgy = achondrite_dm.groupby(['Year', 'Month', 'Group_x'])['name'].count().reset_index(name = 'count')
achon_dm_grouped_mgy.loc[:, 'month_no'] = achon_dm_grouped_mgy.loc[:, ['Month']].copy()
achon_dm_grouped_mgy.month_no = achon_dm_grouped_mgy.month_no.map(month_dict)

#group by year, month, group and merge the month number as a third numerical variable
primitive_dm_grouped_mgy = primitive_achondrite_dm.groupby(['Year', 'Month', 'Group_x'])['name'].count().reset_index(name = 'count')
primitive_dm_grouped_mgy.loc[:, 'month_no'] = primitive_dm_grouped_mgy.loc[:, ['Month']].copy()
primitive_dm_grouped_mgy.month_no = primitive_dm_grouped_mgy.month_no.map(month_dict)

#group by year, month, group and merge the month number as a third numerical variable
unclassified_dm_grouped_mgy = unclassified_dm.groupby(['Year', 'Month', 'Group_y'])['name'].count().reset_index(name = 'count')
unclassified_dm_grouped_mgy.loc[:, 'month_no'] = unclassified_dm_grouped_mgy.loc[:, ['Month']].copy()
unclassified_dm_grouped_mgy.month_no = unclassified_dm_grouped_mgy.month_no.map(month_dict)

#save the new sets as csv files
chon_dm_grouped_mgy.to_csv('./Data/chondrites_by_mgy.csv')
achon_dm_grouped_mgy.to_csv('./Data/achondrites_by_mgy.csv')
primitive_dm_grouped_mgy.to_csv('./Data/primitives_by_mgy.csv')
unclassified_dm_grouped_mgy.to_csv('./Data/unclassified_by_mgy.csv')


chon_dm_grouped_mgy


chon_dm_grouped_mgy["count"][chon_dm_grouped_mgy["count"] == 1].sum() / chon_dm_grouped_mgy["count"].sum()


# import pandas as pd
# import plotly
# import plotly.graph_objs as go


# #Set marker properties
# #markersize = chon_dm_grouped_mgy['count']
# markercolor = chon_dm_grouped_mgy['count']
# #markershape = chon_dm_grouped_mgy['month_no']

# #Make Plotly figure
# fig1 = go.Scatter3d(x=chon_dm_grouped_mgy['Year'],
#                     y=chon_dm_grouped_mgy['month_no'],
#                     z=chon_dm_grouped_mgy['count'],
#                     marker=dict(#size=markersize,
#                                 color=markercolor,
#                                 #symbol=markershape,
#                                 opacity=0.9,
#                                 #reversescale=True,
#                                 colorscale='Tealgrn'),
                   
#                     line=dict (width=0.02),
#                     mode='markers')

# #Make Plot.ly Layout
# mylayout = go.Layout(scene=dict(xaxis=dict( title="Year"),
#                                 yaxis=dict( title="Month", tickmode="linear"),
#                                 zaxis=dict(title="Count", tickmode="linear")),)

# #Plot and save html
# plotly.offline.plot({"data": [fig1],
#                      "layout": mylayout},
#                      auto_open=True,
#                      filename=("5D Plot.html"))



groups = sorted(list(chon_dm_grouped_mgy["Group_x"].unique()))

groups


len(groups)


# from plotly.validators.scatter.marker import SymbolValidator
# SymbolValidator().values


import plotly.express as px
import numpy as np
from plotly.validators.scatter.marker import SymbolValidator

# Create a SymbolValidator object to access the symbols
symbol_validator = SymbolValidator()

# Get the list of available symbols
raw_symbols = symbol_validator.values

# Create empty lists for name stems, name variants, and symbols
namestems = []
namevariants = []
symbols = []

# Iterate through the symbols and extract their name stems and variants
for i in range(0, len(raw_symbols), 3):
    name = raw_symbols[i + 2]
    symbols.append(raw_symbols[i])
    namestems.append(name.replace("-open", "").replace("-dot", ""))
    namevariants.append(name[len(namestems[-1]):])

# Create a dictionary that maps the values in the column to colors.
color_map = {value: color for value, color in zip(chon_dm_grouped_mgy['Group_x'].values, color_list)}

# Create a new column with integer values representing each unique group
chon_dm_grouped_mgy['group_id'] = pd.factorize(chon_dm_grouped_mgy['Group_x'])[0]

# Create a SymbolValidator object to access the symbols
symbol_validator = SymbolValidator()

# Get the list of available symbols
raw_symbols = symbol_validator.values

# Create empty lists for name stems, name variants, and symbols
namestems = []
namevariants = []
symbols = []

# Iterate through the symbols and extract their name stems and variants
for i in range(0, len(raw_symbols), 3):
    name = raw_symbols[i + 2]
    symbols.append(raw_symbols[i])
    namestems.append(name.replace("-open", "").replace("-dot", ""))
    namevariants.append(name[len(namestems[-1]):])


# Assign symbols based on the group_id
chon_dm_grouped_mgy['symbol'] = chon_dm_grouped_mgy['group_id'].apply(lambda x: symbols[x % len(symbols)])

# Create the scatter 3D plot using Plotly Express
fig = px.scatter_3d(
    chon_dm_grouped_mgy,
    x='Year',
    y='month_no',
    z='count',
    color='Group_x',
    symbol='symbol',  # Use the 'symbol' column for symbols
    color_discrete_map=color_map,
    size='count',
    size_max=24,
    opacity=1,
    custom_data=['Group_x', 'Year', 'Month', 'count'],
)


fig.update_traces(hoverinfo = "text",
                  opacity = 0.8,
                  hovertemplate = "<br>".join([
                             "Group: %{customdata[0]}",
                             "Year: %{customdata[1]}",
                             "Month: %{customdata[2]}",
                             "Count: %{customdata[3]}"]),
                
                 )

# tight layout
fig.update_layout(
                  margin=dict(l=0, r=0, b=0, t=35),
                  title=dict(text='<b>Chondrite influx by year, month, and group</b>'),
                  title_font_color = 'rgb(89, 89, 89)',
                  title_font_size = 16,  
                  scene=dict(
                    xaxis_title='Year',
                    yaxis_title='Month',
                    zaxis_title='Count',
                    xaxis = dict(
                         backgroundcolor='rgba(233, 181, 125, 0.8)',
                         gridcolor="white",
                         showbackground=True,
                         zerolinecolor="white",),
                    yaxis = dict(
                        backgroundcolor='rgba(233, 181, 125, 0.8)',
                        gridcolor="white",
                        showbackground=True,
                        zerolinecolor="white"),
                    zaxis = dict(
                        backgroundcolor='rgba(233, 181, 125, 0.8)',
                        gridcolor="white",
                        showbackground=True,
                        zerolinecolor="white",),),
                  height = 1000,
                  width = 1500,
                )                  
                 
fig.show()


# Create a dictionary that maps the values in the column to colors.
color_map = {value: color for value, color in zip(achon_dm_grouped_mgy['Group_x'].values, new_achondrite_colors)}

# Create a new column with integer values representing each unique group
achon_dm_grouped_mgy['group_id'] = pd.factorize(achon_dm_grouped_mgy['Group_x'])[0]

# Create a SymbolValidator object to access the symbols
symbol_validator = SymbolValidator()

# Get the list of available symbols
raw_symbols = symbol_validator.values

# Create empty lists for name stems, name variants, and symbols
namestems = []
namevariants = []
symbols = []

# Iterate through the symbols and extract their name stems and variants
for i in range(0, len(raw_symbols), 3):
    name = raw_symbols[i + 2]
    symbols.append(raw_symbols[i])
    namestems.append(name.replace("-open", "").replace("-dot", ""))
    namevariants.append(name[len(namestems[-1]):])


# Assign symbols based on the group_id
achon_dm_grouped_mgy['symbol'] = achon_dm_grouped_mgy['group_id'].apply(lambda x: symbols[x % len(symbols)])

# Create the scatter 3D plot using Plotly Express
fig = px.scatter_3d(
    achon_dm_grouped_mgy,
    x='Year',
    y='month_no',
    z='count',
    color='Group_x',
    symbol='symbol',  # Use the 'symbol' column for symbols
    color_discrete_map=color_map,
    size='count',
    size_max=24,
    opacity=1,
    custom_data=['Group_x', 'Year', 'Month', 'count'],
)


fig.update_traces(hoverinfo = "text",
                  opacity = 0.8,
                  hovertemplate = "<br>".join([
                             "Group: %{customdata[0]}",
                             "Year: %{customdata[1]}",
                             "Month: %{customdata[2]}",
                             "Count: %{customdata[3]}"]),

                 )

# tight layout
fig.update_layout(
                  margin=dict(l=0, r=0, b=0, t=35),
                  title=dict(text='<b>Chondrite influx by year, month, and group</b>'),
                  title_font_color = 'rgb(89, 89, 89)',
                  title_font_size = 16,  
                  scene=dict(
                    xaxis_title='Year',
                    yaxis_title='Month',
                    zaxis_title='Count',
                    xaxis = dict(
                         backgroundcolor='rgba(233, 181, 125, 0.8)',
                         gridcolor="white",
                         showbackground=True,
                         zerolinecolor="white",),
                    yaxis = dict(
                        backgroundcolor='rgba(233, 181, 125, 0.8)',
                        gridcolor="white",
                        showbackground=True,
                        zerolinecolor="white"),
                    zaxis = dict(
                        backgroundcolor='rgba(233, 181, 125, 0.8)',
                        gridcolor="white",
                        showbackground=True,
                        zerolinecolor="white",),),
                  height = 1000,
                  width = 1500,
                  legend=dict(
                      itemsizing='constant',  # Use a constant item size for the legend markers
                      itemclick='toggleothers',  # Enable toggle behavior on clicking the legend items
                      traceorder='normal',  # Set the trace order to normal
                      tracegroupgap=10,  # Adjust the gap between legend items        
                      itemdoubleclick='toggle'  # Enable double-click behavior on legend items

    ),
                )                  


#display the plot
fig.show()




achondrites_sorted_by_mass = achondrite_dm.sort_values(by = "mass (g)", ascending = False)

achondrites_sorted_by_mass.head(20)


achondrites_sorted_by_mass.tail(30)


df183[df183["group"] == "Iron, IIIAB"].sort_values(by = "mass (g)", ascending = False)


df183[df183["Type"] == "Primitive Achondrite"]


metcat_falls_171_known_month["(A)chondrite"].unique()


primitive_achondrite_dm


#create a monthly grouping based on the NASA classification

prim_dm_grouped_m_group_y = primitive_achondrite_dm.groupby(['Month', 'Group_y'])['name'].count().reset_index(name = 'count')
prim_dm_grouped_m_group_y = prim_dm_grouped_m_group_y.pivot(index = 'Month', columns = 'Group_y', values = 'count').fillna(0).reset_index(drop = False)
#get the month number for sorting purposes
month_dict = {'January' : 1, 'February': 2, 'March': 3, 'April': 4, 'May': 5, 'June': 6,
              'July': 7, 'August': 8, 'September': 9, 'October': 10, 'November': 11, 'December': 12}
prim_dm_grouped_m_group_y.loc[:, 'month_no'] = prim_dm_grouped_m_group_y.loc[:, ['Month']].copy()
# pd.to_datetime(metcat_1933.month_no, format='%b').dt.month
prim_dm_grouped_m_group_y.month_no = prim_dm_grouped_m_group_y.month_no.map(month_dict)
prim_dm_grouped_m_group_y.sort_values(by = 'month_no', inplace = True)
prim_dm_grouped_m_group_y = prim_dm_grouped_m_group_y.set_index('month_no')

print()
display(prim_dm_grouped_m_group_y.head())

#save the csv for future use
prim_dm_grouped_m_group_y.to_csv('./Data/primitives_by_month_nasa_grouping.csv')


variables = prim_dm_grouped_m_group_y.columns[1:]

print(variables)


#define custom colors
color_discrete_sequence3 = colors

fig = px.bar(prim_dm_grouped_m_group_y, x="Month", y=['Acapulcoite', 'Iron, IAB complex', 'Iron, IAB-MG', 'Iron, IAB-sHL',
       'Iron, IAB-sLL', 'Iron, IAB-ung', 'Lodranite', 'Ureilite', 'Winonaite'],
             color_discrete_sequence = color_discrete_sequence3,
             opacity = 0.9,
             labels={"value": "Count", "variable": "Group"}
                        )

fig.update_layout(
    {'plot_bgcolor': 'rgba(0, 0, 0, 0)'},
    title=dict(text='<b>Monthly observations of primitive achondrites over 171 years</b>'),
    title_font_color='rgb(89, 89, 89)',
    title_font_size=16,
    title_x = 0.01,
    xaxis_title='Month',
    yaxis_title='Count',
    yaxis=dict(dtick = 10),
    margin=dict(t=70, b=5, l=20, r=20),
    #height = 400,
    showlegend = True)

fig.show()




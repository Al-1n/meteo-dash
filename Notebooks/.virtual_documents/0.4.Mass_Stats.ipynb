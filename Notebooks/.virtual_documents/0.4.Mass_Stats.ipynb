#imports
import plotly.figure_factory as ff
import plotly.graph_objects as go
import plotly.express as px
import numpy as np
import pandas as pd
from scipy import stats
from scipy.stats import lognorm
import matplotlib.pyplot as plt
# !pip install lmfit
# import lmfit
#import matplotlib.pyplot as plt
#import matplotlib.ticker as ticker
#import seaborn as sns


df = pd.read_csv('../Data/fell_df_known_mass_after_1830.csv', index_col = [0])


df.head()


df["mass (g)"].describe().round(2)


df["year"].max()


df[df["year"] == 2013]


#change the mass of the Celyabinsk meteorite fragments to a more accurate estimate 
df["mass (g)"][df["year"] == 2013] =  1000000.0


df["year"].max() - df["year"].min()


# # create a list of our conditions
# conditions = [
#     (df['recclass'].isin(['C', 'C2-ung', 'C3-ung', 'CBa', 'CI1','CK4', 'CM2', 'CO3.2', 'CO3.3', 'CO3.4', 'CO3.5', 'CO3.6', 'CO3.7', 'CR2', 'CR2-an', 'CV3',
#                                'EH3', 'EH3/4-an', 'EH4', 'EH5', 'EH7-an', 'EL6', 'H', 'H/L3.6', 'H/L3.9', 'H/L4', 'H3', 'H3-4', 'H3-5', 'H3-6', 'H3.4', 'H3.7', 
#                                'H3.8', 'H3/4', 'H4', 'H4-5', 'H4-6', 'H4-an', 'H4/5', 'H5', 'H5-6', 'H5-7', 'H5/6', 'H6', 'H?', 'K3', 'L', 'L/LL4', 'L/LL5', 
#                                'L/LL6', 'L/LL6-an', 'L3', 'L3-4', 'L3-6', 'L3.4', 'L3.6', 'L3.7', 'L3.7-6', 'L4', 'L4-6', 'L5', 'L5-6', 'L5/6', 'L6', 'LL', 
#                                'LL3-6', 'LL3.00', 'LL3.15', 'LL3.2', 'LL3.3', 'LL3.4', 'LL3.6', 'LL3.8', 'LL3.9', 'LL4', 'LL4-6', 'LL5', 'LL6', 'LL7', 'OC',
#                                'R3.8-6'])),
#     (df['recclass'].isin(['Achondrite-ung', 'Angrite', 'Aubrite', 'Diogenite', 'Diogenite-pm', 'Eucrite', 'Eucrite-br', 'Eucrite-cm', 'Eucrite-mmict', 'Eucrite-pmict', 'Howardite',
#                                'Iron, IIAB', 'Iron, IID', 'Iron, IIE', 'Iron, IIE-an', 'Iron, IIF', 'Iron, IIIAB', 'Iron, IIIAB-an', 'Iron, IVA', 'Martian (chassignite)', 
#                                'Martian (nakhlite)', 'Martian (shergottite)', 'Mesosiderite', 'Mesosiderite-A1', 'Mesosiderite-A3', 'Mesosiderite-A3/4', 'Mesosiderite-B2',
#                                'Pallasite', 'Pallasite, PMG', 'Pallasite, PMG-an'])),
#     (df['recclass'].isin(['Acapulcoite', 'Iron, IAB complex', 'Iron, IAB-MG', 'Iron, IAB-sHL', 'Iron, IAB-sLL', 'Iron, IAB-ung', 'Lodranite', 'Ureilite', 'Ureilite-an', 'Winonaite'])),
#     (df['recclass'].isin(['Stone-uncl', 'Unknown', 'Iron, ungrouped', 'Iron?', 'Iron'])),
# ]

# # create a list of the values we want to assign for each condition
# values = ['Chondrite', 'Achondrite', 'Primitive Achondrite', 'Unclassified']

# # create a new column and use np.select to assign values to it using our lists as arguments
# #fell_df['Type'] = np.select(conditions, values)
# df.insert(loc = 3, column = 'Type', value = np.select(conditions, values))

# # display updated DataFrame
# print()
# display(df.head(6))


# #keep only relevant columns

# df = df.loc[:, ("name", "id", "Type", "recclass", "mass (g)", "year", "reclat", "reclong", "country", "continent")]

# #rename columns
# df.rename(columns = {"recclass": "group", "reclat": "latitude", "reclong":"longitude"}, inplace = True)

# print(df.shape)

# display(df.head())


#print(list(df["mass (g)"]))


#df.to_csv('./Data/fell_df_known_mass_after_1830.csv')


#plot the ecdf for the mass column

#Function to generate the sorted data for ECDF
def ecdf(data):
    """Compute ECDF for a one-dimensional array of measurements."""
    # Number of data points: n
    n = len(data)

    # x-data for the ECDF: x
    x = np.sort(data)

    # y-data for the ECDF: y
    y = np.arange(1, n+1) / n

    return x, y

#Assign the mass column to an array
mass_array = df['mass (g)']

#Compute mass ecdf
x_mass, y_mass = ecdf(mass_array)

#Specify array of percentiles
percentiles = np.array([2.5, 25, 50, 75, 97.5])

#Compute percentiles
mass_perc = np.percentile(mass_array, percentiles)

#Print the result
print(mass_perc)

fig = go.Figure()

fig.add_trace(go.Scatter(mode = 'markers', x = x_mass, y = y_mass, name = 'ECDF', marker = dict(color = 'royalblue', size = 4, symbol = 'circle')))

fig.add_trace(go.Scatter(mode = 'markers', x = mass_perc, y = percentiles/100, name = 'percentile', marker = dict(color = 'firebrick', size = 12, symbol = 'diamond')))

fig.update_layout(title='ECDF of Meteorite masses for falls observed after 1830',
                   xaxis_title='mass (g)',
                   yaxis_title='ECDF')

fig.show()





#plot the box plot for the new dataframe 
fig = px.box(df, y = "mass (g)", log_y = True)

fig.update_layout({
'plot_bgcolor': 'rgba(0, 0, 0, 0)'}, height=600, width=600, 
                  title_text = 'Distribution of recovered meteorite masses')

fig.show()





#Calculate the bin width using the Freedman-Diaconis rule
q1, q3 = np.percentile(df['mass (g)'], [25, 75])
iqr = q3 - q1
bin_width = 2 * iqr / (len(df['mass (g)'])**(1/3))

#re-plot the histogram using the calculated bins
bins = np.arange(df['mass (g)'].min(), df['mass (g)'].max() + bin_width, bin_width)


# # Fit a Weibull distribution to the data
# x, c, loc, scale = stats.exponweib.fit(df['mass (g)'])

# # Create a frozen distribution with the fitted parameters
# dist = stats.exponweib(x, c = c, loc=loc, scale=scale)

# # Calculate the probability of a value between x1 and x2
# p = dist.cdf(2700) - dist.cdf(0.1)

# print(p)


len(bins)


# # Fit an f distribution to the data
# x, a, b, loc = stats.f.fit(df['mass (g)'])

# # Create a frozen distribution with the fitted parameters
# dist = stats.f(x, a, b, loc)

# # Calculate the probability of a value between x1 and x2
# p = dist.cdf(2700) - dist.cdf(0.1)

# print(p)


# p_x = dist.pdf(20)

# print(p_x)


data = df['mass (g)']

# Fit the lognormal distribution to the mass data
shape, loc, scale = lognorm.fit(data, loc=0)

# Get the mass range selected by the user
selected_range = [0.1, 212000.0]  # Example, replace with the selected range from Streamlit slider

# Calculate the probability of the mass falling within the selected range
p = lognorm.cdf(2700, shape, loc, scale) - lognorm.cdf(0.1, shape, loc, scale)

prob = str(round(p * 100.0, 3)) + "%"

print(prob)


# stats.skew(df['mass (g)'], axis = 0, bias = False)


# print(result.best_fit)


# Load the data
data = df['mass (g)']

# Box-Cox transform
transformed_data, lambda_ = stats.boxcox(data)

# Inverse transform
inverse_data = np.reciprocal(data)

# Mean and standard deviation of Box-Cox transformed data
mean_original_data = np.mean(data)
std_original_data = np.std(data)
original_skeewnes = stats.skew(data, axis = 0, bias = False)

# Mean and standard deviation of Box-Cox transformed data
mean_transformed_data = np.mean(transformed_data)
std_transformed_data = np.std(transformed_data)
transformed_skeewnes = stats.skew(transformed_data, axis = 0, bias = False)


# Mean and standard deviation of inverse transformed data
mean_inverse_data = np.mean(inverse_data)
std_inverse_data = np.std(inverse_data)
inverse_skeewnes = stats.skew(inverse_data, axis = 0, bias = False)

print('Mean of the original data: ', mean_original_data)
print('STD of the original data: ', std_original_data)
print('Skeewnes: ', original_skeewnes)

print()

print('Mean of the Box-cox transformed data: ', mean_transformed_data)
print('STD of the Box-cox transformed data: ', std_transformed_data)
print('Skeewnes: ', transformed_skeewnes)

print()

print('Mean of the inverse transformed data: ', mean_inverse_data)
print('STD of the inverse transformed data: ', std_inverse_data)
print('Skeewnes: ', inverse_skeewnes)


bin_labels = ['1st_quantile', '2nd_quantile', '3rd_quantile', '4th_quantile', '5th_quantile', '6th_quantile']

df['range label'] = pd.qcut(df['mass (g)'],
                              q=[0, .025, .25, .50, .75, 0.975, 1],
                              labels=bin_labels)
df['mass range'] = pd.qcut(df['mass (g)'],
                              q=[0, .025, .25, .50, .75, 0.975, 1])
df.head(15)


df['mass range'].unique()


df.describe(include='category')


freq_dist = df.groupby('range label', observed=True)['range label'].count().reset_index(name = 'Count')

freq_dist


from matplotlib import rcParams
rcParams['patch.force_edgecolor'] = True   # show edgecolor

bins = np.arange(7)
centers = bins[:-1] + np.diff(bins) / 2
y = freq_dist['Count']

plt.stairs(freq_dist['Count'], fill = False)
plt.plot(centers, freq_dist['Count'] - 1, 'o--', color='grey', alpha=0.7)

plt.show()


#sns.histplot(data = df, x  = 'mass (g)', bins = [0.099, 22.0, 682.0, 2700.0, 10322.0, 224800.0, 23000000.0])
bins = [0.099, 22.0, 682.0, 2700.0, 10322.0, 224800.0, 23000000.0]
plt.hist(x = df['mass (g)'].sort_values(), bins = bins, density = True, histtype = 'bar')
plt.xscale('log')
plt.show()


import matplotlib.pyplot as plt
plt.figure(figsize=(8,6))

plt.hist(df['mass (g)'].sort_values(), bins = [0.099, 22.0, 682.0, 2700.0, 10322.0, 224800.0, 23000000.0], histtype = 'bar')

plt.xscale('log')
plt.show()


#create subsets for each mass category
mass_cat1 = df[df["range label"] == "1st_quantile"]
mass_cat2 = df[df["range label"] == "2nd_quantile"]
mass_cat3 = df[df["range label"] == "3rd_quantile"]
mass_cat4 = df[df["range label"] == "4th_quantile"]
mass_cat5 = df[df["range label"] == "5th_quantile"]
mass_cat6 = df[df["range label"] == "6th_quantile"]

mass_cat2.head()


colors = ['rgb(122, 112, 108)', 'rgb(189, 91, 64)', 'rgb(199, 155, 34)', 'rgb(184, 158, 133)', 'rgb(157, 108, 132)', 
         'rgb(166, 108, 27)', 'rgb(172, 121, 93)', 'rgb(129, 84, 76)', 'rgb(234, 149, 83)', 'rgb(173, 149, 131)', 
         'rgb(214, 133, 98)', 'rgb(157, 104, 80)', 'rgb(155, 124, 107)', 'rgb(98, 108, 148)', 'rgb(100, 125, 109)', 
         'rgb(187, 112, 126)', 'rgb(200, 165, 140)', 'rgb(183, 141, 42)', 'rgb(155, 152, 104)', 'rgb(149, 157, 162)', 
         'rgb(196, 125, 94)', 'rgb(98, 107, 125)', 'rgb(131, 123, 115)', 'rgb(114, 135, 152)', 'rgb(113, 127, 138)', 
         'rgb(229, 147, 148)', 'rgb(230, 176, 13)', 'rgb(199, 110, 44)', 'rgb(224, 169, 144)', 'rgb(121, 164, 194)', 
         'rgb(181, 142, 78)', 'rgb(215, 112, 47)', 'rgb(216, 139, 118)', 'rgb(218, 190, 124)', 'rgb(128, 163, 164)', 
         'rgb(132, 180, 188)', 'rgb(132, 156, 180)', 'rgb(208, 158, 122)', 'rgb(221, 164, 98)', 'rgb(205, 115, 98)', 
         'rgb(108, 156, 156)', 'rgb(177, 175, 182)', 'rgb(192, 168, 149)', 'rgb(165, 122, 40)', 'rgb(204, 100, 76)', 
         'rgb(145, 52, 19)', 'rgb(182, 68, 116)', 'rgb(244, 212, 52)', 'rgb(164, 173, 188)', 'rgb(158, 148, 172)', 
         'rgb(204, 140, 122)', 'rgb(193, 146, 111)', 'rgb(194, 164, 71)', 'rgb(153, 154, 44)', 'rgb(175, 141, 100)', 
         'rgb(142, 104, 40)', 'rgb(182, 95, 86)', 'rgb(143, 144, 148)', 'rgb(186, 87, 29)', 'rgb(173, 80, 53)', 
         'rgb(132, 124, 164)', 'rgb(217, 165, 152)', 'rgb(205, 182, 135)', 'rgb(212, 92, 60)', 'rgb(217, 134, 78)', 
         'rgb(189, 127, 15)', 'rgb(84, 168, 98)', 'rgb(196, 140, 174)', 'rgb(148, 133, 121)', 'rgb(169, 159, 31)', 
         'rgb(204, 182, 98)', 'rgb(239, 163, 122)', 'rgb(174, 66, 17)', 'rgb(84, 140, 178)', 'rgb(178, 163, 155)',
         'rgb(186, 134, 118)', 'rgb(201, 136, 4)', 'rgb(132, 184, 212)', 'rgb(199, 162, 96)', 'rgb(229, 111, 96)',
         'rgb(218, 190, 124)', 'rgb(121, 164, 194)', 'rgb(149, 157, 162)', 'rgb(196, 125, 94)', 'rgb(132, 124, 164)', 
         'rgb(215, 112, 47)', 'rgb(145, 52, 19)', 'rgb(186, 87, 29)', 'rgb(142, 104, 40)', 'rgb(84, 168, 98)', 
         'rgb(100, 125, 109)', 'rgb(84, 140, 178)', 'rgb(229, 111, 96)', 'rgb(244, 212, 52)', 'rgb(178, 163, 155)', 
         'rgb(177, 175, 182)', 'rgb(205, 115, 98)', 'rgb(132, 180, 188)', 'rgb(234, 149, 83)', 'rgb(143, 144, 148)', 
         'rgb(172, 121, 93)', 'rgb(204, 140, 122)', 'rgb(239, 163, 122)', 'rgb(182, 68, 116)', 'rgb(194, 164, 71)',
         'rgb(201, 136, 4)', 'rgb(175, 141, 100)', 'rgb(129, 84, 76)', 'rgb(204, 100, 76)', 'rgb(187, 112, 126)',
         'rgb(212, 92, 60)', 'rgb(173, 149, 131)', 'rgb(157, 108, 132)', 'rgb(98, 107, 125)', 'rgb(217, 165, 152)', 
         'rgb(186, 134, 118)', 'rgb(157, 104, 80)', 'rgb(192, 168, 149)', 'rgb(169, 159, 31)', 'rgb(132, 184, 212)', 
         'rgb(174, 66, 17)', 'rgb(204, 182, 98)', 'rgb(208, 158, 122)', 'rgb(184, 158, 133)', 'rgb(229, 147, 148)', 
         'rgb(114, 135, 152)', 'rgb(193, 146, 111)', 'rgb(221, 164, 98)', 'rgb(199, 110, 44)', 'rgb(128, 163, 164)', 
         'rgb(165, 122, 40)', 'rgb(196, 140, 174)', 'rgb(148, 133, 121)', 'rgb(98, 108, 148)', 'rgb(108, 156, 156)', 
         'rgb(224, 169, 144)', 'rgb(155, 124, 107)', 'rgb(200, 165, 140)', 'rgb(155, 152, 104)', 'rgb(113, 127, 138)', 
         'rgb(216, 139, 118)', 'rgb(122, 112, 108)', 'rgb(199, 155, 34)', 'rgb(132, 156, 180)', 'rgb(173, 80, 53)', 
         'rgb(189, 127, 15)', 'rgb(166, 108, 27)', 'rgb(217, 134, 78)', 'rgb(183, 141, 42)', 'rgb(214, 133, 98)', 
         'rgb(153, 154, 44)', 'rgb(131, 123, 115)', 'rgb(230, 176, 13)', 'rgb(205, 182, 135)', 'rgb(158, 148, 172)', 
         'rgb(182, 95, 86)', 'rgb(164, 173, 188)', 'rgb(199, 162, 96)', 'rgb(189, 91, 64)', 'rgb(181, 142, 78)',
         'rgb(177, 175, 182)', 'rgb(200, 165, 140)', 'rgb(174, 66, 17)', 'rgb(164, 173, 188)', 'rgb(142, 104, 40)', 'rgb(215, 112, 47)', 
         'rgb(178, 163, 155)', 'rgb(230, 176, 13)', 'rgb(184, 158, 133)', 'rgb(229, 147, 148)', 'rgb(244, 212, 52)', 'rgb(234, 149, 83)', 
         'rgb(204, 182, 98)', 'rgb(205, 182, 135)', 'rgb(84, 168, 98)', 'rgb(157, 108, 132)', 'rgb(204, 140, 122)', 'rgb(212, 92, 60)', 
         'rgb(175, 141, 100)', 'rgb(186, 87, 29)', 'rgb(148, 133, 121)', 'rgb(214, 133, 98)', 'rgb(186, 134, 118)', 'rgb(196, 140, 174)', 
         'rgb(169, 159, 31)', 'rgb(121, 164, 194)', 'rgb(158, 148, 172)', 'rgb(157, 104, 80)', 'rgb(192, 168, 149)', 'rgb(153, 154, 44)', 
         'rgb(224, 169, 144)', 'rgb(129, 84, 76)', 'rgb(100, 125, 109)', 'rgb(183, 141, 42)', 'rgb(132, 180, 188)', 'rgb(182, 68, 116)', 
         'rgb(181, 142, 78)', 'rgb(84, 140, 178)', 'rgb(145, 52, 19)', 'rgb(194, 164, 71)', 'rgb(165, 122, 40)', 'rgb(131, 123, 115)', 
         'rgb(182, 95, 86)', 'rgb(216, 139, 118)', 'rgb(187, 112, 126)', 'rgb(229, 111, 96)', 'rgb(173, 149, 131)', 'rgb(122, 112, 108)', 
         'rgb(239, 163, 122)', 'rgb(132, 124, 164)', 'rgb(196, 125, 94)', 'rgb(201, 136, 4)', 'rgb(221, 164, 98)', 'rgb(143, 144, 148)', 
         'rgb(155, 124, 107)', 'rgb(132, 156, 180)', 'rgb(217, 134, 78)', 'rgb(172, 121, 93)', 'rgb(189, 91, 64)', 'rgb(204, 100, 76)', 
         'rgb(155, 152, 104)', 'rgb(98, 108, 148)', 'rgb(132, 184, 212)', 'rgb(173, 80, 53)', 'rgb(199, 110, 44)', 'rgb(199, 155, 34)', 
         'rgb(217, 165, 152)', 'rgb(193, 146, 111)', 'rgb(98, 107, 125)', 'rgb(218, 190, 124)', 'rgb(108, 156, 156)', 'rgb(114, 135, 152)', 
         'rgb(205, 115, 98)', 'rgb(149, 157, 162)', 'rgb(189, 127, 15)', 'rgb(113, 127, 138)', 'rgb(166, 108, 27)', 'rgb(208, 158, 122)', 
         'rgb(128, 163, 164)', 'rgb(199, 162, 96)', 'rgb(145, 52, 19)', 'rgb(186, 87, 29)', 'rgb(182, 68, 116)', 'rgb(217, 134, 78)',
          'rgb(108, 156, 156)', 'rgb(178, 163, 155)', 'rgb(173, 149, 131)', 'rgb(164, 173, 188)', 'rgb(221, 164, 98)', 'rgb(84, 168, 98)',
          'rgb(194, 164, 71)', 'rgb(181, 142, 78)', 'rgb(132, 124, 164)', 'rgb(205, 182, 135)', 'rgb(158, 148, 172)', 'rgb(165, 122, 40)',
          'rgb(229, 147, 148)', 'rgb(184, 158, 133)', 'rgb(204, 100, 76)', 'rgb(218, 190, 124)', 'rgb(132, 184, 212)', 'rgb(114, 135, 152)',
          'rgb(183, 141, 42)', 'rgb(128, 163, 164)', 'rgb(157, 108, 132)', 'rgb(199, 162, 96)', 'rgb(132, 156, 180)', 'rgb(148, 133, 121)',
          'rgb(193, 146, 111)', 'rgb(153, 154, 44)', 'rgb(143, 144, 148)', 'rgb(204, 182, 98)', 'rgb(100, 125, 109)', 'rgb(192, 168, 149)',
          'rgb(169, 159, 31)', 'rgb(113, 127, 138)', 'rgb(234, 149, 83)', 'rgb(149, 157, 162)', 'rgb(129, 84, 76)', 'rgb(132, 180, 188)',
          'rgb(199, 110, 44)', 'rgb(155, 124, 107)', 'rgb(196, 140, 174)', 'rgb(199, 155, 34)', 'rgb(214, 133, 98)', 'rgb(212, 92, 60)',
          'rgb(155, 152, 104)', 'rgb(121, 164, 194)', 'rgb(189, 127, 15)', 'rgb(217, 165, 152)', 'rgb(215, 112, 47)', 'rgb(122, 112, 108)',
          'rgb(174, 66, 17)', 'rgb(224, 169, 144)', 'rgb(182, 95, 86)', 'rgb(175, 141, 100)', 'rgb(189, 91, 64)', 'rgb(166, 108, 27)',
          'rgb(196, 125, 94)', 'rgb(200, 165, 140)', 'rgb(205, 115, 98)', 'rgb(173, 80, 53)', 'rgb(229, 111, 96)', 'rgb(98, 108, 148)',
          'rgb(98, 107, 125)', 'rgb(131, 123, 115)', 'rgb(244, 212, 52)', 'rgb(239, 163, 122)', 'rgb(84, 140, 178)', 'rgb(177, 175, 182)',
          'rgb(157, 104, 80)', 'rgb(204, 140, 122)', 'rgb(208, 158, 122)', 'rgb(187, 112, 126)', 'rgb(230, 176, 13)', 'rgb(172, 121, 93)',
          'rgb(201, 136, 4)', 'rgb(186, 134, 118)', 'rgb(142, 104, 40)', 'rgb(216, 139, 118)'] 


colors = colors,

fig = px.bar(mass_cat1, 
 x="year",
 y = "mass (g)",
             log_y = True,
 color_discrete_sequence = colors,                         
 opacity = 0.9,                                                     
    )

fig.update_layout(
    {'plot_bgcolor': 'rgba(0, 0, 0, 0)'},
    title=dict(text='<b>Meteorite Mass Range: 0.1 - 22 grams (Recovered 1830-2013) </b>'),
    title_font_color='rgb(89, 89, 89)',
    title_font_size=16,
    title_x = 0.01,                
    xaxis_title='Year',
    yaxis_title='log(Mass) (g)',                
    margin=dict(t=35, b=10, l=0, r=5)
)    

fig.show()


mass_cat1["mass (g)"][mass_cat1["mass (g)"] > 10].count() / mass_cat1.shape[0]


mass_cat1["mass (g)"][mass_cat1["mass (g)"] < 10].count() / mass_cat1.shape[0]


display(mass_cat1[mass_cat1['mass (g)'] > 10])
display(mass_cat1[(mass_cat1['mass (g)'] >= 1) & (mass_cat1['mass (g)'] < 10)])


mass_cat1[(mass_cat1['mass (g)'] >= 0) & (mass_cat1['mass (g)'] < 1)].count() / mass_cat1.shape[0]


mass_cat1[(mass_cat1['mass (g)'] >= 1) & (mass_cat1['mass (g)'] < 10)].count() / mass_cat1.shape[0]


mass_cat1[(mass_cat1['mass (g)'] >= 10) & (mass_cat1['mass (g)'] < 20)].count() / mass_cat1.shape[0]


mass_cat1[(mass_cat1['mass (g)'] >= 20) & (mass_cat1['mass (g)'] < 30)].count() / mass_cat1.shape[0]


mass_cat1.replace([np.inf, -np.inf], np.nan)


mass_cat1['mass (g)'].describe(percentiles = [.025, .25, .50, .75, 0.975])


import plotly.graph_objects as go
import numpy as np

hist, bins = np.histogram(mass_cat1["mass (g)"], bins=[0.1, 2.6, 8, 17, 22])
    
fig = go.Figure(go.Bar(x=[0,1,2,3], y=hist, marker_color = "#fe9f99"))

fig.update_xaxes(tickvals=[0,1,2,3], ticktext=['0.1g -> 2.59g','2.6g -> 7.99g','8g -> 16.99g', '17g -> 22g'])
fig.update_layout(bargap=0)

# set the title
fig.update_layout(title=dict(text='<b style="text-align:center">Distribution of mass between 0.1 and 22 grams</b>'),
                  title_font_color = 'green',
                  title_font_size = 16,
                  title_x = 0.05,
                  title_y = 0.95,
                  font=dict(size=16),
                  xaxis_title='Mass Quantiles',
                  yaxis_title='Count',
                  margin=dict(l=0, r=0, b=20, t = 30),
                  height = 285                  
                 )               

fig.show()



colors = colors

fig = px.bar(mass_cat2,
             x="year",
             y = "mass (g)",
             color_discrete_sequence = colors,  
             opacity = 0.9,
             )

fig.update_layout(
    {'plot_bgcolor': 'rgba(0, 0, 0, 0)'},
    title=dict(text='<b>Meteorite Mass Range: 22➝682 grams (Recovered 1830-2013) </b>'),
    title_font_color='rgb(89, 89, 89)',
    title_font_size=16,
    title_x = 0.01,     
    xaxis_title='Year',
    yaxis_title='Mass (g)',                
    margin=dict(t=35, b=10, l=0, r=5)
    )    

fig.show()


pd.set_option('display.max_rows', None)

display(mass_cat2[(mass_cat2['mass (g)'] >= 450) & (mass_cat2['mass (g)'] <= 682)].sort_values(by = 'mass (g)'))


summary2 = pd.DataFrame({'mass (g)': mass_cat2["mass (g)"].describe(percentiles = [.025, .25, .50, .75, 0.975])}).reset_index(names = 'Statistic')

display(summary2)

print()

# calculate the 97.5th percentile value
percentile_val_75 = mass_cat2['mass (g)'].quantile(0.75)
percentile_val_97 = mass_cat2['mass (g)'].quantile(0.975)

# count the number of values above the 97.5th percentile
num_above_percentile_75 = len(mass_cat2[mass_cat2['mass (g)'] >= percentile_val_75])
num_above_percentile_97 = len(mass_cat2[mass_cat2['mass (g)'] >= percentile_val_97])

print(f"Number of values above or equal to the 75th percentile: {num_above_percentile_75}")
print(f"Number of values above or equal to the 97.5th percentile: {num_above_percentile_97}")


hist, bins = np.histogram(mass_cat2["mass (g)"], bins=[22, 26, 128, 270, 450, 669.15, 682])
    
fig = go.Figure(go.Bar(x=[0,1,2,3, 4, 5], y=hist, marker_color = "#fe9f99"))

fig.update_xaxes(tickvals=[0,1,2,3, 4, 5], ticktext=['22g -> 25.99g', '26g -> 127.99g','128g -> 269.99g','270g -> 449.99g','450g -> 668.99g', '669g -> 682g'])
fig.update_layout(bargap=0)

# set the title
fig.update_layout(title=dict(text='<b style="text-align:center">Distribution of mass between 23 and 682 grams</b>'),
                  title_font_color = 'green',
                  title_font_size = 16,
                  title_x = 0.05,
                  title_y = 0.95,
                  font=dict(size=16),
                  xaxis_title='Mass Quantiles',
                  yaxis_title='Count',
                  margin=dict(l=0, r=0, b=20, t = 30),
                  height = 285                  
                 )               

fig.show()


colors = colors

fig = px.bar(mass_cat3, 
             x="year",
             y = "mass (g)",
             color_discrete_sequence = colors,                         
             opacity = 0.9,                                                            
                )

fig.update_layout(
    {'plot_bgcolor': 'rgba(0, 0, 0, 0)'},
    title=dict(text='<b>Meteorite Mass Range: 690➝2700 grams (Recovered 1830-2013) </b>'),
    title_font_color='rgb(89, 89, 89)',
    title_font_size=16,
    title_x = 0.01,     
    xaxis_title='Year',
    yaxis_title='Mass (g)',                
    margin=dict(t=35, b=10, l=0, r=5)
)                    

fig.show()


summary3 = pd.DataFrame({'mass (g)': mass_cat3["mass (g)"].describe(percentiles = [.025, .25, .50, .75, 0.975])}).reset_index(names = 'Statistic')

display(summary3)

print()

# calculate the 97.5th percentile value
percentile_val_75 = mass_cat3['mass (g)'].quantile(0.75)
percentile_val_97 = mass_cat3['mass (g)'].quantile(0.975)

# count the number of values above the 97.5th percentile
num_above_percentile_75 = len(mass_cat3[mass_cat3['mass (g)'] >= percentile_val_75])
num_above_percentile_97 = len(mass_cat3[mass_cat3['mass (g)'] >= percentile_val_97])

print(f"Number of values above or equal to the 75th percentile: {num_above_percentile_75}")
print(f"Number of values above or equal to the 97.5th percentile: {num_above_percentile_97}")


hist, bins = np.histogram(mass_cat3["mass (g)"], bins=[689, 699, 999, 1359, 1899, 2499, 2701])
    
fig = go.Figure(go.Bar(x=[0,1,2,3, 4, 5], y=hist, marker_color = "#fe9f99"))

fig.update_xaxes(tickvals=[0,1,2,3, 4, 5], ticktext=['690g -> 699g', '700g -> 999g','1000g -> 1359g','1360g -> 1899g','1900g -> 2499g', '2500g -> 2700g'])
fig.update_layout(bargap=0)

# set the title
fig.update_layout(title=dict(text='<b style="text-align:center">Distribution of mass between 690 and 2700 grams</b>'),
                  title_font_color = 'green',
                  title_font_size = 16,
                  title_x = 0.05,
                  title_y = 0.95,
                  font=dict(size=16),
                  xaxis_title='Mass Quantiles',
                  yaxis_title='Count',
                  margin=dict(l=0, r=0, b=20, t = 30),
                  height = 285                  
                 )               

fig.show()


mass_cat3.head()


mass_cat3['mass (g)'][mass_cat3['year'] == 1938].sum()


mass_cat3['mass (g)'][mass_cat3['year'] == 1980].sum()


mass_cat3["name"].value_counts().sum() / (mass_cat3["year"].max() - mass_cat3["year"].min())


fig = px.bar(mass_cat4, 
             x="year",
             y = "mass (g)",
             opacity = 0.9, 
             color_discrete_sequence = colors
             #title = 'Monthly observations by group over 171 years',
             #labels={"value": "Count", "variable": "Group"}                                                
                )

fig.update_layout(
    {'plot_bgcolor': 'rgba(0, 0, 0, 0)'},
    title_font_color = 'rgb(89, 89, 89)',
    xaxis_title='Year',
    yaxis_title='Count',
    # height=650, width=1500,
    margin=dict(t=35, b=10, l=0, r=5)
)

fig.show()


summary4 = pd.DataFrame({'mass (g)': mass_cat4["mass (g)"].describe(percentiles = [.025, .25, .50, .75, 0.975])}).reset_index(names = 'Statistic')

display(summary4)

print()

# calculate the 97.5th percentile value
percentile_val_75 = mass_cat4['mass (g)'].quantile(0.75)
percentile_val_97 = mass_cat4['mass (g)'].quantile(0.975)

# count the number of values above the 97.5th percentile
num_above_percentile_75 = len(mass_cat4[mass_cat4['mass (g)'] >= percentile_val_75])
num_above_percentile_97 = len(mass_cat4[mass_cat4['mass (g)'] >= percentile_val_97])

print(f"Number of values above or equal to the 75th percentile: {num_above_percentile_75}")
print(f"Number of values above or equal to the 97.5th percentile: {num_above_percentile_97}")


hist, bins = np.histogram(mass_cat4["mass (g)"], bins=[2750, 2900, 3699.5, 4897.5, 6874.75, 10000, 10323])
    
fig = go.Figure(go.Bar(x=[0,1,2,3, 4, 5], y=hist, marker_color = "#fe9f99"))

fig.update_xaxes(tickvals=[0,1,2,3, 4, 5], ticktext=['2750g -> 2900g', '2900g -> 3700g','3700g -> 4898g','4900g -> 6875g','6875g -> 10000g', '10000g -> 10322g'])
fig.update_layout(bargap=0)

# set the title
fig.update_layout(title=dict(text='<b style="text-align:center">Distribution of mass between 2756 and 10322 grams</b>'),
                  title_font_color = 'green',
                  title_font_size = 16,
                  title_x = 0.05,
                  title_y = 0.95,
                  font=dict(size=16),
                  xaxis_title='Mass Quantiles',
                  yaxis_title='Count',
                  margin=dict(l=0, r=0, b=20, t = 30),
                  height = 285                  
                 )               

fig.show()


fig = px.bar(mass_cat5, 
             x="year",
             y = "mass (g)",
             opacity = 0.9, 
             color_discrete_sequence = colors
             #title = 'Monthly observations by group over 171 years',
             #labels={"value": "Count", "variable": "Group"}                                                
                )

fig.update_layout(
    {'plot_bgcolor': 'rgba(0, 0, 0, 0)'},
    title_font_color = 'rgb(89, 89, 89)',
    xaxis_title='Year',
    yaxis_title='Count',
    # height=650, width=1500,
    margin=dict(t=35, b=10, l=0, r=5)
)

fig.show()


summary5 = pd.DataFrame({'mass (g)': mass_cat5["mass (g)"].describe(percentiles = [.025, .25, .50, .75, 0.975])}).reset_index(names = 'Statistic')

#display(mass_cat5["mass (g)"].describe(percentiles = [.025, .25, .50, .75, 0.975]))
display(summary5)
print()

# calculate the 97.5th percentile value
percentile_val_75 = mass_cat5['mass (g)'].quantile(0.75)
percentile_val_97 = mass_cat5['mass (g)'].quantile(0.975)

# count the number of values above the 97.5th percentile
num_above_percentile_75 = len(mass_cat5[mass_cat5['mass (g)'] >= percentile_val_75])
num_above_percentile_97 = len(mass_cat5[mass_cat5['mass (g)'] >= percentile_val_97])

print(f"Number of values above or equal to the 75th percentile: {num_above_percentile_75}")
print(f"Number of values above or equal to the 97.5th percentile: {num_above_percentile_97}")


hist, bins = np.histogram(mass_cat5["mass (g)"], bins=[10499, 10772.5, 17000, 28000, 53450, 163300, 220000])
    
fig = go.Figure(go.Bar(x=[0,1,2,3, 4, 5], y=hist, marker_color = "#fe9f99"))

fig.update_xaxes(tickvals=[0,1,2,3, 4, 5], ticktext=['10500g -> 10772.49g', '10772.5g -> 16999.99g','17000g -> 2799.99g','2800g -> 53449.99g','53450g -> 163299.99g', '163300g -> 220000g'])
fig.update_layout(bargap=0)

# set the title
fig.update_layout(title=dict(text='<b style="text-align:center">Distribution of mass between 10500 and 220000 grams</b>'),
                  title_font_color = 'green',
                  title_font_size = 16,
                  title_x = 0.05,
                  title_y = 0.95,
                  font=dict(size=16),
                  xaxis_title='Mass Quantiles',
                  yaxis_title='Count',
                  margin=dict(l=0, r=0, b=20, t = 30),
                  height = 285                  
                 )               

fig.show()


fig = px.bar(mass_cat6, 
             x="year",
             y = "mass (g)",
             log_y = True,
             opacity = 0.9, 
             color_discrete_sequence = colors
             #title = 'Monthly observations by group over 171 years',
             #labels={"value": "Count", "variable": "Group"}                                                
                )

fig.update_layout(
    {'plot_bgcolor': 'rgba(0, 0, 0, 0)'},
    title_font_color = 'rgb(89, 89, 89)',
    xaxis_title='Year',
    yaxis_title='Count',
    # height=650, width=1500,
    margin=dict(t=35, b=10, l=0, r=5)
)

fig.show()


summary6 = pd.DataFrame({'mass (g)': mass_cat6["mass (g)"].describe(percentiles = [.025, .25, .50, .75, 0.975])}).reset_index(names = 'Statistic')

display(summary6)

print()

# calculate the 97.5th percentile value
percentile_val_75 = mass_cat6['mass (g)'].quantile(0.75)
percentile_val_97 = mass_cat6['mass (g)'].quantile(0.975)

# count the number of values above the 97.5th percentile
num_above_percentile_75 = len(mass_cat6[mass_cat6['mass (g)'] >= percentile_val_75])
num_above_percentile_97 = len(mass_cat6[mass_cat6['mass (g)'] >= percentile_val_97])

print(f"Number of values above or equal to the 75th percentile: {num_above_percentile_75}")
print(f"Number of values above or equal to the 97.5th percentile: {num_above_percentile_97}")


hist, bins = np.histogram(mass_cat6["mass (g)"], bins=[2.280000e+05, 2.292000e+05, 2.600000e+05, 3.250000e+05, 6.000000e+05, 1.160000e+07, 2.300000e+07])
    
fig = go.Figure(go.Bar(x=[0,1,2,3, 4, 5], y=hist, marker_color = "#fe9f99"))

fig.update_xaxes(tickvals=[0,1,2,3, 4, 5], ticktext=['min -> 2.5%', '2.5% -> 25%','25% -> 50%','50% -> 75%','75% -> 97.5%', '97.5% -> max'])
fig.update_layout(bargap=0)

# set the title
fig.update_layout(title=dict(text='<b style="text-align:center">Distribution of mass between 228000 and 23000000 grams</b>'),
                  title_font_color = 'green',
                  title_font_size = 16,
                  title_x = 0.05,
                  title_y = 0.95,
                  font=dict(size=16),
                  xaxis_title='Mass Quantiles',
                  yaxis_title='Count',
                  margin=dict(l=0, r=0, b=20, t = 30),
                  height = 285                  
                 )                           
fig.show()


mass_cat1.head()


#Creating dataframes of calculated fields for each mass category

#1
cat1_grouped_by_type_and_group = mass_cat1.groupby(["Type", "group"])["name"].count().reset_index(name = 'count')

cat1_grouped_avg_mass = mass_cat1.groupby(["Type", "group"])["mass (g)"].mean().reset_index(name = 'avg mass (g)')

cat1_grouped_min_mass = mass_cat1.groupby(["Type", "group"])["mass (g)"].min().reset_index(name = 'min mass (g)')

cat1_grouped_max_mass = mass_cat1.groupby(["Type", "group"])["mass (g)"].max().reset_index(name = 'max mass (g)')

cat1_grouped_by_type_and_group['min mass (g)'] = np.around(cat1_grouped_min_mass['min mass (g)'], decimals = 2)

cat1_grouped_by_type_and_group['avg mass (g)'] = np.around(cat1_grouped_avg_mass['avg mass (g)'], decimals = 2)

cat1_grouped_by_type_and_group['max mass (g)'] = np.around(cat1_grouped_max_mass['max mass (g)'], decimals = 2)

cat1_grouped_by_type_and_group['percentage[%]'] = np.around(100 * cat1_grouped_by_type_and_group['count']  / cat1_grouped_by_type_and_group['count'].sum(), decimals = 2)

cat1_grouped_by_type_and_group = cat1_grouped_by_type_and_group.sort_values(by = "percentage[%]", ascending = False).reset_index(drop = True)

#2
cat2_grouped_by_type_and_group = mass_cat2.groupby(["Type", "group"])["name"].count().reset_index(name = 'count')

cat2_grouped_avg_mass = mass_cat2.groupby(["Type", "group"])["mass (g)"].mean().reset_index(name = 'avg mass (g)')

cat2_grouped_min_mass = mass_cat2.groupby(["Type", "group"])["mass (g)"].min().reset_index(name = 'min mass (g)')

cat2_grouped_max_mass = mass_cat2.groupby(["Type", "group"])["mass (g)"].max().reset_index(name = 'max mass (g)')

cat2_grouped_by_type_and_group['min mass (g)'] = np.around(cat2_grouped_min_mass['min mass (g)'], decimals = 2)

cat2_grouped_by_type_and_group['avg mass (g)'] = np.around(cat2_grouped_avg_mass['avg mass (g)'], decimals = 2)

cat2_grouped_by_type_and_group['max mass (g)'] = np.around(cat2_grouped_max_mass['max mass (g)'], decimals = 2)

cat2_grouped_by_type_and_group['percentage[%]'] = np.around(100 * cat2_grouped_by_type_and_group['count']  / cat2_grouped_by_type_and_group['count'].sum(), decimals = 2)

cat2_grouped_by_type_and_group = cat2_grouped_by_type_and_group.sort_values(by = "percentage[%]", ascending = False).reset_index(drop = True)

#3
cat3_grouped_by_type_and_group = mass_cat3.groupby(["Type", "group"])["name"].count().reset_index(name = 'count')

cat3_grouped_avg_mass = mass_cat3.groupby(["Type", "group"])["mass (g)"].mean().reset_index(name = 'avg mass (g)')

cat3_grouped_min_mass = mass_cat3.groupby(["Type", "group"])["mass (g)"].min().reset_index(name = 'min mass (g)')

cat3_grouped_max_mass = mass_cat3.groupby(["Type", "group"])["mass (g)"].max().reset_index(name = 'max mass (g)')

cat3_grouped_by_type_and_group['min mass (g)'] = np.around(cat3_grouped_min_mass['min mass (g)'], decimals = 2)

cat3_grouped_by_type_and_group['avg mass (g)'] = np.around(cat3_grouped_avg_mass['avg mass (g)'], decimals = 2)

cat3_grouped_by_type_and_group['max mass (g)'] = np.around(cat3_grouped_max_mass['max mass (g)'], decimals = 2)

cat3_grouped_by_type_and_group['percentage[%]'] = np.around(100 * cat3_grouped_by_type_and_group['count']  / cat3_grouped_by_type_and_group['count'].sum(), decimals = 2)

cat3_grouped_by_type_and_group = cat3_grouped_by_type_and_group.sort_values(by = "percentage[%]", ascending = False).reset_index(drop = True)

#4
cat4_grouped_by_type_and_group = mass_cat4.groupby(["Type", "group"])["name"].count().reset_index(name = 'count')

cat4_grouped_avg_mass = mass_cat4.groupby(["Type", "group"])["mass (g)"].mean().reset_index(name = 'avg mass (g)')

cat4_grouped_min_mass = mass_cat4.groupby(["Type", "group"])["mass (g)"].min().reset_index(name = 'min mass (g)')

cat4_grouped_max_mass = mass_cat4.groupby(["Type", "group"])["mass (g)"].max().reset_index(name = 'max mass (g)')

cat4_grouped_by_type_and_group['min mass (g)'] = np.around(cat4_grouped_min_mass['min mass (g)'], decimals = 2)

cat4_grouped_by_type_and_group['avg mass (g)'] = np.around(cat4_grouped_avg_mass['avg mass (g)'], decimals = 2)

cat4_grouped_by_type_and_group['max mass (g)'] = np.around(cat4_grouped_max_mass['max mass (g)'], decimals = 2)

cat4_grouped_by_type_and_group['percentage[%]'] = np.around(100 * cat4_grouped_by_type_and_group['count']  / cat4_grouped_by_type_and_group['count'].sum(), decimals = 2)

cat4_grouped_by_type_and_group = cat4_grouped_by_type_and_group.sort_values(by = "percentage[%]", ascending = False).reset_index(drop = True)

#5
cat5_grouped_by_type_and_group = mass_cat5.groupby(["Type", "group"])["name"].count().reset_index(name = 'count')

cat5_grouped_avg_mass = mass_cat5.groupby(["Type", "group"])["mass (g)"].mean().reset_index(name = 'avg mass (g)')

cat5_grouped_min_mass = mass_cat5.groupby(["Type", "group"])["mass (g)"].min().reset_index(name = 'min mass (g)')

cat5_grouped_max_mass = mass_cat5.groupby(["Type", "group"])["mass (g)"].max().reset_index(name = 'max mass (g)')

cat5_grouped_by_type_and_group['min mass (g)'] = np.around(cat5_grouped_min_mass['min mass (g)'], decimals = 2)

cat5_grouped_by_type_and_group['avg mass (g)'] = np.around(cat5_grouped_avg_mass['avg mass (g)'], decimals = 2)

cat5_grouped_by_type_and_group['max mass (g)'] = np.around(cat5_grouped_max_mass['max mass (g)'], decimals = 2)

cat5_grouped_by_type_and_group['percentage[%]'] = np.around(100 * cat5_grouped_by_type_and_group['count']  / cat5_grouped_by_type_and_group['count'].sum(), decimals = 2)

cat5_grouped_by_type_and_group = cat5_grouped_by_type_and_group.sort_values(by = "percentage[%]", ascending = False).reset_index(drop = True)

#6
cat6_grouped_by_type_and_group = mass_cat6.groupby(["Type", "group"])["name"].count().reset_index(name = 'count')

cat6_grouped_avg_mass = mass_cat6.groupby(["Type", "group"])["mass (g)"].mean().reset_index(name = 'avg mass (g)')

cat6_grouped_min_mass = mass_cat6.groupby(["Type", "group"])["mass (g)"].min().reset_index(name = 'min mass (g)')

cat6_grouped_max_mass = mass_cat6.groupby(["Type", "group"])["mass (g)"].max().reset_index(name = 'max mass (g)')

cat6_grouped_by_type_and_group['min mass (g)'] = np.around(cat6_grouped_min_mass['min mass (g)'], decimals = 2)

cat6_grouped_by_type_and_group['avg mass (g)'] = np.around(cat6_grouped_avg_mass['avg mass (g)'], decimals = 2)

cat6_grouped_by_type_and_group['max mass (g)'] = np.around(cat6_grouped_max_mass['max mass (g)'], decimals = 2)

cat6_grouped_by_type_and_group['percentage[%]'] = np.around(100 * cat6_grouped_by_type_and_group['count']  / cat6_grouped_by_type_and_group['count'].sum(), decimals = 2)

cat6_grouped_by_type_and_group = cat6_grouped_by_type_and_group.sort_values(by = "percentage[%]", ascending = False).reset_index(drop = True)



display(cat1_grouped_by_type_and_group.head(15))
display(cat2_grouped_by_type_and_group.head(15))
display(cat3_grouped_by_type_and_group.head(15))
display(cat4_grouped_by_type_and_group.head(15))
display(cat5_grouped_by_type_and_group.head(15))
display(cat6_grouped_by_type_and_group.head(15))




type_colors = ['rgb(199, 110, 44)', 'rgb(221, 164, 98)', 'rgb(182, 95, 86)', 'rgb(199, 155, 34)', 'rgb(175, 141, 100)', 'rgb(216, 139, 118)', 'rgb(205, 182, 135)', 
               'rgb(224, 169, 144)', 'rgb(189, 91, 64)', 'rgb(100, 125, 109)', 'rgb(169, 118, 88)', 'rgb(228, 158, 124)', 'rgb(135, 148, 168)', 'rgb(173, 149, 131)', 
               'rgb(208, 158, 122)', 'rgb(169, 165, 166)', 'rgb(196, 140, 174)', 'rgb(212, 92, 60)', 'rgb(186, 87, 29)', 'rgb(142, 104, 40)', 'rgb(218, 190, 124)', 
               'rgb(143, 144, 148)', 'rgb(155, 124, 107)', 'rgb(178, 163, 155)', 'rgb(217, 134, 78)', 'rgb(145, 52, 19)', 'rgb(172, 121, 93)', 'rgb(181, 145, 51)', 
               'rgb(215, 112, 47)', 'rgb(177, 169, 173)', 'rgb(98, 108, 148)', 'rgb(183, 176, 177)', 'rgb(98, 107, 125)', 'rgb(196, 125, 94)', 'rgb(154, 174, 191)', 
               'rgb(244, 212, 52)', 'rgb(194, 164, 71)', 'rgb(184, 132, 68)', 'rgb(199, 90, 89)', 'rgb(229, 111, 96)', 'rgb(234, 149, 83)', 'rgb(157, 104, 80)', 
               'rgb(192, 168, 149)', 'rgb(132, 184, 212)', 'rgb(158, 148, 172)', 'rgb(181, 142, 78)', 'rgb(201, 136, 4)', 'rgb(140, 175, 207)', 'rgb(149, 157, 162)', 
               'rgb(190, 159, 92)', 'rgb(165, 122, 40)', 'rgb(122, 112, 108)', 'rgb(184, 158, 133)', 'rgb(172, 85, 57)', 'rgb(217, 165, 152)', 'rgb(228, 140, 135)', 
               'rgb(185, 119, 4)', 'rgb(164, 173, 188)', 'rgb(199, 162, 96)', 'rgb(150, 123, 42)', 'rgb(84, 140, 178)', 'rgb(200, 135, 119)', 'rgb(128, 163, 164)', 
               'rgb(189, 127, 15)', 'rgb(169, 85, 58)', 'rgb(141, 129, 120)', 'rgb(173, 80, 53)', 'rgb(215, 124, 54)', 'rgb(131, 123, 115)', 'rgb(125, 130, 136)', 
               'rgb(175, 170, 179)', 'rgb(166, 121, 98)', 'rgb(145, 50, 28)', 'rgb(166, 108, 27)', 'rgb(157, 108, 132)', 'rgb(132, 156, 180)', 'rgb(204, 100, 76)', 
               'rgb(129, 84, 76)', 'rgb(169, 159, 31)', 'rgb(177, 175, 182)', 'rgb(146, 173, 175)', 'rgb(113, 127, 138)', 'rgb(152, 122, 112)', 'rgb(153, 154, 44)', 
               'rgb(155, 152, 104)', 'rgb(114, 135, 152)', 'rgb(143, 167, 188)', 'rgb(121, 164, 194)', 'rgb(84, 168, 98)', 'rgb(148, 133, 121)', 'rgb(192, 171, 151)', 
               'rgb(204, 140, 122)', 'rgb(161, 188, 187)', 'rgb(132, 180, 188)', 'rgb(214, 133, 98)', 'rgb(187, 112, 126)', 'rgb(196, 116, 87)', 'rgb(174, 66, 17)', 
               'rgb(149, 108, 86)', 'rgb(230, 176, 13)', 'rgb(186, 134, 118)', 'rgb(108, 156, 156)', 'rgb(204, 182, 98)', 'rgb(239, 163, 122)', 'rgb(183, 141, 42)', 
               'rgb(132, 124, 164)', 'rgb(205, 115, 98)', 'rgb(194, 153, 143)', 'rgb(174, 98, 78)', 'rgb(193, 146, 111)', 'rgb(229, 147, 148)', 'rgb(200, 165, 140)', 
               'rgb(182, 68, 116)', 'rgb(210, 129, 116)']

# from random import shuffle

# #color shuffler 
# shuffle(type_colors)
# # new_achondrite_colors = colors
# print(type_colors)


# Create a dictionary that maps the values in the column to colors.
color_map = {value: color for value, color in zip(cat1_grouped_by_type_and_group['group'].values, type_colors)}

fig = px.bar(cat1_grouped_by_type_and_group, x="group", y="count",
             color_discrete_map = color_map,
             hover_data=['group', 'Type', 'count', 'min mass (g)', 'avg mass (g)', 'max mass (g)', 'percentage[%]'],
             labels={'group': 'Group','Type':'Type','count':'Count', 'min mass (g)': 'Minimum Mass(grams)', 
                     'avg mass (g)': 'Average Mass(grams)', 'max mass (g)': 'Maximum Mass(grams)', 'percentage[%]':'Percentage'},
             color = cat1_grouped_by_type_and_group["group"],
             opacity = 0.9,             
            )
fig.update_xaxes(tickangle=45)

fig.update_layout(   
        {'plot_bgcolor': 'rgba(0, 0, 0, 0)'},
        title=dict(text='<b>Distribution of meteorites between 0.1 and 22 grams grouped by type and sorted by frequency </b>'),
        title_font_color='rgb(89, 89, 89)',
        title_font_size=16,
        title_x = 0.01,     
        xaxis_title='Group',
        yaxis_title='Count',                
        margin=dict(t=35, b=10, l=0, r=5),
        showlegend = True,
        legend = dict(
            itemsizing='constant',  # Use a constant item size for the legend markers
            itemclick='toggleothers',  # Enable toggle behavior on clicking the legend items
            traceorder='normal',  # Set the trace order to normal
            tracegroupgap=10,  # Adjust the gap between legend items        
            itemdoubleclick='toggle'  # Enable double-click behavior on legend items
            ),
    )


fig.show()


# Create a dictionary that maps the values in the column to colors.
color_map = {value: color for value, color in zip(cat2_grouped_by_type_and_group['group'].values, type_colors)}

fig = px.bar(cat2_grouped_by_type_and_group, x="group", y="count",
             color_discrete_map = color_map,
             hover_data=['group', 'Type', 'count', 'min mass (g)', 'avg mass (g)', 'max mass (g)', 'percentage[%]'],
             labels={'group': 'Group','Type':'Type','count':'Count', 'min mass (g)': 'Minimum Mass(grams)', 
                     'avg mass (g)': 'Average Mass(grams)', 'max mass (g)': 'Maximum Mass(grams)', 'percentage[%]':'Percentage'},
             color = cat2_grouped_by_type_and_group["group"],
             opacity = 0.9,            
            )
fig.update_xaxes(tickangle=45)

fig.update_layout(   
        {'plot_bgcolor': 'rgba(0, 0, 0, 0)'},
        title=dict(text='<b>Distribution of meteorites between 22 and 682 grams grouped by type and sorted by frequency </b>'),
        title_font_color='rgb(89, 89, 89)',
        title_font_size=16,
        title_x = 0.01,     
        xaxis_title='Group',
        yaxis_title='Count',                
        margin=dict(t=35, b=10, l=0, r=5),
        showlegend = True,
        legend = dict(
            itemsizing='constant',  # Use a constant item size for the legend markers
            itemclick='toggleothers',  # Enable toggle behavior on clicking the legend items
            traceorder='normal',  # Set the trace order to normal
            tracegroupgap=10,  # Adjust the gap between legend items        
            itemdoubleclick='toggle'  # Enable double-click behavior on legend items
            ),
    )


fig.show()


# Create a dictionary that maps the values in the column to colors.
color_map = {value: color for value, color in zip(cat3_grouped_by_type_and_group['group'].values, type_colors)}

fig = px.bar(cat3_grouped_by_type_and_group, x="group", y="count",
             color_discrete_map = color_map,
             hover_data=['group', 'Type', 'count', 'min mass (g)', 'avg mass (g)', 'max mass (g)', 'percentage[%]'],
             labels={'group': 'Group','Type':'Type','count':'Count', 'min mass (g)': 'Minimum Mass(grams)', 
                     'avg mass (g)': 'Average Mass(grams)', 'max mass (g)': 'Maximum Mass(grams)', 'percentage[%]':'Percentage'},
             color = cat3_grouped_by_type_and_group["group"],
             opacity = 0.9,            
            )
fig.update_xaxes(tickangle=45)

fig.update_layout(   
        {'plot_bgcolor': 'rgba(0, 0, 0, 0)'},
        title=dict(text='<b>Distribution of meteorites between 682 and 2700 grams grouped by type and sorted by frequency </b>'),
        title_font_color='rgb(89, 89, 89)',
        title_font_size=16,
        title_x = 0.01,     
        xaxis_title='Group',
        yaxis_title='Count',                
        margin=dict(t=35, b=10, l=0, r=5),
        showlegend = True,
        legend = dict(
            itemsizing='constant',  # Use a constant item size for the legend markers
            itemclick='toggleothers',  # Enable toggle behavior on clicking the legend items
            traceorder='normal',  # Set the trace order to normal
            tracegroupgap=10,  # Adjust the gap between legend items        
            itemdoubleclick='toggle'  # Enable double-click behavior on legend items
            ),
    )


fig.show()


# Create a dictionary that maps the values in the column to colors.
color_map = {value: color for value, color in zip(cat4_grouped_by_type_and_group['group'].values, type_colors)}

fig = px.bar(cat4_grouped_by_type_and_group, x="group", y="count",
             color_discrete_map = color_map,
             hover_data=['group', 'Type', 'count', 'min mass (g)', 'avg mass (g)', 'max mass (g)', 'percentage[%]'],
             labels={'group': 'Group','Type':'Type','count':'Count', 'min mass (g)': 'Minimum Mass(grams)', 
                     'avg mass (g)': 'Average Mass(grams)', 'max mass (g)': 'Maximum Mass(grams)', 'percentage[%]':'Percentage'},
             color = cat4_grouped_by_type_and_group["group"],
             opacity = 0.9,            
            )
fig.update_xaxes(tickangle=45)

fig.update_layout(   
        {'plot_bgcolor': 'rgba(0, 0, 0, 0)'},
        title=dict(text='<b>Distribution of meteorites between 2700 and 10322 grams grouped by type and sorted by frequency </b>'),
        title_font_color='rgb(89, 89, 89)',
        title_font_size=16,
        title_x = 0.01,     
        xaxis_title='Group',
        yaxis_title='Count',                
        margin=dict(t=35, b=10, l=0, r=5),
        showlegend = True,
        legend = dict(
            itemsizing='constant',  # Use a constant item size for the legend markers
            itemclick='toggleothers',  # Enable toggle behavior on clicking the legend items
            traceorder='normal',  # Set the trace order to normal
            tracegroupgap=10,  # Adjust the gap between legend items        
            itemdoubleclick='toggle'  # Enable double-click behavior on legend items
            ),
    )


fig.show()


# Create a dictionary that maps the values in the column to colors.
color_map = {value: color for value, color in zip(cat5_grouped_by_type_and_group['group'].values, type_colors)}

fig = px.bar(cat5_grouped_by_type_and_group, x="group", y="count",
             color_discrete_map = color_map,
             hover_data=['group', 'Type', 'count', 'min mass (g)', 'avg mass (g)', 'max mass (g)', 'percentage[%]'],
             labels={'group': 'Group','Type':'Type','count':'Count', 'min mass (g)': 'Minimum Mass(grams)', 
                     'avg mass (g)': 'Average Mass(grams)', 'max mass (g)': 'Maximum Mass(grams)', 'percentage[%]':'Percentage'},
             color = cat5_grouped_by_type_and_group["group"],
             opacity = 0.9,             
            )
fig.update_xaxes(tickangle=45)

fig.update_layout(   
        {'plot_bgcolor': 'rgba(0, 0, 0, 0)'},
        title=dict(text='<b>Distribution of meteorites between 10500 and 220000 grams grouped by type and sorted by frequency </b>'),
        title_font_color='rgb(89, 89, 89)',
        title_font_size=16,
        title_x = 0.01,     
        xaxis_title='Group',
        yaxis_title='Count',                
        margin=dict(t=35, b=10, l=0, r=5),
        showlegend = True,
        legend = dict(
            itemsizing='constant',  # Use a constant item size for the legend markers
            itemclick='toggleothers',  # Enable toggle behavior on clicking the legend items
            traceorder='normal',  # Set the trace order to normal
            tracegroupgap=10,  # Adjust the gap between legend items        
            itemdoubleclick='toggle'  # Enable double-click behavior on legend items
            ),
    )


fig.show()


mass_cat5.sort_values(by = 'mass (g)', ascending = False)


# Create a dictionary that maps the values in the column to colors.
color_map = {value: color for value, color in zip(cat6_grouped_by_type_and_group['group'].values, type_colors)}

fig = px.bar(cat6_grouped_by_type_and_group, x="group", y="count",
             color_discrete_map = color_map,
             hover_data=['group', 'Type', 'count', 'min mass (g)', 'avg mass (g)', 'max mass (g)', 'percentage[%]'],
             labels={'group': 'Group','Type':'Type','count':'Count', 'min mass (g)': 'Minimum Mass(grams)', 
                     'avg mass (g)': 'Average Mass(grams)', 'max mass (g)': 'Maximum Mass(grams)', 'percentage[%]':'Percentage'},
             color = cat6_grouped_by_type_and_group["group"],
             opacity = 0.9,             
            )

fig.update_xaxes(tickangle=45)

fig.update_layout(   
        {'plot_bgcolor': 'rgba(0, 0, 0, 0)'},
        title=dict(text='<b>Distribution of meteorites between 212000 and 23000000 grams grouped by type and sorted by frequency </b>'),
        title_font_color='rgb(89, 89, 89)',
        title_font_size=16,
        title_x = 0.01,     
        xaxis_title='Group',
        yaxis_title='Count',                
        margin=dict(t=35, b=10, l=0, r=5),
        showlegend = True,
        legend = dict(
            itemsizing='constant',  # Use a constant item size for the legend markers
            itemclick='toggleothers',  # Enable toggle behavior on clicking the legend items
            traceorder='normal',  # Set the trace order to normal
            tracegroupgap=10,  # Adjust the gap between legend items        
            itemdoubleclick='toggle'  # Enable double-click behavior on legend items
            ),
    )


fig.show()


print(cat1_grouped_by_type_and_group.shape[0])
print(cat2_grouped_by_type_and_group.shape[0])
print(cat3_grouped_by_type_and_group.shape[0])
print(cat4_grouped_by_type_and_group.shape[0])
print(cat5_grouped_by_type_and_group.shape[0])
print(cat6_grouped_by_type_and_group.shape[0])


print(cat1_grouped_by_type_and_group['count'].sum())
print(cat2_grouped_by_type_and_group['count'].sum())
print(cat3_grouped_by_type_and_group['count'].sum())
print(cat4_grouped_by_type_and_group['count'].sum())
print(cat5_grouped_by_type_and_group['count'].sum())
print(cat6_grouped_by_type_and_group['count'].sum())


len(type_colors)


#limit the color list to include only the necessary amount of colors
# size desired
k = 59
 
# using pop()
# to truncate list
n = len(type_colors)
for i in range(0, n - k ):
    type_colors.pop()
    
print(type_colors)


cat1_grouped_by_type_and_group.head()


cat1_grouped_by_type_and_group["group"].nunique()




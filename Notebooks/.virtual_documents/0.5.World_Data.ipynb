import pandas as pd
import statsmodels.api as sm
import numpy as np
import scipy

# Setting this option will print all collumns of a dataframe
pd.set_option('display.max_columns', 50)
# Setting this option will print all of the data in a feature
pd.set_option('display.max_colwidth', 1000)
#Turn off scientific notation
pd.set_option('display.float_format', lambda x: '%.3f' % x)

pd.options.mode.chained_assignment = None  # default='warn'


#import the data
area_df = pd.read_csv('../Data/world_bank_surface_area.csv', index_col = [0])
df_183 = pd.read_csv('../Data/df183.csv', index_col = [0])


area_df.head(15)


df_183.head()


df183 = pd.merge(df_183, area_df, on="country", how="left")


df183.head()


df183.info()


df183.tail(30)


#save the csv for future use
df183.to_csv('./Data/df183_with_country_area.csv')


grouped_by_region = df183.groupby(['country', "area(sq Km)", 'continent'])['name'].count().sort_values(ascending = False).reset_index(name = 'count')


grouped_by_region


grouped_by_region.isnull().sum()


europe = grouped_by_region[grouped_by_region['continent'] == 'Europe'].sort_values(by='count', ascending=False)
asia = grouped_by_region[grouped_by_region['continent'] == 'Asia'].sort_values(by='count', ascending=False)
north_america = grouped_by_region[grouped_by_region['continent'] == 'North America'].sort_values(by='count', ascending=False)
africa = grouped_by_region[grouped_by_region['continent'] == 'Africa'].sort_values(by='count', ascending=False)
south_america = grouped_by_region[grouped_by_region['continent'] == 'South America'].sort_values(by='count', ascending=False)
oceania = grouped_by_region[grouped_by_region['continent'] == 'Oceania'].sort_values(by='count', ascending=False)
antarctica = grouped_by_region[grouped_by_region['continent'] == 'Antarctica'].sort_values(by='count', ascending=False)


import plotly.graph_objects as go
fig = go.Figure(go.Bar(x=europe['count'],
                               y=europe['country'],
                               orientation='h',
                               marker={"color": list(range(len(europe['country']))), "colorscale": "Tealgrn"},
                               )
                        )
        
fig.update_layout(
    {'plot_bgcolor': 'rgba(0, 0, 0, 0)'},
    title=dict(text='<b>Top Countries with Confirmed Observations in Europe</b>'),
    title_font_color = 'rgb(89, 89, 89)',
    xaxis_title='Count',
    yaxis_title='Country',
    yaxis=dict(autorange="reversed"),
    bargap=0.3,
    #width=1000,
    height = 800
 )
fig.show()


europe_sorted_by_area = grouped_by_region[grouped_by_region['continent'] == 'Europe'].sort_values(by='area(sq Km)', ascending=False)
asia_sorted_by_area = grouped_by_region[grouped_by_region['continent'] == 'Asia'].sort_values(by='area(sq Km)', ascending=False)
north_america_sorted_by_area = grouped_by_region[grouped_by_region['continent'] == 'North America'].sort_values(by='area(sq Km)', ascending=False)
africa_sorted_by_area = grouped_by_region[grouped_by_region['continent'] == 'Africa'].sort_values(by='area(sq Km)', ascending=False)
south_america_sorted_by_area = grouped_by_region[grouped_by_region['continent'] == 'South America'].sort_values(by='area(sq Km)', ascending=False)
oceania_sorted_by_area = grouped_by_region[grouped_by_region['continent'] == 'Oceania'].sort_values(by='area(sq Km)', ascending=False)
antarctica_sorted_by_area = grouped_by_region[grouped_by_region['continent'] == 'Antarctica'].sort_values(by='area(sq Km)', ascending=False)


europe_sorted_by_area.head()


europe_sorted_by_area["area(sq Km)"].sum()


european_countries = np.column_stack((europe['country'], europe_sorted_by_area['country']))


european_countries = pd.DataFrame(european_countries)


european_countries.head()


european_countries.rename(columns={0:"sorted by count", 1: "sorted by area"}, inplace = True)


european_countries


european_countries.shape[0]


asian_countries = np.column_stack((asia['country'], asia_sorted_by_area['country']))
asian_countries = pd.DataFrame(asian_countries)
asian_countries.shape[0]


#Create a function to generate a color scale with enough shades for all the bars (see the 'Africa' chart)
def generate_colorscale(start_color, end_color, n, alpha=1.0):
    """
    Generates a list of colors in RGBA format, varying the color intensity
    from a base color to white. The number of colors is specified by n.

    :param base_color: The base color in RGB format, as a tuple.
    :param n: The number of colors to generate.
    :param alpha: The alpha value for the colors. Must be between 0 and 1.
    :return: A list of colors in RGBA format.
    """
    if alpha < 0 or alpha > 1:
        raise ValueError("alpha must be between 0 and 1.")

    start_color = start_color
    end_color = end_color

    r_start, g_start, b_start = start_color
    r_end, g_end, b_end = end_color

    r_step = (r_end - r_start) / n
    g_step = (g_end - g_start) / n
    b_step = (b_end - b_start) / n

    color_list = []
    for i in range(n):
        r_value = int(r_start + r_step * i)
        g_value = int(g_start + g_step * i)
        b_value = int(b_start + b_step * i)
        color = (r_value, g_value, b_value, alpha)
        color_list.append("rgba" + str(color))

    return color_list

colorscale = generate_colorscale((226, 114, 91), (217, 206, 193), 50, alpha=1)


import plotly.graph_objects as go
fig = go.Figure(go.Bar(x=europe_sorted_by_area['area(sq Km)'],
                               y=europe_sorted_by_area['country'],
                               orientation='h',
                               marker=dict(color=europe_sorted_by_area['country'].map(dict(zip(europe_sorted_by_area['country'].unique(), colorscale)))),
                               )
                        )
        
fig.update_layout(
    {'plot_bgcolor': 'rgba(0, 0, 0, 0)'},
    title=dict(text='<b>European countries sorted by area</b>'),
    title_font_color = 'rgb(89, 89, 89)',
    xaxis_title='Area(sq Km)',
    yaxis_title='Country',
    yaxis=dict(autorange="reversed"),
    bargap=0.3,
    #width=1000,
    height = 800
 )
fig.show()


import plotly.graph_objects as go
fig = go.Figure(go.Bar(x=asia_sorted_by_area['area(sq Km)'],
                               y=asia_sorted_by_area['country'],
                               orientation='h',
                               marker=dict(color=asia_sorted_by_area['country'].map(dict(zip(asia_sorted_by_area['country'].unique(), colorscale)))),
                               )
                        )
        
fig.update_layout(
    {'plot_bgcolor': 'rgba(0, 0, 0, 0)'},
    title=dict(text='<b>Asian countries sorted by area</b>'),
    title_font_color = 'rgb(89, 89, 89)',
    xaxis_title='Area(sq Km)',
    yaxis_title='Country',
    yaxis=dict(autorange="reversed"),
    bargap=0.3,
    #width=1000,
    height = 800
 )
fig.show()


import plotly.graph_objects as go
fig = go.Figure(go.Bar(x=north_america_sorted_by_area['area(sq Km)'],
                               y=north_america_sorted_by_area['country'],
                               orientation='h',
                               marker=dict(color=north_america_sorted_by_area['country'].map(dict(zip(north_america_sorted_by_area['country'].unique(), colorscale)))),
                               )
                        )
        
fig.update_layout(
    {'plot_bgcolor': 'rgba(0, 0, 0, 0)'},
    title=dict(text='<b>North American countries sorted by area</b>'),
    title_font_color = 'rgb(89, 89, 89)',
    xaxis_title='Area(sq Km)',
    yaxis_title='Country',
    yaxis=dict(autorange="reversed"),
    bargap=0.3,
    #width=1000,
    # height = 800
 )
fig.show()


import plotly.graph_objects as go
fig = go.Figure(go.Bar(x=africa_sorted_by_area['area(sq Km)'],
                               y=africa_sorted_by_area['country'],
                               orientation='h',
                               marker=dict(color=africa_sorted_by_area['country'].map(dict(zip(africa_sorted_by_area['country'].unique(), colorscale)))),
                               )
                        )
        
fig.update_layout(
    {'plot_bgcolor': 'rgba(0, 0, 0, 0)'},
    title=dict(text='<b>African countries sorted by area</b>'),
    title_font_color = 'rgb(89, 89, 89)',
    xaxis_title='Area(sq Km)',
    yaxis_title='Country',
    yaxis=dict(autorange="reversed"),
    bargap=0.3,
    #width=1000,
    height = 800
 )
fig.show()


import plotly.graph_objects as go
fig = go.Figure(go.Bar(x=south_america_sorted_by_area['area(sq Km)'],
                               y=south_america_sorted_by_area['country'],
                               orientation='h',
                               marker=dict(color=south_america_sorted_by_area['country'].map(dict(zip(south_america_sorted_by_area['country'].unique(), colorscale)))),
                               )
                        )
        
fig.update_layout(
    {'plot_bgcolor': 'rgba(0, 0, 0, 0)'},
    title=dict(text='<b>South American countries sorted by area</b>'),
    title_font_color = 'rgb(89, 89, 89)',
    xaxis_title='Area(sq Km)',
    yaxis_title='Country',
    yaxis=dict(autorange="reversed"),
    bargap=0.3,
    #width=1000,
    # height = 800
 )
fig.show()


import plotly.graph_objects as go
fig = go.Figure(go.Bar(x=oceania_sorted_by_area['area(sq Km)'],
                               y=oceania_sorted_by_area['country'],
                               orientation='h',
                               marker=dict(color=oceania_sorted_by_area['country'].map(dict(zip(oceania_sorted_by_area['country'].unique(), colorscale)))),
                               )
                        )
        
fig.update_layout(
    {'plot_bgcolor': 'rgba(0, 0, 0, 0)'},
    title=dict(text='<b>Oceania countries sorted by area</b>'),
    title_font_color = 'rgb(89, 89, 89)',
    xaxis_title='Area(sq Km)',
    yaxis_title='Country',
    yaxis=dict(autorange="reversed"),
    bargap=0.3,
    #width=1000,
    # height = 800
 )
fig.show()


import plotly.express as px
import numpy as np
import plotly.graph_objects as go

# Calculate the trendline data
x = np.log10(europe_sorted_by_area["area(sq Km)"])
y = europe_sorted_by_area["count"]
coefficients = np.polyfit(x, y, 1)
trendline_y = np.polyval(coefficients, x) 

# Create the scatter plot
fig = px.scatter(
    europe_sorted_by_area,
    x="area(sq Km)",
    y="count",
    color='country',
    log_x=True

)

# Add the trendline as a line trace
fig.add_trace(go.Scatter(x=10**x, y=trendline_y, mode='lines', name='Trendline', line={"width":3, "color": '#f2c15d'}))  

fig.update_traces(marker={'size': 12})

fig.update_layout(
                {'plot_bgcolor': '#aecadc'},
                title=dict(text='<b>Correlation between country area and number of observations in Europe</b>'),
                title_font_color = 'rgb(89, 89, 89)',
                title_font_size=18,
                title_x=0.17,
                xaxis_title='Area(sq Km)',
                yaxis_title='Count',
                margin=dict(l=0.01, r=50, b=50, t = 50)
        )

fig.show()

# Fit the linear regression model
model = sm.OLS(y, sm.add_constant(x))  # Add constant term to the predictor variable
results = model.fit()

# Get the model parameters
slope = results.params[1]
intercept = results.params[0]

# Get the R-squared value
r_squared = results.rsquared

# Get the standard errors
std_errors = results.bse

# Get the p-values
p_values = results.pvalues

# Print the model parameters
print("Slope:", slope)
print("Intercept:", intercept)

# Print the R-squared value
print("R-squared:", r_squared)

# Print the standard errors
print("Standard Errors:", std_errors)

# Print the p-values
print("P-values:", p_values)

print(results.f_test(np.identity(2)))

# Perform an F-test
f_statistic = results.fvalue
p_value = results.f_pvalue

# Print the F-statistic and p-value
print("F-statistic:", f_statistic)
print("p-value:", p_value)

statistical_summaries = {"p-value": results.f_pvalue, "f-value": results.fvalue, "r-squared": results.rsquared}

statistical_summaries = pd.DataFrame(statistical_summaries, index = [0])

display(statistical_summaries.style.hide(axis="index"))



print(px.colors.sequential.Tealgrn)


# Calculate the trendline data
x = np.log10(asia_sorted_by_area["area(sq Km)"])
y = asia_sorted_by_area["count"]
coefficients = np.polyfit(x, y, 1)
trendline_y = np.polyval(coefficients, x) 

# Create the scatter plot
fig = px.scatter(
    asia_sorted_by_area,
    x="area(sq Km)",
    y="count",
    color='country',
    log_x=True

)

# Add the trendline as a line trace
fig.add_trace(go.Scatter(x=10**x, y=trendline_y, mode='lines', name='Trendline', line={"width":3, "color": '#f2c15d'}))  

fig.update_traces(marker={'size': 12})

fig.update_layout(
                {'plot_bgcolor': '#aecadc'},
                title=dict(text='<b>Correlation between country area and number of observations in Asia</b>'),
                title_font_color = 'rgb(89, 89, 89)',
                title_font_size=18,
                title_x=0.17,
                xaxis_title='Area(sq Km)',
                yaxis_title='Count',
                margin=dict(l=0.01, r=50, b=50, t = 50)
        )

fig.show()

# # Fit the linear regression model
# model = sm.OLS(y, sm.add_constant(x))  # Add constant term to the predictor variable
# results = model.fit()

# # Get the model parameters
# slope = results.params[1]
# intercept = results.params[0]

# # Get the R-squared value
# r_squared = results.rsquared

# # Get the standard errors
# std_errors = results.bse

# # Get the p-values
# p_values = results.pvalues

# # Print the model parameters
# print("Slope:", slope)
# print("Intercept:", intercept)

# # Print the R-squared value
# print("R-squared:", r_squared)

# # Print the standard errors
# print("Standard Errors:", std_errors)

# # Print the p-values
# print("P-values:", p_values)

# print(results.f_test(np.identity(2)))

# # Perform an F-test
# f_statistic = results.fvalue
# p_value = results.f_pvalue

# # Print the F-statistic and p-value
# print("F-statistic:", f_statistic)
# print("p-value:", p_value)

# Fit the linear regression model
slope, intercept, r_value, p_value, std_err = scipy.stats.linregress(x, y)

# Calculate additional statistical summaries
if r_value != 1.0:
    f_value = r_value**2 / (1 - r_value**2)
else:
    f_value = np.inf

statistical_summaries = {
    "p-value": p_value,
    "f-value": f_value,
    "r-squared": r_value**2,
    "pearson-r": r_value
}

print(statistical_summaries)


# Calculate the trendline data
x = np.log10(north_america_sorted_by_area["area(sq Km)"])
y = north_america_sorted_by_area["count"]
coefficients = np.polyfit(x, y, 1)
trendline_y = np.polyval(coefficients, x) 

# Create the scatter plot
fig = px.scatter(
    north_america_sorted_by_area,
    x="area(sq Km)",
    y="count",
    color='country',
    log_x=True

)

# Add the trendline as a line trace
fig.add_trace(go.Scatter(x=10**x, y=trendline_y, mode='lines', name='Trendline', line={"width":3, "color": '#f2c15d'}))  

fig.update_traces(marker={'size': 12})

fig.update_layout(
                {'plot_bgcolor': '#aecadc'},
                title=dict(text='<b>Correlation between country area and number of observations in North America</b>'),
                title_font_color = 'rgb(89, 89, 89)',
                title_font_size=18,
                title_x=0.17,
                xaxis_title='Area(sq Km)',
                yaxis_title='Count',
                margin=dict(l=0.01, r=50, b=50, t = 50)
        )

fig.show()

# Fit the linear regression model
model = sm.OLS(y, sm.add_constant(x))  # Add constant term to the predictor variable
results = model.fit()

# Get the model parameters
slope = results.params[1]
intercept = results.params[0]

# Get the R-squared value
r_squared = results.rsquared

# Get the standard errors
std_errors = results.bse

# Get the p-values
p_values = results.pvalues

# Print the model parameters
print("Slope:", slope)
print("Intercept:", intercept)

# Print the R-squared value
print("R-squared:", r_squared)

# Print the standard errors
print("Standard Errors:", std_errors)

# Print the p-values
print("P-values:", p_values)

print(results.f_test(np.identity(2)))

# Perform an F-test
f_statistic = results.fvalue
p_value = results.f_pvalue

# Print the F-statistic and p-value
print("F-statistic:", f_statistic)
print("p-value:", p_value)



# Calculate the trendline data
x = np.log10(africa_sorted_by_area["area(sq Km)"])
y = africa_sorted_by_area["count"]
coefficients = np.polyfit(x, y, 1)
trendline_y = np.polyval(coefficients, x) 

# Create the scatter plot
fig = px.scatter(
    africa_sorted_by_area,
    x="area(sq Km)",
    y="count",
    color='country',
    log_x=True

)

# Add the trendline as a line trace
fig.add_trace(go.Scatter(x=10**x, y=trendline_y, mode='lines', name='Trendline', line={"width":3, "color": '#f2c15d'}))  

fig.update_traces(marker={'size': 12})

fig.update_layout(
                {'plot_bgcolor': '#aecadc'},
                title=dict(text='<b>Correlation between country area and number of observations in Africa</b>'),
                title_font_color = 'rgb(89, 89, 89)',
                title_font_size=18,
                title_x=0.17,
                xaxis_title='Area(sq Km)',
                yaxis_title='Count',
                margin=dict(l=0.01, r=50, b=50, t = 50)
        )

fig.show()

# Fit the linear regression model
model = sm.OLS(y, sm.add_constant(x))  # Add constant term to the predictor variable
results = model.fit()

# Get the model parameters
slope = results.params[1]
intercept = results.params[0]

# Get the R-squared value
r_squared = results.rsquared

# Get the standard errors
std_errors = results.bse

# Get the p-values
p_values = results.pvalues

# Print the model parameters
print("Slope:", slope)
print("Intercept:", intercept)

# Print the R-squared value
print("R-squared:", r_squared)

# Print the standard errors
print("Standard Errors:", std_errors)

# Print the p-values
print("P-values:", p_values)

print(results.f_test(np.identity(2)))

# Perform an F-test
f_statistic = results.fvalue
p_value = results.f_pvalue

# Print the F-statistic and p-value
print("F-statistic:", f_statistic)
print("p-value:", p_value)



# Calculate the trendline data
x = np.log10(south_america_sorted_by_area["area(sq Km)"])
y = south_america_sorted_by_area["count"]
coefficients = np.polyfit(x, y, 1)
trendline_y = np.polyval(coefficients, x) 

# Create the scatter plot
fig = px.scatter(
    south_america_sorted_by_area,
    x="area(sq Km)",
    y="count",
    color='country',
    log_x=True

)

# Add the trendline as a line trace
fig.add_trace(go.Scatter(x=10**x, y=trendline_y, mode='lines', name='Trendline', line={"width":3, "color": '#f2c15d'}))  

fig.update_traces(marker={'size': 12})

fig.update_layout(
                {'plot_bgcolor': '#aecadc'},
                title=dict(text='<b>Correlation between country area and number of observations in South America</b>'),
                title_font_color = 'rgb(89, 89, 89)',
                title_font_size=18,
                title_x=0.17,
                xaxis_title='Area(sq Km)',
                yaxis_title='Count',
                margin=dict(l=0.01, r=50, b=50, t = 50)
        )

fig.show()

# Fit the linear regression model
model = sm.OLS(y, sm.add_constant(x))  # Add constant term to the predictor variable
results = model.fit()

# Get the model parameters
slope = results.params[1]
intercept = results.params[0]

# Get the R-squared value
r_squared = results.rsquared

# Get the standard errors
std_errors = results.bse

# Get the p-values
p_values = results.pvalues

# Print the model parameters
print("Slope:", slope)
print("Intercept:", intercept)

# Print the R-squared value
print("R-squared:", r_squared)

# Print the standard errors
print("Standard Errors:", std_errors)

# Print the p-values
print("P-values:", p_values)

print(results.f_test(np.identity(2)))

# Perform an F-test
f_statistic = results.fvalue
p_value = results.f_pvalue

# Print the F-statistic and p-value
print("F-statistic:", f_statistic)
print("p-value:", p_value)



# Calculate the trendline data
x = np.log10(oceania_sorted_by_area["area(sq Km)"])
y = oceania_sorted_by_area["count"]
coefficients = np.polyfit(x, y, 1)
trendline_y = np.polyval(coefficients, x) 

# Create the scatter plot
fig = px.scatter(
    oceania_sorted_by_area,
    x="area(sq Km)",
    y="count",
    color='country',
    log_x=True

)

# Add the trendline as a line trace
fig.add_trace(go.Scatter(x=10**x, y=trendline_y, mode='lines', name='Trendline', line={"width":3, "color": '#f2c15d'}))  

fig.update_traces(marker={'size': 12})

fig.update_layout(
                {'plot_bgcolor': '#aecadc'},
                title=dict(text='<b>Correlation between country area and number of observations in Oceania</b>'),
                title_font_color = 'rgb(89, 89, 89)',
                title_font_size=18,
                title_x=0.17,
                xaxis_title='Area(sq Km)',
                yaxis_title='Count',
                margin=dict(l=0.01, r=50, b=50, t = 50)
        )

fig.show()

# Fit the linear regression model
model = sm.OLS(y, sm.add_constant(x))  # Add constant term to the predictor variable
results = model.fit()

# Get the model parameters
slope = results.params[1]
intercept = results.params[0]

# Get the R-squared value
r_squared = results.rsquared

# Get the standard errors
std_errors = results.bse

# Get the p-values
p_values = results.pvalues

# Print the model parameters
print("Slope:", slope)
print("Intercept:", intercept)

# Print the R-squared value
print("R-squared:", r_squared)

# Print the standard errors
print("Standard Errors:", std_errors)

# Print the p-values
print("P-values:", p_values)

print(results.f_test(np.identity(2)))

# Perform an F-test
f_statistic = results.fvalue
p_value = results.f_pvalue

# Print the F-statistic and p-value
print("F-statistic:", f_statistic)
print("p-value:", p_value)






# Calculate the trendline data
x = np.log10(grouped_by_region["area(sq Km)"])
y = grouped_by_region["count"]
coefficients = np.polyfit(x, y, 1)
trendline_y = np.polyval(coefficients, x) 

grouped_by_region_sorted_by_area = grouped_by_region.sort_values(by='area(sq Km)', ascending=False)

# Create the scatter plot
fig = px.scatter(
    grouped_by_region_sorted_by_area,
    x="area(sq Km)",
    y="count",
    color='country',
    log_x=True

)

# Add the trendline as a line trace
fig.add_trace(go.Scatter(x=10**x, y=trendline_y, mode='lines', name='Trendline', line={"width":3, "color": '#f2c15d'}))  

fig.update_traces(marker={'size': 12})

fig.update_layout(
                {'plot_bgcolor': '#aecadc'},
                title=dict(text='<b>Worldwide correlation between country area and number of observations</b>'),
                title_font_color = 'rgb(89, 89, 89)',
                title_font_size=18,
                title_x=0.17,
                xaxis_title='Area(sq Km)',
                yaxis_title='Count',
                margin=dict(l=0.01, r=50, b=50, t = 50)
        )

fig.show()

# Fit the linear regression model
model = sm.OLS(y, sm.add_constant(x))  # Add constant term to the predictor variable
results = model.fit()

statistical_summaries = {"p-value": results.f_pvalue, "f-value": results.fvalue, "r-squared": results.rsquared, "pearson-r": scipy.stats.pearsonr(x, y)[0]}

statistical_summaries = pd.DataFrame(statistical_summaries, index = [0])

display(statistical_summaries.style.hide(axis="index"))



import scipy.stats

scipy.stats.pearsonr(x, y)[0]


sorted_by_country_name = df_183.sort_values(by = "country")

sorted_by_country_name[sorted_by_country_name["country"] == "Antarctica"]


africa["count"].mean()


import numpy as np
import scipy.stats

# Create sample data
x = np.array([1, 2, 3, 4, 5])
y = np.array([2, 4, 6, 8, 10])

# Fit the linear regression model
slope, intercept, r_value, p_value, std_err = scipy.stats.linregress(x, y)

# Calculate additional statistical summaries
if r_value != 1.0:
    f_value = r_value**2 / (1 - r_value**2)
else:
    f_value = np.inf

statistical_summaries = {
    "p-value": p_value,
    "f-value": f_value,
    "r-squared": r_value**2,
    "pearson-r": r_value
}

print(statistical_summaries)





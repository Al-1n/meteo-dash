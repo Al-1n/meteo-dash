import pandas as pd
import matplotlib.pyplot as plt
import plotly.graph_objects as go
import plotly.express as px
import numpy as np
import re
!pip install pyproj
from pyproj import Proj, transform

# Setting this option will print all collumns of a dataframe
pd.set_option('display.max_columns', 20)
# Setting this option will print all of the data in a feature
pd.set_option('display.max_colwidth', 1000)


fireball_df = pd.read_csv("../Data/cneos_fireball_data.csv")

fireball_df.head()


display(fireball_df["Calculated Total Impact Energy (kt)"].describe())


display(fireball_df[fireball_df["Calculated Total Impact Energy (kt)"] == 440.0])


fireball_df.isna().sum()


filtered_df = fireball_df.dropna(subset = "Velocity (km/s)")

filtered_df.head()


filtered_df["Velocity (km/s)"].describe()


display(filtered_df[filtered_df["Velocity (km/s)"] == 49.0])


display(filtered_df.sort_values(by = "Velocity (km/s)", ascending = False).head(30))


filtered_df["Altitude (km)"].describe()


display(filtered_df.sort_values(by = ["Altitude (km)", "Velocity (km/s)"], ascending = False).head(30))


display(filtered_df.sort_values(by = ["Altitude (km)", "Velocity (km/s)"], ascending = True).head(30))


filtered_df["Calculated Total Impact Energy (kt)"].describe()


filtered_df["vy"].describe()


type(fireball_df['Peak Brightness Date/Time (UT)'][0])


fireball_df['Peak Brightness Date/Time (UT)'] = pd.to_datetime(fireball_df['Peak Brightness Date/Time (UT)'], format='%Y-%m-%d %H:%M:%S')


fireball_df['year'], fireball_df['month'] = fireball_df['Peak Brightness Date/Time (UT)'].dt.year, fireball_df['Peak Brightness Date/Time (UT)'].dt.month

grouped_by_year = fireball_df.groupby(['year'])['Calculated Total Impact Energy (kt)'].count().reset_index(name = 'count').sort_values(by = 'year')

display(grouped_by_year)


grouped_by_year["count"].mean()


fig = go.Figure()

# define the plot
fig.add_trace(go.Scatter(x=grouped_by_year['year'], y=grouped_by_year['count'], mode='lines', 
                         line=dict(width=1.5),
                         hovertemplate='<b>Year:</b> %{x}<br>' +
                                       '<b>Count:</b> %{y}<br><extra></extra>'
                        ))

# set the title
fig.update_layout(title=dict(text='<b style="text-align:center">Variation of radar detections by year <br /> between 1988 and 2022</b>'),
                  title_font_color = 'rgb(89, 89, 89)',
                  title_font_size = 20,
                  font=dict(size=16),
                  xaxis_title='Year',
                  yaxis_title='Count'
                  )                           

# format the ticks to match each decade and rotate the labels
fig.update_xaxes(tickmode='linear', tick0=1830, dtick=10)
fig.update_xaxes(tickangle=45)

fig.show()


distance_between_minimas = np.array([4, 3, 6, 6, 4, 4]) #the distance between the years where the # of detections dips

print('The distance between the years where the # of detections dips is ', np.mean(distance_between_minimas))

distance_between_maximas = np.array([4, 5, 3, 2, 2, 3, 4])

print('The distance between the years where the # of detections peaks is ', round(np.mean(distance_between_maximas),1))





grouped_by_month = fireball_df.groupby(['month'])['Calculated Total Impact Energy (kt)'].count().reset_index(name = 'count').sort_values(by = 'month')

display(grouped_by_month)


fig = go.Figure()

# define the plot
fig.add_trace(go.Scatter(x=grouped_by_month['month'], y=grouped_by_month['count'], mode='lines', 
                         line=dict(width=1.5),
                         hovertemplate='<b>Month:</b> %{x}<br>' +
                                       '<b>Count:</b> %{y}<br><extra></extra>'
                        ))

# set the title
fig.update_layout(title=dict(text='<b style="text-align:center">Variation of radar detections by month <br /> between 1988 and 2022</b>'),
                  title_font_color = 'rgb(89, 89, 89)',
                  title_font_size = 20,
                  font=dict(size=16),
                  xaxis_title='Month',
                  yaxis_title='Count',
                  xaxis = dict(
                      tickmode = 'linear',
                      tickvals = [1, 2, 3, 4, 5, 6, 7, 8, 9, 10, 11, 12],
                      ticktext = ['January', 'February', 'March', 
                                  'April', 'May', 'June', 'July', 
                                  'August', 'September', 'October', 
                                  'November', 'December']
                  ))                           

# format the ticks to match each decade and rotate the labels
fig.update_xaxes(tickmode='linear', tick0=1830, dtick=10)
fig.update_xaxes(tickangle=45)

fig.show()





fireball_df['Latitude (deg.)'].info()


import pandas as pd
from pyproj import Proj, transform
import numpy as np
import re

def convert_coordinates_to_decimal(df):
    # Extract numeric values and direction (N/S or E/W) from latitude and longitude columns
    coord_pattern = r'(?P<value>[\d.]+)(?P<dir>[NSWE])'

    # Function to convert coordinates using pyproj
    def convert_coordinate(value, direction):
        if pd.isna(value):
            return np.nan
        else:
            match = re.match(coord_pattern, value)
            if match:
                decimal_value = float(match.group('value'))
                if match.group('dir') in ('S', 'W'):
                    decimal_value *= -1
                return decimal_value
            else:
                return np.nan

    # Convert coordinates using pyproj
    df['latitude_decimal'] = df['Latitude (deg.)'].apply(lambda x: convert_coordinate(x, 'lat'))
    df['longitude_decimal'] = df['Longitude (deg.)'].apply(lambda x: convert_coordinate(x, 'lon'))

    return df

fireball_df = convert_coordinates_to_decimal(fireball_df)


fireball_df.head()


# Create a color scale for mass
color_scale = px.colors.sequential.Plasma 

fig = px.scatter_geo(
        fireball_df,
        lon='longitude_decimal',
        lat='latitude_decimal',
        color = 'Altitude (km)',
        color_continuous_scale=color_scale,  
        template='plotly_dark',
        projection='equirectangular',
        scope='world'
)

# update layout
fig.update_layout(margin={'r':0, 't':0, 'b':0, 'l':0})  # maximize the figure size

fig.show()


#Extract the year in a separate column
fireball_df['year'] = pd.to_datetime(fireball_df['Peak Brightness Date/Time (UT)']).dt.year

fireball_df.head(56)


filtered_by_year_2022 = fireball_df[fireball_df['year'] == 2022]


# Create a color scale for mass
color_scale = px.colors.sequential.Plasma 

fig = px.scatter_geo(
        filtered_by_year_2022,
        lon='longitude_decimal',
        lat='latitude_decimal',
        color = 'Altitude (km)',
        color_continuous_scale=color_scale,  
        template='plotly_dark',
        projection='equirectangular',
        scope='world'
)

# update layout
fig.update_layout(margin={'r':0, 't':0, 'b':0, 'l':0})  # maximize the figure size

fig.show()


fireball_df.dropna(subset=['Latitude (deg.)', 'Longitude (deg.)'], axis = 0, inplace = True)


# #get the country and continent name from the coordinates
# !pip install geopy pycountry-convert tqdm -q

# from geopy.geocoders import Nominatim
# from geopy.extra.rate_limiter import RateLimiter
# import pycountry_convert as pc

# from pprint import pprint
# from typing import Tuple

# from tqdm import tqdm
# tqdm.pandas()

# def get_continent_name(continent_code: str) -> str:
#     continent_dict = {
#         "NA": "North America",
#         "SA": "South America",
#         "AS": "Asia",
#         "AF": "Africa",
#         "OC": "Oceania",
#         "EU": "Europe",
#         "AQ" : "Antarctica"
#     }
#     return continent_dict[continent_code]

# def get_continent(lat: float, lon: float) -> Tuple[str, str]:
#     geolocator = Nominatim(user_agent="alin.airinei924@gmail.com", timeout=10)
#     geocode = RateLimiter(geolocator.reverse, min_delay_seconds=1)

#     location = geocode(f"{lat}, {lon}", language="en")

#     # for cases where the location is not found, coordinates are antarctica
#     if location is None:
#         return "International", "International"

#     # extract country code
#     address = location.raw['address']
#     country_code = address['country_code'].upper()

#     # get continent code from country code
#     continent_code = pc.country_alpha2_to_continent_code(country_code)
    
#     #convert code to names
#     continent_name = get_continent_name(continent_code)
#     country_name = pc.country_alpha2_to_country_name(country_code)
    
#     return country_name, continent_name

# fireball_df[["country", "continent"]] = fireball_df.progress_apply(
#     lambda x: get_continent(x["latitude_decimal"], x["longitude_decimal"]), axis=1, result_type="expand")


fireball_df.tail(30)


#fireball_df.to_csv('./Data/fireball_data.csv')


#Create a frame of matched pairs of recovered mass and impact energy
#from the comparison of the meteorite landing and fireball datasets

matched_pairs = {
    "Impact Energy (kt)": [2.4, 0.098, 4.6, 0.41, 1, 0.41, 0.076, 0.44, 440],
    "mass (g)": [10000, 633, 6669.2, 18000, 3950, 41000, 270, 4300, 1000000]
    
}

em_pairs = pd.DataFrame(matched_pairs)

em_pairs


em_pairs.sort_values(by = "Impact Energy (kt)", inplace = True)

em_pairs


fig = go.Figure()

# define the plot
fig.add_trace(go.Scatter(x = em_pairs['Impact Energy (kt)'], y = em_pairs['mass (g)'], mode = "markers",
                         hovertemplate='<b>Impact Energy (kt):</b> %{x}<br>' +
                                       '<b>mass (g):</b> %{y}<br><extra></extra>'
                        ))

# set the title
fig.update_layout(title=dict(text='<b style="text-align:center">Dependence of recovered mass on impact energy</b>'),
                  title_font_color = 'green',
                  title_font_size = 16,
                  title_x = 0.1,
                  title_y = 0.8,
                  font=dict(size=16),
                  xaxis_title='Impact Energy (kt)',
                  yaxis_title='Mass (g)',
                  margin=dict(l=0, r=0, b=20, t = 30),
                  height = 250,
                  #width = 400,
                  shapes=[go.layout.Shape(
                        type='rect',
                        xref='paper',
                        yref='paper',
                        x0=-0.05,
                        y0=-0.3,
                        x1=1.0,
                        y1=1.02,
                        line={'width': 1, 'color': 'rgb(89, 89, 89)'}
                        )]
                  )                           

# format the ticks to match each decade and rotate the labels
#fig.update_xaxes(tickmode='linear', tick0=1830, dtick=10)
fig.update_xaxes(tickangle=45)
fig.update_xaxes(type="log")

fig.show()




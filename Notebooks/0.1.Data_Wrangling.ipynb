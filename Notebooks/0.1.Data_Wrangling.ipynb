{
 "cells": [
  {
   "cell_type": "code",
   "execution_count": 1,
   "id": "2afcee44-109b-4d41-aa87-bedf7124ba38",
   "metadata": {},
   "outputs": [],
   "source": [
    "#import libraries\n",
    "import pandas as pd\n",
    "import numpy as np\n",
    "\n",
    "\n",
    "# Setting this option will print all collumns of a dataframe\n",
    "pd.set_option('display.max_columns', 20)\n",
    "# Setting this option will print all of the data in a feature\n",
    "pd.set_option('display.max_colwidth', 1000)"
   ]
  },
  {
   "cell_type": "code",
   "execution_count": 2,
   "id": "2e85237d-ca5f-4402-b742-7b843294a52b",
   "metadata": {},
   "outputs": [],
   "source": [
    "#load the csv\n",
    "met_df = pd.read_csv('../Data/Meteorite_Landings.csv')"
   ]
  },
  {
   "cell_type": "code",
   "execution_count": 3,
   "id": "4d5d36c3-f10b-49d5-8c6a-700e0e62cba8",
   "metadata": {},
   "outputs": [
    {
     "data": {
      "text/html": [
       "<div>\n",
       "<style scoped>\n",
       "    .dataframe tbody tr th:only-of-type {\n",
       "        vertical-align: middle;\n",
       "    }\n",
       "\n",
       "    .dataframe tbody tr th {\n",
       "        vertical-align: top;\n",
       "    }\n",
       "\n",
       "    .dataframe thead th {\n",
       "        text-align: right;\n",
       "    }\n",
       "</style>\n",
       "<table border=\"1\" class=\"dataframe\">\n",
       "  <thead>\n",
       "    <tr style=\"text-align: right;\">\n",
       "      <th></th>\n",
       "      <th>name</th>\n",
       "      <th>id</th>\n",
       "      <th>nametype</th>\n",
       "      <th>recclass</th>\n",
       "      <th>mass (g)</th>\n",
       "      <th>fall</th>\n",
       "      <th>year</th>\n",
       "      <th>reclat</th>\n",
       "      <th>reclong</th>\n",
       "      <th>GeoLocation</th>\n",
       "    </tr>\n",
       "  </thead>\n",
       "  <tbody>\n",
       "    <tr>\n",
       "      <th>0</th>\n",
       "      <td>Aachen</td>\n",
       "      <td>1</td>\n",
       "      <td>Valid</td>\n",
       "      <td>L5</td>\n",
       "      <td>21.0</td>\n",
       "      <td>Fell</td>\n",
       "      <td>1880.0</td>\n",
       "      <td>50.77500</td>\n",
       "      <td>6.08333</td>\n",
       "      <td>(50.775, 6.08333)</td>\n",
       "    </tr>\n",
       "    <tr>\n",
       "      <th>1</th>\n",
       "      <td>Aarhus</td>\n",
       "      <td>2</td>\n",
       "      <td>Valid</td>\n",
       "      <td>H6</td>\n",
       "      <td>720.0</td>\n",
       "      <td>Fell</td>\n",
       "      <td>1951.0</td>\n",
       "      <td>56.18333</td>\n",
       "      <td>10.23333</td>\n",
       "      <td>(56.18333, 10.23333)</td>\n",
       "    </tr>\n",
       "    <tr>\n",
       "      <th>2</th>\n",
       "      <td>Abee</td>\n",
       "      <td>6</td>\n",
       "      <td>Valid</td>\n",
       "      <td>EH4</td>\n",
       "      <td>107000.0</td>\n",
       "      <td>Fell</td>\n",
       "      <td>1952.0</td>\n",
       "      <td>54.21667</td>\n",
       "      <td>-113.00000</td>\n",
       "      <td>(54.21667, -113.0)</td>\n",
       "    </tr>\n",
       "    <tr>\n",
       "      <th>3</th>\n",
       "      <td>Acapulco</td>\n",
       "      <td>10</td>\n",
       "      <td>Valid</td>\n",
       "      <td>Acapulcoite</td>\n",
       "      <td>1914.0</td>\n",
       "      <td>Fell</td>\n",
       "      <td>1976.0</td>\n",
       "      <td>16.88333</td>\n",
       "      <td>-99.90000</td>\n",
       "      <td>(16.88333, -99.9)</td>\n",
       "    </tr>\n",
       "    <tr>\n",
       "      <th>4</th>\n",
       "      <td>Achiras</td>\n",
       "      <td>370</td>\n",
       "      <td>Valid</td>\n",
       "      <td>L6</td>\n",
       "      <td>780.0</td>\n",
       "      <td>Fell</td>\n",
       "      <td>1902.0</td>\n",
       "      <td>-33.16667</td>\n",
       "      <td>-64.95000</td>\n",
       "      <td>(-33.16667, -64.95)</td>\n",
       "    </tr>\n",
       "  </tbody>\n",
       "</table>\n",
       "</div>"
      ],
      "text/plain": [
       "       name   id nametype     recclass  mass (g)  fall    year    reclat  \\\n",
       "0    Aachen    1    Valid           L5      21.0  Fell  1880.0  50.77500   \n",
       "1    Aarhus    2    Valid           H6     720.0  Fell  1951.0  56.18333   \n",
       "2      Abee    6    Valid          EH4  107000.0  Fell  1952.0  54.21667   \n",
       "3  Acapulco   10    Valid  Acapulcoite    1914.0  Fell  1976.0  16.88333   \n",
       "4   Achiras  370    Valid           L6     780.0  Fell  1902.0 -33.16667   \n",
       "\n",
       "     reclong           GeoLocation  \n",
       "0    6.08333     (50.775, 6.08333)  \n",
       "1   10.23333  (56.18333, 10.23333)  \n",
       "2 -113.00000    (54.21667, -113.0)  \n",
       "3  -99.90000     (16.88333, -99.9)  \n",
       "4  -64.95000   (-33.16667, -64.95)  "
      ]
     },
     "execution_count": 3,
     "metadata": {},
     "output_type": "execute_result"
    }
   ],
   "source": [
    "met_df.head()"
   ]
  },
  {
   "cell_type": "code",
   "execution_count": 4,
   "id": "b3399040-d295-4412-b168-3c9d6e4f40e0",
   "metadata": {},
   "outputs": [
    {
     "name": "stdout",
     "output_type": "stream",
     "text": [
      "<class 'pandas.core.frame.DataFrame'>\n",
      "RangeIndex: 45716 entries, 0 to 45715\n",
      "Data columns (total 10 columns):\n",
      " #   Column       Non-Null Count  Dtype  \n",
      "---  ------       --------------  -----  \n",
      " 0   name         45716 non-null  object \n",
      " 1   id           45716 non-null  int64  \n",
      " 2   nametype     45716 non-null  object \n",
      " 3   recclass     45716 non-null  object \n",
      " 4   mass (g)     45585 non-null  float64\n",
      " 5   fall         45716 non-null  object \n",
      " 6   year         45425 non-null  float64\n",
      " 7   reclat       38401 non-null  float64\n",
      " 8   reclong      38401 non-null  float64\n",
      " 9   GeoLocation  38401 non-null  object \n",
      "dtypes: float64(4), int64(1), object(5)\n",
      "memory usage: 3.5+ MB\n"
     ]
    }
   ],
   "source": [
    "met_df.info()"
   ]
  },
  {
   "cell_type": "code",
   "execution_count": 5,
   "id": "ad348ea5-eb3b-41bc-9909-acd3e67b5818",
   "metadata": {},
   "outputs": [
    {
     "data": {
      "text/plain": [
       "name              0\n",
       "id                0\n",
       "nametype          0\n",
       "recclass          0\n",
       "mass (g)        131\n",
       "fall              0\n",
       "year            291\n",
       "reclat         7315\n",
       "reclong        7315\n",
       "GeoLocation    7315\n",
       "dtype: int64"
      ]
     },
     "execution_count": 5,
     "metadata": {},
     "output_type": "execute_result"
    }
   ],
   "source": [
    "met_df.isnull().sum()"
   ]
  },
  {
   "cell_type": "code",
   "execution_count": 6,
   "id": "3919024e-7090-47cc-a757-8f372e9caab5",
   "metadata": {},
   "outputs": [],
   "source": [
    "#subset the DataFrame to include only observed events\n",
    "fell_df = met_df[met_df['fall'] == 'Fell']"
   ]
  },
  {
   "cell_type": "code",
   "execution_count": 7,
   "id": "cbd65036-a533-4a66-9980-6f542f93cf9b",
   "metadata": {},
   "outputs": [
    {
     "data": {
      "text/plain": [
       "name            0\n",
       "id              0\n",
       "nametype        0\n",
       "recclass        0\n",
       "mass (g)       32\n",
       "fall            0\n",
       "year            0\n",
       "reclat         10\n",
       "reclong        10\n",
       "GeoLocation    10\n",
       "dtype: int64"
      ]
     },
     "execution_count": 7,
     "metadata": {},
     "output_type": "execute_result"
    }
   ],
   "source": [
    "#check for missing values in the fell category\n",
    "fell_df.isnull().sum()"
   ]
  },
  {
   "cell_type": "code",
   "execution_count": 8,
   "id": "df8ddf8b-68cc-4d13-8dc1-7b983d2911d8",
   "metadata": {},
   "outputs": [
    {
     "name": "stdout",
     "output_type": "stream",
     "text": [
      "\n",
      "Number of observed events: 1107\n",
      "Total number of records: 45716\n",
      "The percentage of observed events is: 2.4215 %\n",
      "\n"
     ]
    }
   ],
   "source": [
    "#compare the number of observed events to the total number of records\n",
    "\n",
    "print()\n",
    "print(\"Number of observed events:\", fell_df.shape[0])\n",
    "print(\"Total number of records:\", met_df.shape[0])\n",
    "print(\"The percentage of observed events is:\", round(len(fell_df.index) / len(met_df.index) * 100, 4), '%')\n",
    "print()"
   ]
  },
  {
   "cell_type": "markdown",
   "id": "e0007edb-27f4-419f-b7c6-ee37bac45ee2",
   "metadata": {},
   "source": [
    "As expected, the majority of the catalogued meteorites are 'found' meteorites which cannot be linked to an actual falling event. As such, the very small sample comprised of actual observations will be usefull for evaluating frequency trends for impacts over the years."
   ]
  },
  {
   "cell_type": "code",
   "execution_count": 9,
   "id": "25eabbbf-e42b-479e-a287-ca7e14315740",
   "metadata": {},
   "outputs": [
    {
     "name": "stdout",
     "output_type": "stream",
     "text": [
      "860.0\n"
     ]
    }
   ],
   "source": [
    "#query the observed records for the earliest event\n",
    "print(fell_df['year'].min())"
   ]
  },
  {
   "cell_type": "markdown",
   "id": "e09e54d7-5897-4a9f-845b-b53fbc0f2387",
   "metadata": {},
   "source": [
    "With dates going back more than 1000 years we will need to figure if they will cause outliers, and possibly require to restrict the data to a period with a more consistent number of recorded observations. "
   ]
  },
  {
   "cell_type": "markdown",
   "id": "903bb43d-e5ad-4ce7-8667-3aa1a0e6a59c",
   "metadata": {},
   "source": [
    "Next, since the names of meteorites are tied to location by naming convention, we check to see if we can impute approximate coordinates for the missing values.  "
   ]
  },
  {
   "cell_type": "code",
   "execution_count": 10,
   "id": "9f35b3c7-fcec-42d5-aaab-87a93b5ae035",
   "metadata": {},
   "outputs": [
    {
     "data": {
      "text/html": [
       "<div>\n",
       "<style scoped>\n",
       "    .dataframe tbody tr th:only-of-type {\n",
       "        vertical-align: middle;\n",
       "    }\n",
       "\n",
       "    .dataframe tbody tr th {\n",
       "        vertical-align: top;\n",
       "    }\n",
       "\n",
       "    .dataframe thead th {\n",
       "        text-align: right;\n",
       "    }\n",
       "</style>\n",
       "<table border=\"1\" class=\"dataframe\">\n",
       "  <thead>\n",
       "    <tr style=\"text-align: right;\">\n",
       "      <th></th>\n",
       "      <th>name</th>\n",
       "      <th>id</th>\n",
       "      <th>nametype</th>\n",
       "      <th>recclass</th>\n",
       "      <th>mass (g)</th>\n",
       "      <th>fall</th>\n",
       "      <th>year</th>\n",
       "      <th>reclat</th>\n",
       "      <th>reclong</th>\n",
       "      <th>GeoLocation</th>\n",
       "    </tr>\n",
       "  </thead>\n",
       "  <tbody>\n",
       "    <tr>\n",
       "      <th>147</th>\n",
       "      <td>Bulls Run</td>\n",
       "      <td>5163</td>\n",
       "      <td>Valid</td>\n",
       "      <td>Iron?</td>\n",
       "      <td>2250.0</td>\n",
       "      <td>Fell</td>\n",
       "      <td>1964.0</td>\n",
       "      <td>NaN</td>\n",
       "      <td>NaN</td>\n",
       "      <td>NaN</td>\n",
       "    </tr>\n",
       "    <tr>\n",
       "      <th>208</th>\n",
       "      <td>Clohars</td>\n",
       "      <td>5383</td>\n",
       "      <td>Valid</td>\n",
       "      <td>L4</td>\n",
       "      <td>48.6</td>\n",
       "      <td>Fell</td>\n",
       "      <td>1822.0</td>\n",
       "      <td>NaN</td>\n",
       "      <td>NaN</td>\n",
       "      <td>NaN</td>\n",
       "    </tr>\n",
       "    <tr>\n",
       "      <th>409</th>\n",
       "      <td>Jalanash</td>\n",
       "      <td>12068</td>\n",
       "      <td>Valid</td>\n",
       "      <td>Ureilite</td>\n",
       "      <td>700.0</td>\n",
       "      <td>Fell</td>\n",
       "      <td>1990.0</td>\n",
       "      <td>NaN</td>\n",
       "      <td>NaN</td>\n",
       "      <td>NaN</td>\n",
       "    </tr>\n",
       "    <tr>\n",
       "      <th>414</th>\n",
       "      <td>Jemlapur</td>\n",
       "      <td>12079</td>\n",
       "      <td>Valid</td>\n",
       "      <td>L6</td>\n",
       "      <td>450.0</td>\n",
       "      <td>Fell</td>\n",
       "      <td>1901.0</td>\n",
       "      <td>NaN</td>\n",
       "      <td>NaN</td>\n",
       "      <td>NaN</td>\n",
       "    </tr>\n",
       "    <tr>\n",
       "      <th>586</th>\n",
       "      <td>Maria Linden</td>\n",
       "      <td>15418</td>\n",
       "      <td>Valid</td>\n",
       "      <td>L4</td>\n",
       "      <td>114.0</td>\n",
       "      <td>Fell</td>\n",
       "      <td>1925.0</td>\n",
       "      <td>NaN</td>\n",
       "      <td>NaN</td>\n",
       "      <td>NaN</td>\n",
       "    </tr>\n",
       "    <tr>\n",
       "      <th>681</th>\n",
       "      <td>Natal</td>\n",
       "      <td>16923</td>\n",
       "      <td>Valid</td>\n",
       "      <td>Stone-uncl</td>\n",
       "      <td>1.4</td>\n",
       "      <td>Fell</td>\n",
       "      <td>1973.0</td>\n",
       "      <td>NaN</td>\n",
       "      <td>NaN</td>\n",
       "      <td>NaN</td>\n",
       "    </tr>\n",
       "    <tr>\n",
       "      <th>694</th>\n",
       "      <td>Niger (L6)</td>\n",
       "      <td>16974</td>\n",
       "      <td>Valid</td>\n",
       "      <td>L6</td>\n",
       "      <td>3.3</td>\n",
       "      <td>Fell</td>\n",
       "      <td>1967.0</td>\n",
       "      <td>NaN</td>\n",
       "      <td>NaN</td>\n",
       "      <td>NaN</td>\n",
       "    </tr>\n",
       "    <tr>\n",
       "      <th>695</th>\n",
       "      <td>Niger (LL6)</td>\n",
       "      <td>16975</td>\n",
       "      <td>Valid</td>\n",
       "      <td>LL6</td>\n",
       "      <td>3.3</td>\n",
       "      <td>Fell</td>\n",
       "      <td>1967.0</td>\n",
       "      <td>NaN</td>\n",
       "      <td>NaN</td>\n",
       "      <td>NaN</td>\n",
       "    </tr>\n",
       "    <tr>\n",
       "      <th>976</th>\n",
       "      <td>Talampaya</td>\n",
       "      <td>23791</td>\n",
       "      <td>Valid</td>\n",
       "      <td>Eucrite-cm</td>\n",
       "      <td>1421.0</td>\n",
       "      <td>Fell</td>\n",
       "      <td>1995.0</td>\n",
       "      <td>NaN</td>\n",
       "      <td>NaN</td>\n",
       "      <td>NaN</td>\n",
       "    </tr>\n",
       "    <tr>\n",
       "      <th>1026</th>\n",
       "      <td>Udaipur</td>\n",
       "      <td>24099</td>\n",
       "      <td>Valid</td>\n",
       "      <td>H3</td>\n",
       "      <td>2000.0</td>\n",
       "      <td>Fell</td>\n",
       "      <td>1976.0</td>\n",
       "      <td>NaN</td>\n",
       "      <td>NaN</td>\n",
       "      <td>NaN</td>\n",
       "    </tr>\n",
       "  </tbody>\n",
       "</table>\n",
       "</div>"
      ],
      "text/plain": [
       "              name     id nametype    recclass  mass (g)  fall    year  \\\n",
       "147      Bulls Run   5163    Valid       Iron?    2250.0  Fell  1964.0   \n",
       "208        Clohars   5383    Valid          L4      48.6  Fell  1822.0   \n",
       "409       Jalanash  12068    Valid    Ureilite     700.0  Fell  1990.0   \n",
       "414       Jemlapur  12079    Valid          L6     450.0  Fell  1901.0   \n",
       "586   Maria Linden  15418    Valid          L4     114.0  Fell  1925.0   \n",
       "681          Natal  16923    Valid  Stone-uncl       1.4  Fell  1973.0   \n",
       "694     Niger (L6)  16974    Valid          L6       3.3  Fell  1967.0   \n",
       "695    Niger (LL6)  16975    Valid         LL6       3.3  Fell  1967.0   \n",
       "976      Talampaya  23791    Valid  Eucrite-cm    1421.0  Fell  1995.0   \n",
       "1026       Udaipur  24099    Valid          H3    2000.0  Fell  1976.0   \n",
       "\n",
       "      reclat  reclong GeoLocation  \n",
       "147      NaN      NaN         NaN  \n",
       "208      NaN      NaN         NaN  \n",
       "409      NaN      NaN         NaN  \n",
       "414      NaN      NaN         NaN  \n",
       "586      NaN      NaN         NaN  \n",
       "681      NaN      NaN         NaN  \n",
       "694      NaN      NaN         NaN  \n",
       "695      NaN      NaN         NaN  \n",
       "976      NaN      NaN         NaN  \n",
       "1026     NaN      NaN         NaN  "
      ]
     },
     "metadata": {},
     "output_type": "display_data"
    }
   ],
   "source": [
    "#displaying the observed records with missing location\n",
    "display(fell_df[fell_df[['reclat', 'reclong']].isna().any(axis=1)])"
   ]
  },
  {
   "cell_type": "code",
   "execution_count": 11,
   "id": "d43f3d88-478d-4d3f-8d72-40c31fc61e0b",
   "metadata": {},
   "outputs": [
    {
     "name": "stdout",
     "output_type": "stream",
     "text": [
      "Int64Index([147], dtype='int64')\n"
     ]
    }
   ],
   "source": [
    "print(fell_df.index[fell_df['name'] == 'Bulls Run'])"
   ]
  },
  {
   "cell_type": "code",
   "execution_count": 12,
   "id": "699dbb75-e767-4aec-80ea-0fc5cab46af2",
   "metadata": {},
   "outputs": [
    {
     "data": {
      "text/plain": [
       "name           Bulls Run\n",
       "id                  5163\n",
       "nametype           Valid\n",
       "recclass           Iron?\n",
       "mass (g)          2250.0\n",
       "fall                Fell\n",
       "year              1964.0\n",
       "reclat               NaN\n",
       "reclong              NaN\n",
       "GeoLocation          NaN\n",
       "Name: 147, dtype: object"
      ]
     },
     "execution_count": 12,
     "metadata": {},
     "output_type": "execute_result"
    }
   ],
   "source": [
    "fell_df.iloc[146]"
   ]
  },
  {
   "cell_type": "markdown",
   "id": "636f2731-6284-4244-98a9-1863906a7e24",
   "metadata": {},
   "source": [
    "There is a discrepancy between the displayed index and the actual (0) index. To avoid imputing the new values in the wrong records an index reset is required."
   ]
  },
  {
   "cell_type": "code",
   "execution_count": 13,
   "id": "0d8de34c-db94-4782-bc55-2e7972028321",
   "metadata": {},
   "outputs": [],
   "source": [
    "#reset the index\n",
    "fell_df.reset_index(drop = True, inplace =True)"
   ]
  },
  {
   "cell_type": "code",
   "execution_count": 14,
   "id": "120153b0-7e18-4e23-a72d-c932da1f6a01",
   "metadata": {},
   "outputs": [
    {
     "name": "stdout",
     "output_type": "stream",
     "text": [
      "Int64Index([146], dtype='int64')\n",
      "name           Bulls Run\n",
      "id                  5163\n",
      "nametype           Valid\n",
      "recclass           Iron?\n",
      "mass (g)          2250.0\n",
      "fall                Fell\n",
      "year              1964.0\n",
      "reclat               NaN\n",
      "reclong              NaN\n",
      "GeoLocation          NaN\n",
      "Name: 146, dtype: object\n"
     ]
    }
   ],
   "source": [
    "#verifiy if the index matches\n",
    "print(fell_df.index[fell_df['name'] == 'Bulls Run'])\n",
    "\n",
    "print(fell_df.iloc[146])"
   ]
  },
  {
   "cell_type": "markdown",
   "id": "a6e2423d-e9fc-4e7e-bcc9-fd0eabb02b04",
   "metadata": {},
   "source": [
    "The 'Bulls Run' meteorite reportedly fell on a farm called Bulls run in South Africa. Currently there is more than one farm with that name in South Africa, so a central region will be imputed as an approximate location. "
   ]
  },
  {
   "cell_type": "code",
   "execution_count": 15,
   "id": "6d0dd4e5-6ad4-4633-859e-677c36c4958a",
   "metadata": {},
   "outputs": [
    {
     "data": {
      "text/plain": [
       "name                       Bulls Run\n",
       "id                              5163\n",
       "nametype                       Valid\n",
       "recclass                       Iron?\n",
       "mass (g)                      2250.0\n",
       "fall                            Fell\n",
       "year                          1964.0\n",
       "reclat                     -29.09845\n",
       "reclong                    22.584989\n",
       "GeoLocation    -29.098450, 22.584989\n",
       "Name: 146, dtype: object"
      ]
     },
     "execution_count": 15,
     "metadata": {},
     "output_type": "execute_result"
    }
   ],
   "source": [
    "#add approximate coordinates for the 'Bulls Run' metetorite\n",
    "\n",
    "pd.options.mode.chained_assignment = None  \n",
    "\n",
    "fell_df.loc[146, 'reclat':'GeoLocation'] = -29.098450, 22.584989, '-29.098450, 22.584989'\n",
    "fell_df.iloc[146]\n",
    "\n"
   ]
  },
  {
   "cell_type": "code",
   "execution_count": 16,
   "id": "27d3354c-25a9-42e9-978d-9f5fb60fea5c",
   "metadata": {},
   "outputs": [
    {
     "data": {
      "text/html": [
       "<div>\n",
       "<style scoped>\n",
       "    .dataframe tbody tr th:only-of-type {\n",
       "        vertical-align: middle;\n",
       "    }\n",
       "\n",
       "    .dataframe tbody tr th {\n",
       "        vertical-align: top;\n",
       "    }\n",
       "\n",
       "    .dataframe thead th {\n",
       "        text-align: right;\n",
       "    }\n",
       "</style>\n",
       "<table border=\"1\" class=\"dataframe\">\n",
       "  <thead>\n",
       "    <tr style=\"text-align: right;\">\n",
       "      <th></th>\n",
       "      <th>name</th>\n",
       "      <th>id</th>\n",
       "      <th>nametype</th>\n",
       "      <th>recclass</th>\n",
       "      <th>mass (g)</th>\n",
       "      <th>fall</th>\n",
       "      <th>year</th>\n",
       "      <th>reclat</th>\n",
       "      <th>reclong</th>\n",
       "      <th>GeoLocation</th>\n",
       "    </tr>\n",
       "  </thead>\n",
       "  <tbody>\n",
       "    <tr>\n",
       "      <th>207</th>\n",
       "      <td>Clohars</td>\n",
       "      <td>5383</td>\n",
       "      <td>Valid</td>\n",
       "      <td>L4</td>\n",
       "      <td>48.6</td>\n",
       "      <td>Fell</td>\n",
       "      <td>1822.0</td>\n",
       "      <td>NaN</td>\n",
       "      <td>NaN</td>\n",
       "      <td>NaN</td>\n",
       "    </tr>\n",
       "    <tr>\n",
       "      <th>408</th>\n",
       "      <td>Jalanash</td>\n",
       "      <td>12068</td>\n",
       "      <td>Valid</td>\n",
       "      <td>Ureilite</td>\n",
       "      <td>700.0</td>\n",
       "      <td>Fell</td>\n",
       "      <td>1990.0</td>\n",
       "      <td>NaN</td>\n",
       "      <td>NaN</td>\n",
       "      <td>NaN</td>\n",
       "    </tr>\n",
       "    <tr>\n",
       "      <th>413</th>\n",
       "      <td>Jemlapur</td>\n",
       "      <td>12079</td>\n",
       "      <td>Valid</td>\n",
       "      <td>L6</td>\n",
       "      <td>450.0</td>\n",
       "      <td>Fell</td>\n",
       "      <td>1901.0</td>\n",
       "      <td>NaN</td>\n",
       "      <td>NaN</td>\n",
       "      <td>NaN</td>\n",
       "    </tr>\n",
       "    <tr>\n",
       "      <th>584</th>\n",
       "      <td>Maria Linden</td>\n",
       "      <td>15418</td>\n",
       "      <td>Valid</td>\n",
       "      <td>L4</td>\n",
       "      <td>114.0</td>\n",
       "      <td>Fell</td>\n",
       "      <td>1925.0</td>\n",
       "      <td>NaN</td>\n",
       "      <td>NaN</td>\n",
       "      <td>NaN</td>\n",
       "    </tr>\n",
       "    <tr>\n",
       "      <th>679</th>\n",
       "      <td>Natal</td>\n",
       "      <td>16923</td>\n",
       "      <td>Valid</td>\n",
       "      <td>Stone-uncl</td>\n",
       "      <td>1.4</td>\n",
       "      <td>Fell</td>\n",
       "      <td>1973.0</td>\n",
       "      <td>NaN</td>\n",
       "      <td>NaN</td>\n",
       "      <td>NaN</td>\n",
       "    </tr>\n",
       "    <tr>\n",
       "      <th>692</th>\n",
       "      <td>Niger (L6)</td>\n",
       "      <td>16974</td>\n",
       "      <td>Valid</td>\n",
       "      <td>L6</td>\n",
       "      <td>3.3</td>\n",
       "      <td>Fell</td>\n",
       "      <td>1967.0</td>\n",
       "      <td>NaN</td>\n",
       "      <td>NaN</td>\n",
       "      <td>NaN</td>\n",
       "    </tr>\n",
       "    <tr>\n",
       "      <th>693</th>\n",
       "      <td>Niger (LL6)</td>\n",
       "      <td>16975</td>\n",
       "      <td>Valid</td>\n",
       "      <td>LL6</td>\n",
       "      <td>3.3</td>\n",
       "      <td>Fell</td>\n",
       "      <td>1967.0</td>\n",
       "      <td>NaN</td>\n",
       "      <td>NaN</td>\n",
       "      <td>NaN</td>\n",
       "    </tr>\n",
       "    <tr>\n",
       "      <th>972</th>\n",
       "      <td>Talampaya</td>\n",
       "      <td>23791</td>\n",
       "      <td>Valid</td>\n",
       "      <td>Eucrite-cm</td>\n",
       "      <td>1421.0</td>\n",
       "      <td>Fell</td>\n",
       "      <td>1995.0</td>\n",
       "      <td>NaN</td>\n",
       "      <td>NaN</td>\n",
       "      <td>NaN</td>\n",
       "    </tr>\n",
       "    <tr>\n",
       "      <th>1022</th>\n",
       "      <td>Udaipur</td>\n",
       "      <td>24099</td>\n",
       "      <td>Valid</td>\n",
       "      <td>H3</td>\n",
       "      <td>2000.0</td>\n",
       "      <td>Fell</td>\n",
       "      <td>1976.0</td>\n",
       "      <td>NaN</td>\n",
       "      <td>NaN</td>\n",
       "      <td>NaN</td>\n",
       "    </tr>\n",
       "  </tbody>\n",
       "</table>\n",
       "</div>"
      ],
      "text/plain": [
       "              name     id nametype    recclass  mass (g)  fall    year  \\\n",
       "207        Clohars   5383    Valid          L4      48.6  Fell  1822.0   \n",
       "408       Jalanash  12068    Valid    Ureilite     700.0  Fell  1990.0   \n",
       "413       Jemlapur  12079    Valid          L6     450.0  Fell  1901.0   \n",
       "584   Maria Linden  15418    Valid          L4     114.0  Fell  1925.0   \n",
       "679          Natal  16923    Valid  Stone-uncl       1.4  Fell  1973.0   \n",
       "692     Niger (L6)  16974    Valid          L6       3.3  Fell  1967.0   \n",
       "693    Niger (LL6)  16975    Valid         LL6       3.3  Fell  1967.0   \n",
       "972      Talampaya  23791    Valid  Eucrite-cm    1421.0  Fell  1995.0   \n",
       "1022       Udaipur  24099    Valid          H3    2000.0  Fell  1976.0   \n",
       "\n",
       "      reclat  reclong GeoLocation  \n",
       "207      NaN      NaN         NaN  \n",
       "408      NaN      NaN         NaN  \n",
       "413      NaN      NaN         NaN  \n",
       "584      NaN      NaN         NaN  \n",
       "679      NaN      NaN         NaN  \n",
       "692      NaN      NaN         NaN  \n",
       "693      NaN      NaN         NaN  \n",
       "972      NaN      NaN         NaN  \n",
       "1022     NaN      NaN         NaN  "
      ]
     },
     "metadata": {},
     "output_type": "display_data"
    }
   ],
   "source": [
    "#list the observed records with missing location and normalized indexes\n",
    "display(fell_df[fell_df[['reclat', 'reclong']].isna().any(axis=1)])"
   ]
  },
  {
   "cell_type": "markdown",
   "id": "725c6d09-33cb-4929-b154-150b8613594e",
   "metadata": {},
   "source": [
    "Next, the coordinates for the remaining missing locations will be imputed according to their approximate location. \n",
    "\n",
    "The names of the meteorites are tied to location by naming convention e.g. there is an actual place called Maria-Linden in Eastern Cape, South Africa. It's not certain that this is the actual location of the meteorite with the same name but the coordinates will suffice for retrieving country and continent data.\n",
    "\n",
    "#### Note\n",
    "Niger L6 and LL6 are part of the same object that was seen falling near the village of Koutiaran, Niger. "
   ]
  },
  {
   "cell_type": "code",
   "execution_count": 17,
   "id": "c34d3306-646f-47e1-a29d-e9d9e519640f",
   "metadata": {},
   "outputs": [],
   "source": [
    "#imputing the recommended coordinates (Met. Soc.) for the 'Clohars' meteorite\n",
    "fell_df.loc[[207], 'reclat':'GeoLocation'] = 47.890000, -4.060000, '47.890000, -4.060000'\n",
    "#impute the coordinates of the province of origin for the 'Jalanash' meteorite \n",
    "fell_df.loc[[408], 'reclat':'GeoLocation'] = 48.300000, 89.500000, '48.300000, 89.500000'\n",
    "#impute the coordinates of the province of origin for the 'Jemlapur' meteorite ;\n",
    "fell_df.loc[[413], 'reclat':'GeoLocation'] = 25.300000, 86.500000, '25.3, 86.5'\n",
    "#impute the coordinates for the 'Maria Linden' meteorite \n",
    "fell_df.loc[[584], 'reclat':'GeoLocation'] = -30.250000, 28.483333, '-30.250000, 28.483333'\n",
    "#impute the Natal south african province coordinates for the 'Natal' meteorite \n",
    "fell_df.loc[[679], 'reclat':'GeoLocation'] = -30.57249771, 30.57249771, '-30.57249771, 30.57249771'\n",
    "#Niger L6 and LL6 share the same coordinates\n",
    "fell_df.loc[[692], 'reclat':'GeoLocation'] = 13.71455, 9.15856, '13.71455, 9.15856'\n",
    "fell_df.loc[[693], 'reclat':'GeoLocation'] = 13.71455, 9.15856, '13.71455, 9.15856'\n",
    "#impute the coordinates for the 'Talampaya' meteorite \n",
    "fell_df.loc[[972], 'reclat':'GeoLocation'] = -29.76811, -67.93886, '-29.76811, -67.93886'\n",
    "#impute the coordinates for the 'Udaipur' meteorite \n",
    "fell_df.loc[[1022], 'reclat':'GeoLocation'] = 24.57872, 73.68626, '24.57872, 73.68626'"
   ]
  },
  {
   "cell_type": "code",
   "execution_count": 18,
   "id": "350987ab-4d1b-4a3b-959c-dab7574ed844",
   "metadata": {},
   "outputs": [
    {
     "data": {
      "text/html": [
       "<div>\n",
       "<style scoped>\n",
       "    .dataframe tbody tr th:only-of-type {\n",
       "        vertical-align: middle;\n",
       "    }\n",
       "\n",
       "    .dataframe tbody tr th {\n",
       "        vertical-align: top;\n",
       "    }\n",
       "\n",
       "    .dataframe thead th {\n",
       "        text-align: right;\n",
       "    }\n",
       "</style>\n",
       "<table border=\"1\" class=\"dataframe\">\n",
       "  <thead>\n",
       "    <tr style=\"text-align: right;\">\n",
       "      <th></th>\n",
       "      <th>name</th>\n",
       "      <th>id</th>\n",
       "      <th>nametype</th>\n",
       "      <th>recclass</th>\n",
       "      <th>mass (g)</th>\n",
       "      <th>fall</th>\n",
       "      <th>year</th>\n",
       "      <th>reclat</th>\n",
       "      <th>reclong</th>\n",
       "      <th>GeoLocation</th>\n",
       "    </tr>\n",
       "  </thead>\n",
       "  <tbody>\n",
       "  </tbody>\n",
       "</table>\n",
       "</div>"
      ],
      "text/plain": [
       "Empty DataFrame\n",
       "Columns: [name, id, nametype, recclass, mass (g), fall, year, reclat, reclong, GeoLocation]\n",
       "Index: []"
      ]
     },
     "metadata": {},
     "output_type": "display_data"
    },
    {
     "name": "stdout",
     "output_type": "stream",
     "text": [
      "None\n"
     ]
    },
    {
     "data": {
      "text/plain": [
       "name            0\n",
       "id              0\n",
       "nametype        0\n",
       "recclass        0\n",
       "mass (g)       32\n",
       "fall            0\n",
       "year            0\n",
       "reclat          0\n",
       "reclong         0\n",
       "GeoLocation     0\n",
       "dtype: int64"
      ]
     },
     "execution_count": 18,
     "metadata": {},
     "output_type": "execute_result"
    }
   ],
   "source": [
    "print(display(fell_df[fell_df[['reclat', 'reclong']].isna().any(axis=1)]))\n",
    "\n",
    "fell_df.isna().sum()"
   ]
  },
  {
   "cell_type": "code",
   "execution_count": 19,
   "id": "980020f8-ead5-4295-966f-f16c06fd0e93",
   "metadata": {},
   "outputs": [
    {
     "data": {
      "text/html": [
       "<div>\n",
       "<style scoped>\n",
       "    .dataframe tbody tr th:only-of-type {\n",
       "        vertical-align: middle;\n",
       "    }\n",
       "\n",
       "    .dataframe tbody tr th {\n",
       "        vertical-align: top;\n",
       "    }\n",
       "\n",
       "    .dataframe thead th {\n",
       "        text-align: right;\n",
       "    }\n",
       "</style>\n",
       "<table border=\"1\" class=\"dataframe\">\n",
       "  <thead>\n",
       "    <tr style=\"text-align: right;\">\n",
       "      <th></th>\n",
       "      <th>name</th>\n",
       "      <th>id</th>\n",
       "      <th>nametype</th>\n",
       "      <th>recclass</th>\n",
       "      <th>mass (g)</th>\n",
       "      <th>fall</th>\n",
       "      <th>year</th>\n",
       "      <th>reclat</th>\n",
       "      <th>reclong</th>\n",
       "      <th>GeoLocation</th>\n",
       "    </tr>\n",
       "  </thead>\n",
       "  <tbody>\n",
       "    <tr>\n",
       "      <th>595</th>\n",
       "      <td>Mason Gully</td>\n",
       "      <td>53653</td>\n",
       "      <td>Valid</td>\n",
       "      <td>H5</td>\n",
       "      <td>24.54</td>\n",
       "      <td>Fell</td>\n",
       "      <td>2010.0</td>\n",
       "      <td>0.0</td>\n",
       "      <td>0.00000</td>\n",
       "      <td>(0.0, 0.0)</td>\n",
       "    </tr>\n",
       "    <tr>\n",
       "      <th>609</th>\n",
       "      <td>Meru</td>\n",
       "      <td>15491</td>\n",
       "      <td>Valid</td>\n",
       "      <td>LL6</td>\n",
       "      <td>6000.00</td>\n",
       "      <td>Fell</td>\n",
       "      <td>1945.0</td>\n",
       "      <td>0.0</td>\n",
       "      <td>37.66667</td>\n",
       "      <td>(0.0, 37.66667)</td>\n",
       "    </tr>\n",
       "  </tbody>\n",
       "</table>\n",
       "</div>"
      ],
      "text/plain": [
       "            name     id nametype recclass  mass (g)  fall    year  reclat  \\\n",
       "595  Mason Gully  53653    Valid       H5     24.54  Fell  2010.0     0.0   \n",
       "609         Meru  15491    Valid      LL6   6000.00  Fell  1945.0     0.0   \n",
       "\n",
       "      reclong      GeoLocation  \n",
       "595   0.00000       (0.0, 0.0)  \n",
       "609  37.66667  (0.0, 37.66667)  "
      ]
     },
     "execution_count": 19,
     "metadata": {},
     "output_type": "execute_result"
    }
   ],
   "source": [
    "#Entries with zero values will not work with geopy to generate regional names \n",
    "fell_df.loc[fell_df['reclat'] == 0]"
   ]
  },
  {
   "cell_type": "code",
   "execution_count": 20,
   "id": "13768da0-08c0-41a9-82c0-a192eb13968d",
   "metadata": {},
   "outputs": [
    {
     "data": {
      "text/plain": [
       "name                            Mason Gully\n",
       "id                                    53653\n",
       "nametype                              Valid\n",
       "recclass                                 H5\n",
       "mass (g)                              24.54\n",
       "fall                                   Fell\n",
       "year                                 2010.0\n",
       "reclat                           -30.453609\n",
       "reclong                          127.647202\n",
       "GeoLocation    -30.453609466, 127.647201538\n",
       "Name: 595, dtype: object"
      ]
     },
     "execution_count": 20,
     "metadata": {},
     "output_type": "execute_result"
    }
   ],
   "source": [
    "#Mason Gully coordinate imputation\n",
    "fell_df.loc[[595], 'reclat':'GeoLocation'] = -30.453609466, 127.647201538, '-30.453609466, 127.647201538'\n",
    "fell_df.loc[595]\n"
   ]
  },
  {
   "cell_type": "code",
   "execution_count": 21,
   "id": "7c741ffc-3c3c-408c-857d-5649f94c51a5",
   "metadata": {},
   "outputs": [
    {
     "name": "stderr",
     "output_type": "stream",
     "text": [
      "100%|███████████████████████████████████████| 1107/1107 [09:22<00:00,  1.97it/s]\n"
     ]
    }
   ],
   "source": [
    "#get the country and continent name from the coordinates\n",
    "!pip install geopy pycountry-convert tqdm -q\n",
    "\n",
    "from geopy.geocoders import Nominatim\n",
    "from geopy.extra.rate_limiter import RateLimiter\n",
    "import pycountry_convert as pc\n",
    "\n",
    "from pprint import pprint\n",
    "from typing import Tuple\n",
    "\n",
    "from tqdm import tqdm\n",
    "tqdm.pandas()\n",
    "\n",
    "def get_continent_name(continent_code: str) -> str:\n",
    "    continent_dict = {\n",
    "        \"NA\": \"North America\",\n",
    "        \"SA\": \"South America\",\n",
    "        \"AS\": \"Asia\",\n",
    "        \"AF\": \"Africa\",\n",
    "        \"OC\": \"Oceania\",\n",
    "        \"EU\": \"Europe\",\n",
    "        \"AQ\" : \"Antarctica\"\n",
    "    }\n",
    "    return continent_dict[continent_code]\n",
    "\n",
    "def get_continent(lat: float, lon:float) -> Tuple[str, str]:\n",
    "    geolocator = Nominatim(user_agent=\"alin.airinei924@gmail.com\", timeout=10)\n",
    "    geocode = RateLimiter(geolocator.reverse, min_delay_seconds=1)\n",
    "\n",
    "    location = geocode(f\"{lat}, {lon}\", language=\"en\")\n",
    "\n",
    "    # for cases where the location is not found, coordinates are antarctica\n",
    "    if location is None:\n",
    "        return \"Antarctica\", \"Antarctica\"\n",
    "\n",
    "    # extract country code\n",
    "    address = location.raw['address']\n",
    "    country_code = address['country_code'].upper()\n",
    "\n",
    "    # get continent code from country code\n",
    "    continent_code = pc.country_alpha2_to_continent_code(country_code)\n",
    "    \n",
    "    #convert code to names\n",
    "    continent_name = get_continent_name(continent_code)\n",
    "    country_name = pc.country_alpha2_to_country_name(country_code)\n",
    "    \n",
    "    return country_name, continent_name\n",
    "\n",
    "fell_df[[\"country\", \"continent\"]] = fell_df.progress_apply(\n",
    "    lambda x: get_continent(x[\"reclat\"], x[\"reclong\"]), axis=1, result_type=\"expand\")"
   ]
  },
  {
   "cell_type": "code",
   "execution_count": 22,
   "id": "7b1ae84e-7897-4436-aa25-cf5143a217a6",
   "metadata": {},
   "outputs": [
    {
     "name": "stdout",
     "output_type": "stream",
     "text": [
      "Index(['name', 'id', 'nametype', 'recclass', 'mass (g)', 'fall', 'year',\n",
      "       'reclat', 'reclong', 'GeoLocation', 'country', 'continent'],\n",
      "      dtype='object')\n"
     ]
    },
    {
     "data": {
      "text/html": [
       "<div>\n",
       "<style scoped>\n",
       "    .dataframe tbody tr th:only-of-type {\n",
       "        vertical-align: middle;\n",
       "    }\n",
       "\n",
       "    .dataframe tbody tr th {\n",
       "        vertical-align: top;\n",
       "    }\n",
       "\n",
       "    .dataframe thead th {\n",
       "        text-align: right;\n",
       "    }\n",
       "</style>\n",
       "<table border=\"1\" class=\"dataframe\">\n",
       "  <thead>\n",
       "    <tr style=\"text-align: right;\">\n",
       "      <th></th>\n",
       "      <th>name</th>\n",
       "      <th>id</th>\n",
       "      <th>nametype</th>\n",
       "      <th>recclass</th>\n",
       "      <th>mass (g)</th>\n",
       "      <th>fall</th>\n",
       "      <th>year</th>\n",
       "      <th>reclat</th>\n",
       "      <th>reclong</th>\n",
       "      <th>GeoLocation</th>\n",
       "      <th>country</th>\n",
       "      <th>continent</th>\n",
       "    </tr>\n",
       "  </thead>\n",
       "  <tbody>\n",
       "    <tr>\n",
       "      <th>0</th>\n",
       "      <td>Aachen</td>\n",
       "      <td>1</td>\n",
       "      <td>Valid</td>\n",
       "      <td>L5</td>\n",
       "      <td>21.0</td>\n",
       "      <td>Fell</td>\n",
       "      <td>1880.0</td>\n",
       "      <td>50.77500</td>\n",
       "      <td>6.08333</td>\n",
       "      <td>(50.775, 6.08333)</td>\n",
       "      <td>Germany</td>\n",
       "      <td>Europe</td>\n",
       "    </tr>\n",
       "    <tr>\n",
       "      <th>1</th>\n",
       "      <td>Aarhus</td>\n",
       "      <td>2</td>\n",
       "      <td>Valid</td>\n",
       "      <td>H6</td>\n",
       "      <td>720.0</td>\n",
       "      <td>Fell</td>\n",
       "      <td>1951.0</td>\n",
       "      <td>56.18333</td>\n",
       "      <td>10.23333</td>\n",
       "      <td>(56.18333, 10.23333)</td>\n",
       "      <td>Denmark</td>\n",
       "      <td>Europe</td>\n",
       "    </tr>\n",
       "    <tr>\n",
       "      <th>2</th>\n",
       "      <td>Abee</td>\n",
       "      <td>6</td>\n",
       "      <td>Valid</td>\n",
       "      <td>EH4</td>\n",
       "      <td>107000.0</td>\n",
       "      <td>Fell</td>\n",
       "      <td>1952.0</td>\n",
       "      <td>54.21667</td>\n",
       "      <td>-113.00000</td>\n",
       "      <td>(54.21667, -113.0)</td>\n",
       "      <td>Canada</td>\n",
       "      <td>North America</td>\n",
       "    </tr>\n",
       "    <tr>\n",
       "      <th>3</th>\n",
       "      <td>Acapulco</td>\n",
       "      <td>10</td>\n",
       "      <td>Valid</td>\n",
       "      <td>Acapulcoite</td>\n",
       "      <td>1914.0</td>\n",
       "      <td>Fell</td>\n",
       "      <td>1976.0</td>\n",
       "      <td>16.88333</td>\n",
       "      <td>-99.90000</td>\n",
       "      <td>(16.88333, -99.9)</td>\n",
       "      <td>Mexico</td>\n",
       "      <td>North America</td>\n",
       "    </tr>\n",
       "    <tr>\n",
       "      <th>4</th>\n",
       "      <td>Achiras</td>\n",
       "      <td>370</td>\n",
       "      <td>Valid</td>\n",
       "      <td>L6</td>\n",
       "      <td>780.0</td>\n",
       "      <td>Fell</td>\n",
       "      <td>1902.0</td>\n",
       "      <td>-33.16667</td>\n",
       "      <td>-64.95000</td>\n",
       "      <td>(-33.16667, -64.95)</td>\n",
       "      <td>Argentina</td>\n",
       "      <td>South America</td>\n",
       "    </tr>\n",
       "  </tbody>\n",
       "</table>\n",
       "</div>"
      ],
      "text/plain": [
       "       name   id nametype     recclass  mass (g)  fall    year    reclat  \\\n",
       "0    Aachen    1    Valid           L5      21.0  Fell  1880.0  50.77500   \n",
       "1    Aarhus    2    Valid           H6     720.0  Fell  1951.0  56.18333   \n",
       "2      Abee    6    Valid          EH4  107000.0  Fell  1952.0  54.21667   \n",
       "3  Acapulco   10    Valid  Acapulcoite    1914.0  Fell  1976.0  16.88333   \n",
       "4   Achiras  370    Valid           L6     780.0  Fell  1902.0 -33.16667   \n",
       "\n",
       "     reclong           GeoLocation    country      continent  \n",
       "0    6.08333     (50.775, 6.08333)    Germany         Europe  \n",
       "1   10.23333  (56.18333, 10.23333)    Denmark         Europe  \n",
       "2 -113.00000    (54.21667, -113.0)     Canada  North America  \n",
       "3  -99.90000     (16.88333, -99.9)     Mexico  North America  \n",
       "4  -64.95000   (-33.16667, -64.95)  Argentina  South America  "
      ]
     },
     "metadata": {},
     "output_type": "display_data"
    }
   ],
   "source": [
    "print(fell_df.columns)\n",
    "display(fell_df.head())"
   ]
  },
  {
   "cell_type": "code",
   "execution_count": 23,
   "id": "03170abb-cf1e-457d-89af-e08efe95b199",
   "metadata": {},
   "outputs": [],
   "source": [
    "fell_df.to_csv('./Data/fell.csv')"
   ]
  },
  {
   "cell_type": "code",
   "execution_count": null,
   "id": "df2e5a6e-1f92-4cc8-bede-9a7046cf9ade",
   "metadata": {},
   "outputs": [],
   "source": [
    "display(fell_df[fell_df[['mass (g)',]].isna().any(axis=1)])"
   ]
  },
  {
   "cell_type": "code",
   "execution_count": null,
   "id": "e8abd6d0-8a3e-4b08-af2c-37138f192975",
   "metadata": {},
   "outputs": [],
   "source": []
  }
 ],
 "metadata": {
  "kernelspec": {
   "display_name": "Python 3 (ipykernel)",
   "language": "python",
   "name": "python3"
  },
  "language_info": {
   "codemirror_mode": {
    "name": "ipython",
    "version": 3
   },
   "file_extension": ".py",
   "mimetype": "text/x-python",
   "name": "python",
   "nbconvert_exporter": "python",
   "pygments_lexer": "ipython3",
   "version": "3.11.7"
  },
  "widgets": {
   "application/vnd.jupyter.widget-state+json": {
    "state": {},
    "version_major": 2,
    "version_minor": 0
   }
  }
 },
 "nbformat": 4,
 "nbformat_minor": 5
}
